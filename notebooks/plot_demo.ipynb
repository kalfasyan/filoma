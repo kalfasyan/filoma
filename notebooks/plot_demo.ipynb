{
 "cells": [
  {
   "cell_type": "markdown",
   "id": "731dddfe",
   "metadata": {},
   "source": [
    "# Filoma ML Split Visualization Demo\n",
    "\n",
    "This notebook demonstrates the new visualization capabilities for analyzing ML data splits created with `filoma.ml.split_data`.\n",
    "\n",
    "The plot module provides comprehensive analysis and visualization for:\n",
    "- **Balance Analysis**: Split size distributions and balance assessment\n",
    "- **Feature Distribution**: Analysis of feature distributions across splits\n",
    "- **Leakage Detection**: Identification of potential data leakage between splits\n",
    "- **File Characteristics**: Analysis of file metadata (sizes, extensions, etc.)\n",
    "\n",
    "## Key Features:\n",
    "- 🎨 **Dual Mode**: Interactive plots (with matplotlib/seaborn) or rich text summaries\n",
    "- 🚀 **Lazy Loading**: Fast imports with optional visualization dependencies\n",
    "- 🔍 **Data-Centric**: Focus on data quality and split validation\n",
    "- 🔧 **Non-invasive**: Wrapper pattern that doesn't modify existing ML functionality"
   ]
  },
  {
   "cell_type": "code",
   "execution_count": null,
   "id": "07e759b2",
   "metadata": {},
   "outputs": [],
   "source": [
    "# Standard imports\n",
    "import sys\n",
    "\n",
    "import polars as pl\n",
    "\n",
    "# Add filoma to path (if running from repo)\n",
    "sys.path.insert(0, \"src\")\n",
    "\n",
    "# Import filoma\n",
    "import filoma.plot as plot"
   ]
  },
  {
   "cell_type": "markdown",
   "id": "f6882538",
   "metadata": {},
   "source": [
    "## Check Visualization Availability\n",
    "\n",
    "The plot module gracefully handles missing visualization dependencies:"
   ]
  },
  {
   "cell_type": "code",
   "execution_count": null,
   "id": "df19b587",
   "metadata": {},
   "outputs": [],
   "source": [
    "# Check if visualization is available\n",
    "status = plot.check_plotting_available()\n",
    "print(f\"Plotting available: {status['available']}\")\n",
    "if not status[\"available\"]:\n",
    "    print(f\"Missing packages: {status['missing']}\")\n",
    "    print(\"Install with: pip install 'filoma[viz]'\")\n",
    "    print(\"\\n📋 Text summaries will be provided instead of interactive plots\")\n",
    "else:\n",
    "    print(\"\\n📊 Interactive plots available!\")"
   ]
  },
  {
   "cell_type": "markdown",
   "id": "e5ab0120",
   "metadata": {},
   "source": [
    "## Create Sample Data\n",
    "\n",
    "Let's create sample file data that mimics what filoma would produce:"
   ]
  },
  {
   "cell_type": "code",
   "execution_count": null,
   "id": "9e6935cc",
   "metadata": {},
   "outputs": [],
   "source": [
    "# Create sample file data\n",
    "sample_files = [\n",
    "    {\"path\": \"/data/images/train/cat_001.jpg\", \"size\": 1024000, \"extension\": \"jpg\", \"depth\": 4},\n",
    "    {\"path\": \"/data/images/train/dog_001.jpg\", \"size\": 1536000, \"extension\": \"jpg\", \"depth\": 4},\n",
    "    {\"path\": \"/data/images/train/bird_001.png\", \"size\": 2048000, \"extension\": \"png\", \"depth\": 4},\n",
    "    {\"path\": \"/data/docs/train/readme.txt\", \"size\": 5000, \"extension\": \"txt\", \"depth\": 4},\n",
    "    {\"path\": \"/data/images/val/cat_002.jpg\", \"size\": 1200000, \"extension\": \"jpg\", \"depth\": 4},\n",
    "    {\"path\": \"/data/docs/val/info.pdf\", \"size\": 150000, \"extension\": \"pdf\", \"depth\": 4},\n",
    "    {\"path\": \"/data/images/test/dog_002.png\", \"size\": 1800000, \"extension\": \"png\", \"depth\": 4},\n",
    "    {\"path\": \"/data/images/test/bird_002.jpg\", \"size\": 1300000, \"extension\": \"jpg\", \"depth\": 4},\n",
    "    {\"path\": \"/data/docs/test/results.csv\", \"size\": 75000, \"extension\": \"csv\", \"depth\": 4},\n",
    "]\n",
    "\n",
    "# Convert to Polars DataFrame\n",
    "df = pl.DataFrame(sample_files)\n",
    "\n",
    "# Add some derived features for analysis\n",
    "df = df.with_columns(\n",
    "    [\n",
    "        (pl.col(\"size\") / 1000000).alias(\"size_mb\"),  # Size in MB\n",
    "        pl.when(pl.col(\"extension\") == \"jpg\")\n",
    "        .then(pl.lit(\"image\"))\n",
    "        .when(pl.col(\"extension\") == \"png\")\n",
    "        .then(pl.lit(\"image\"))\n",
    "        .otherwise(pl.lit(\"document\"))\n",
    "        .alias(\"file_type\"),\n",
    "        pl.col(\"path\").str.extract(r\"/(\\w+)/[^/]+$\", 1).alias(\"category\"),\n",
    "    ]\n",
    ")\n",
    "\n",
    "print(\"📁 Sample dataset created:\")\n",
    "print(df)"
   ]
  },
  {
   "cell_type": "markdown",
   "id": "4fa0a354",
   "metadata": {},
   "source": [
    "## Simulate ML Split Creation\n",
    "\n",
    "In a real workflow, you would use `filoma.ml.split_data()`. Here we simulate the result:"
   ]
  },
  {
   "cell_type": "code",
   "execution_count": null,
   "id": "bc87be35",
   "metadata": {},
   "outputs": [],
   "source": [
    "# Split the data (simulating ml.split_data output)\n",
    "train_df = df.filter(pl.col(\"path\").str.contains(\"/train/\"))\n",
    "val_df = df.filter(pl.col(\"path\").str.contains(\"/val/\"))\n",
    "test_df = df.filter(pl.col(\"path\").str.contains(\"/test/\"))\n",
    "\n",
    "# Create the splits tuple (as returned by ml.split_data)\n",
    "splits = (train_df, val_df, test_df)\n",
    "split_names = [\"train\", \"validation\", \"test\"]\n",
    "\n",
    "print(f\"📊 Created splits: {[len(s) for s in splits]} files each\")\n",
    "print(f\"🏷️  Split names: {split_names}\")"
   ]
  },
  {
   "cell_type": "markdown",
   "id": "c3841956",
   "metadata": {},
   "source": [
    "## Initialize Split Analyzer\n",
    "\n",
    "Create the analyzer to begin visualization and analysis:"
   ]
  },
  {
   "cell_type": "code",
   "execution_count": null,
   "id": "4e0e89c5",
   "metadata": {},
   "outputs": [],
   "source": [
    "# Create the split analyzer\n",
    "analyzer = plot.analyze_splits(\n",
    "    splits=splits,\n",
    "    split_names=split_names,\n",
    "    feature=\"size_mb\",  # Feature used for analysis\n",
    "    original_data=df,\n",
    ")\n",
    "\n",
    "print(\"✅ Split analyzer created successfully!\")\n",
    "print(f\"📊 Analyzing {len(analyzer.splits)} splits: {analyzer.split_names}\")"
   ]
  },
  {
   "cell_type": "markdown",
   "id": "ed1b22b5",
   "metadata": {},
   "source": [
    "## 1. Balance Analysis\n",
    "\n",
    "Analyze the distribution of samples across splits:"
   ]
  },
  {
   "cell_type": "code",
   "execution_count": null,
   "id": "2d9d35cc",
   "metadata": {},
   "outputs": [],
   "source": [
    "# Analyze split balance\n",
    "balance_result = analyzer.balance()\n",
    "\n",
    "print(\"\\n📊 Balance Analysis Results:\")\n",
    "for split, count in balance_result.items():\n",
    "    print(f\"  {split}: {count} files\")"
   ]
  },
  {
   "cell_type": "markdown",
   "id": "20cd41ac",
   "metadata": {},
   "source": [
    "## 2. Feature Distribution Analysis\n",
    "\n",
    "Analyze how features are distributed across splits:"
   ]
  },
  {
   "cell_type": "code",
   "execution_count": null,
   "id": "2177d6a0",
   "metadata": {},
   "outputs": [],
   "source": [
    "# Analyze feature distribution\n",
    "feature_result = analyzer.feature_distribution()\n",
    "\n",
    "print(\"\\n📈 Feature Distribution Analysis Complete\")\n",
    "print(f\"Feature analyzed: {analyzer.feature}\")"
   ]
  },
  {
   "cell_type": "markdown",
   "id": "8ae449de",
   "metadata": {},
   "source": [
    "## 3. Data Leakage Detection\n",
    "\n",
    "Check for potential data leakage between splits:"
   ]
  },
  {
   "cell_type": "code",
   "execution_count": null,
   "id": "0c134a9d",
   "metadata": {},
   "outputs": [],
   "source": [
    "# Check for data leakage\n",
    "leakage_result = analyzer.leakage_check()\n",
    "\n",
    "print(\"\\n🔍 Leakage Analysis Complete\")\n",
    "print(\"Check the visualization above for potential issues\")"
   ]
  },
  {
   "cell_type": "markdown",
   "id": "c37a4ea1",
   "metadata": {},
   "source": [
    "## 4. File Characteristics Analysis\n",
    "\n",
    "Analyze file metadata characteristics across splits:"
   ]
  },
  {
   "cell_type": "code",
   "execution_count": null,
   "id": "c8795baf",
   "metadata": {},
   "outputs": [],
   "source": [
    "# Analyze file characteristics\n",
    "char_result = analyzer.characteristics([\"size\", \"extension\", \"file_type\"])\n",
    "\n",
    "print(\"\\n📋 Characteristics Analysis Complete\")\n",
    "print(\"Analyzed: file sizes, extensions, and file types\")"
   ]
  },
  {
   "cell_type": "markdown",
   "id": "df30b952",
   "metadata": {},
   "source": [
    "## 5. Complete Validation Report\n",
    "\n",
    "Get a comprehensive validation summary:"
   ]
  },
  {
   "cell_type": "code",
   "execution_count": null,
   "id": "7cac0054",
   "metadata": {},
   "outputs": [],
   "source": [
    "# Get complete validation report\n",
    "validation_result = analyzer.validate()\n",
    "\n",
    "print(\"\\n🎯 Complete Validation Summary:\")\n",
    "for check, status in validation_result.items():\n",
    "    emoji = \"✅\" if status.get(\"passed\", False) else \"⚠️\"\n",
    "    print(f\"  {emoji} {check}: {status.get('message', 'Unknown')}\")"
   ]
  },
  {
   "cell_type": "markdown",
   "id": "3e0a6c28",
   "metadata": {},
   "source": [
    "## Summary\n",
    "\n",
    "This notebook demonstrated the key capabilities of filoma's new plot module:\n",
    "\n",
    "### ✅ **Completed Features:**\n",
    "- **Balance Analysis**: Visual and statistical assessment of split distributions\n",
    "- **Feature Distribution**: Cross-split feature analysis with distribution plots\n",
    "- **Leakage Detection**: Comprehensive data leakage analysis with heatmaps\n",
    "- **Characteristics Analysis**: File metadata analysis with flexible visualization\n",
    "- **Validation Pipeline**: Automated quality checks and reporting\n",
    "\n",
    "### 🎨 **Visualization Modes:**\n",
    "- **Interactive**: Full matplotlib/seaborn plots when dependencies are available\n",
    "- **Text Mode**: Rich formatted summaries when plotting libraries are missing\n",
    "- **Graceful Fallback**: Seamless experience regardless of environment\n",
    "\n",
    "### 🚀 **Integration:**\n",
    "- **Non-invasive**: Works as a wrapper around existing `filoma.ml.split_data` results\n",
    "- **Lazy Loading**: Fast imports with optional visualization dependencies\n",
    "- **Data-Centric**: Focus on ML data quality and validation workflows\n",
    "\n",
    "The plot module enhances filoma's ML capabilities by providing comprehensive tools for evaluating and validating data splits - a critical component of robust ML pipelines."
   ]
  }
 ],
 "metadata": {
  "kernelspec": {
   "display_name": "filoma (3.11.11)",
   "language": "python",
   "name": "python3"
  },
  "language_info": {
   "codemirror_mode": {
    "name": "ipython",
    "version": 3
   },
   "file_extension": ".py",
   "mimetype": "text/x-python",
   "name": "python",
   "nbconvert_exporter": "python",
   "pygments_lexer": "ipython3",
   "version": "3.11.11"
  }
 },
 "nbformat": 4,
 "nbformat_minor": 5
}
