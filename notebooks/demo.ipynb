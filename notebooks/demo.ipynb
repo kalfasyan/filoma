{
 "cells": [
  {
   "cell_type": "markdown",
   "id": "da1ba4ff",
   "metadata": {},
   "source": [
    "# 🚀 filoma demo\n",
    "\n",
    "Fast, multi-backend file analysis with a tiny API surface"
   ]
  },
  {
   "cell_type": "code",
   "execution_count": 1,
   "id": "3c9cfc6f",
   "metadata": {},
   "outputs": [
    {
     "name": "stdout",
     "output_type": "stream",
     "text": [
      "filoma version: 1.7.3\n"
     ]
    }
   ],
   "source": [
    "import filoma\n",
    "\n",
    "print(f\"filoma version: {filoma.__version__}\")"
   ]
  },
  {
   "cell_type": "markdown",
   "id": "cc9779c9",
   "metadata": {},
   "source": [
    "# 🔍📁 Directory Analysis"
   ]
  },
  {
   "cell_type": "markdown",
   "id": "ac938f14",
   "metadata": {},
   "source": [
    "Do you want to analyze a directory of files and extract metadata, text content, and other useful information?   \n",
    "`filoma` makes it super easy to do so with just a few lines of code."
   ]
  },
  {
   "cell_type": "code",
   "execution_count": 2,
   "id": "0b115872",
   "metadata": {},
   "outputs": [
    {
     "name": "stderr",
     "output_type": "stream",
     "text": [
      "\u001b[32m2025-09-11 19:03:32.507\u001b[0m | \u001b[34m\u001b[1mDEBUG   \u001b[0m | \u001b[36mfiloma.directories.directory_profiler\u001b[0m:\u001b[36m__init__\u001b[0m:\u001b[36m343\u001b[0m - \u001b[34m\u001b[1mInteractive environment detected, disabling progress bars to avoid conflicts\u001b[0m\n",
      "\u001b[32m2025-09-11 19:03:32.508\u001b[0m | \u001b[1mINFO    \u001b[0m | \u001b[36mfiloma.directories.directory_profiler\u001b[0m:\u001b[36mprobe\u001b[0m:\u001b[36m430\u001b[0m - \u001b[1mStarting directory analysis of '../' using 🦀 Rust (Parallel) implementation\u001b[0m\n",
      "\u001b[32m2025-09-11 19:03:33.101\u001b[0m | \u001b[32m\u001b[1mSUCCESS \u001b[0m | \u001b[36mfiloma.directories.directory_profiler\u001b[0m:\u001b[36mprobe\u001b[0m:\u001b[36m446\u001b[0m - \u001b[32m\u001b[1mDirectory analysis completed in 0.59s - Found 60,064 items (56,626 files, 3,438 folders) using 🦀 Rust (Parallel)\u001b[0m\n"
     ]
    },
    {
     "data": {
      "text/html": [
       "<pre style=\"white-space:pre;overflow-x:auto;line-height:normal;font-family:Menlo,'DejaVu Sans Mono',consolas,'Courier New',monospace\"><span style=\"font-style: italic\"> Directory Analysis: /home/kalfasy/repos/filoma (🦀  </span>\n",
       "<span style=\"font-style: italic\">              Rust (Parallel)) - 0.59s               </span>\n",
       "┏━━━━━━━━━━━━━━━━━━━━━━━━━━┳━━━━━━━━━━━━━━━━━━━━━━━━┓\n",
       "┃<span style=\"font-weight: bold\"> Metric                   </span>┃<span style=\"font-weight: bold\"> Value                  </span>┃\n",
       "┡━━━━━━━━━━━━━━━━━━━━━━━━━━╇━━━━━━━━━━━━━━━━━━━━━━━━┩\n",
       "│<span style=\"color: #008080; text-decoration-color: #008080; font-weight: bold\"> Total Files              </span>│<span style=\"color: #c0c0c0; text-decoration-color: #c0c0c0\"> 56,626                 </span>│\n",
       "│<span style=\"color: #008080; text-decoration-color: #008080; font-weight: bold\"> Total Folders            </span>│<span style=\"color: #c0c0c0; text-decoration-color: #c0c0c0\"> 3,438                  </span>│\n",
       "│<span style=\"color: #008080; text-decoration-color: #008080; font-weight: bold\"> Total Size               </span>│<span style=\"color: #c0c0c0; text-decoration-color: #c0c0c0\"> 1,810.2278747558594 MB </span>│\n",
       "│<span style=\"color: #008080; text-decoration-color: #008080; font-weight: bold\"> Average Files per Folder </span>│<span style=\"color: #c0c0c0; text-decoration-color: #c0c0c0\"> 16.47062245491565      </span>│\n",
       "│<span style=\"color: #008080; text-decoration-color: #008080; font-weight: bold\"> Maximum Depth            </span>│<span style=\"color: #c0c0c0; text-decoration-color: #c0c0c0\"> 14                     </span>│\n",
       "│<span style=\"color: #008080; text-decoration-color: #008080; font-weight: bold\"> Empty Folders            </span>│<span style=\"color: #c0c0c0; text-decoration-color: #c0c0c0\"> 53                     </span>│\n",
       "│<span style=\"color: #008080; text-decoration-color: #008080; font-weight: bold\"> Analysis Time            </span>│<span style=\"color: #c0c0c0; text-decoration-color: #c0c0c0\"> 0.59s                  </span>│\n",
       "│<span style=\"color: #008080; text-decoration-color: #008080; font-weight: bold\"> Processing Speed         </span>│<span style=\"color: #c0c0c0; text-decoration-color: #c0c0c0\"> 101,193 items/sec      </span>│\n",
       "└──────────────────────────┴────────────────────────┘\n",
       "</pre>\n"
      ],
      "text/plain": [
       "\u001b[3m Directory Analysis: /home/kalfasy/repos/filoma (🦀  \u001b[0m\n",
       "\u001b[3m              Rust (Parallel)) - 0.59s               \u001b[0m\n",
       "┏━━━━━━━━━━━━━━━━━━━━━━━━━━┳━━━━━━━━━━━━━━━━━━━━━━━━┓\n",
       "┃\u001b[1m \u001b[0m\u001b[1mMetric                  \u001b[0m\u001b[1m \u001b[0m┃\u001b[1m \u001b[0m\u001b[1mValue                 \u001b[0m\u001b[1m \u001b[0m┃\n",
       "┡━━━━━━━━━━━━━━━━━━━━━━━━━━╇━━━━━━━━━━━━━━━━━━━━━━━━┩\n",
       "│\u001b[1;36m \u001b[0m\u001b[1;36mTotal Files             \u001b[0m\u001b[1;36m \u001b[0m│\u001b[37m \u001b[0m\u001b[37m56,626                \u001b[0m\u001b[37m \u001b[0m│\n",
       "│\u001b[1;36m \u001b[0m\u001b[1;36mTotal Folders           \u001b[0m\u001b[1;36m \u001b[0m│\u001b[37m \u001b[0m\u001b[37m3,438                 \u001b[0m\u001b[37m \u001b[0m│\n",
       "│\u001b[1;36m \u001b[0m\u001b[1;36mTotal Size              \u001b[0m\u001b[1;36m \u001b[0m│\u001b[37m \u001b[0m\u001b[37m1,810.2278747558594 MB\u001b[0m\u001b[37m \u001b[0m│\n",
       "│\u001b[1;36m \u001b[0m\u001b[1;36mAverage Files per Folder\u001b[0m\u001b[1;36m \u001b[0m│\u001b[37m \u001b[0m\u001b[37m16.47062245491565     \u001b[0m\u001b[37m \u001b[0m│\n",
       "│\u001b[1;36m \u001b[0m\u001b[1;36mMaximum Depth           \u001b[0m\u001b[1;36m \u001b[0m│\u001b[37m \u001b[0m\u001b[37m14                    \u001b[0m\u001b[37m \u001b[0m│\n",
       "│\u001b[1;36m \u001b[0m\u001b[1;36mEmpty Folders           \u001b[0m\u001b[1;36m \u001b[0m│\u001b[37m \u001b[0m\u001b[37m53                    \u001b[0m\u001b[37m \u001b[0m│\n",
       "│\u001b[1;36m \u001b[0m\u001b[1;36mAnalysis Time           \u001b[0m\u001b[1;36m \u001b[0m│\u001b[37m \u001b[0m\u001b[37m0.59s                 \u001b[0m\u001b[37m \u001b[0m│\n",
       "│\u001b[1;36m \u001b[0m\u001b[1;36mProcessing Speed        \u001b[0m\u001b[1;36m \u001b[0m│\u001b[37m \u001b[0m\u001b[37m101,193 items/sec     \u001b[0m\u001b[37m \u001b[0m│\n",
       "└──────────────────────────┴────────────────────────┘\n"
      ]
     },
     "metadata": {},
     "output_type": "display_data"
    },
    {
     "data": {
      "text/html": [
       "<pre style=\"white-space:pre;overflow-x:auto;line-height:normal;font-family:Menlo,'DejaVu Sans Mono',consolas,'Courier New',monospace\">\n",
       "</pre>\n"
      ],
      "text/plain": [
       "\n"
      ]
     },
     "metadata": {},
     "output_type": "display_data"
    }
   ],
   "source": [
    "from filoma.directories import DirectoryProfiler, DirectoryProfilerConfig\n",
    "\n",
    "# Create a profiler using the typed config dataclass\n",
    "config = DirectoryProfilerConfig(use_rust=True)\n",
    "dp1 = DirectoryProfiler(config)\n",
    "\n",
    "analysis = dp1.probe(\"../\")\n",
    "dp1.print_summary(analysis)"
   ]
  },
  {
   "cell_type": "markdown",
   "id": "e86a6d47",
   "metadata": {},
   "source": [
    "Want to quickly see a report of your findings? filoma has you covered."
   ]
  },
  {
   "cell_type": "code",
   "execution_count": 3,
   "id": "fb2f3a50",
   "metadata": {},
   "outputs": [
    {
     "data": {
      "text/html": [
       "<pre style=\"white-space:pre;overflow-x:auto;line-height:normal;font-family:Menlo,'DejaVu Sans Mono',consolas,'Courier New',monospace\"><span style=\"font-style: italic\"> Directory Analysis: /home/kalfasy/repos/filoma (🦀  </span>\n",
       "<span style=\"font-style: italic\">              Rust (Parallel)) - 0.59s               </span>\n",
       "┏━━━━━━━━━━━━━━━━━━━━━━━━━━┳━━━━━━━━━━━━━━━━━━━━━━━━┓\n",
       "┃<span style=\"font-weight: bold\"> Metric                   </span>┃<span style=\"font-weight: bold\"> Value                  </span>┃\n",
       "┡━━━━━━━━━━━━━━━━━━━━━━━━━━╇━━━━━━━━━━━━━━━━━━━━━━━━┩\n",
       "│<span style=\"color: #008080; text-decoration-color: #008080; font-weight: bold\"> Total Files              </span>│<span style=\"color: #c0c0c0; text-decoration-color: #c0c0c0\"> 56,626                 </span>│\n",
       "│<span style=\"color: #008080; text-decoration-color: #008080; font-weight: bold\"> Total Folders            </span>│<span style=\"color: #c0c0c0; text-decoration-color: #c0c0c0\"> 3,438                  </span>│\n",
       "│<span style=\"color: #008080; text-decoration-color: #008080; font-weight: bold\"> Total Size               </span>│<span style=\"color: #c0c0c0; text-decoration-color: #c0c0c0\"> 1,810.2278747558594 MB </span>│\n",
       "│<span style=\"color: #008080; text-decoration-color: #008080; font-weight: bold\"> Average Files per Folder </span>│<span style=\"color: #c0c0c0; text-decoration-color: #c0c0c0\"> 16.47062245491565      </span>│\n",
       "│<span style=\"color: #008080; text-decoration-color: #008080; font-weight: bold\"> Maximum Depth            </span>│<span style=\"color: #c0c0c0; text-decoration-color: #c0c0c0\"> 14                     </span>│\n",
       "│<span style=\"color: #008080; text-decoration-color: #008080; font-weight: bold\"> Empty Folders            </span>│<span style=\"color: #c0c0c0; text-decoration-color: #c0c0c0\"> 53                     </span>│\n",
       "│<span style=\"color: #008080; text-decoration-color: #008080; font-weight: bold\"> Analysis Time            </span>│<span style=\"color: #c0c0c0; text-decoration-color: #c0c0c0\"> 0.59s                  </span>│\n",
       "│<span style=\"color: #008080; text-decoration-color: #008080; font-weight: bold\"> Processing Speed         </span>│<span style=\"color: #c0c0c0; text-decoration-color: #c0c0c0\"> 101,193 items/sec      </span>│\n",
       "└──────────────────────────┴────────────────────────┘\n",
       "</pre>\n"
      ],
      "text/plain": [
       "\u001b[3m Directory Analysis: /home/kalfasy/repos/filoma (🦀  \u001b[0m\n",
       "\u001b[3m              Rust (Parallel)) - 0.59s               \u001b[0m\n",
       "┏━━━━━━━━━━━━━━━━━━━━━━━━━━┳━━━━━━━━━━━━━━━━━━━━━━━━┓\n",
       "┃\u001b[1m \u001b[0m\u001b[1mMetric                  \u001b[0m\u001b[1m \u001b[0m┃\u001b[1m \u001b[0m\u001b[1mValue                 \u001b[0m\u001b[1m \u001b[0m┃\n",
       "┡━━━━━━━━━━━━━━━━━━━━━━━━━━╇━━━━━━━━━━━━━━━━━━━━━━━━┩\n",
       "│\u001b[1;36m \u001b[0m\u001b[1;36mTotal Files             \u001b[0m\u001b[1;36m \u001b[0m│\u001b[37m \u001b[0m\u001b[37m56,626                \u001b[0m\u001b[37m \u001b[0m│\n",
       "│\u001b[1;36m \u001b[0m\u001b[1;36mTotal Folders           \u001b[0m\u001b[1;36m \u001b[0m│\u001b[37m \u001b[0m\u001b[37m3,438                 \u001b[0m\u001b[37m \u001b[0m│\n",
       "│\u001b[1;36m \u001b[0m\u001b[1;36mTotal Size              \u001b[0m\u001b[1;36m \u001b[0m│\u001b[37m \u001b[0m\u001b[37m1,810.2278747558594 MB\u001b[0m\u001b[37m \u001b[0m│\n",
       "│\u001b[1;36m \u001b[0m\u001b[1;36mAverage Files per Folder\u001b[0m\u001b[1;36m \u001b[0m│\u001b[37m \u001b[0m\u001b[37m16.47062245491565     \u001b[0m\u001b[37m \u001b[0m│\n",
       "│\u001b[1;36m \u001b[0m\u001b[1;36mMaximum Depth           \u001b[0m\u001b[1;36m \u001b[0m│\u001b[37m \u001b[0m\u001b[37m14                    \u001b[0m\u001b[37m \u001b[0m│\n",
       "│\u001b[1;36m \u001b[0m\u001b[1;36mEmpty Folders           \u001b[0m\u001b[1;36m \u001b[0m│\u001b[37m \u001b[0m\u001b[37m53                    \u001b[0m\u001b[37m \u001b[0m│\n",
       "│\u001b[1;36m \u001b[0m\u001b[1;36mAnalysis Time           \u001b[0m\u001b[1;36m \u001b[0m│\u001b[37m \u001b[0m\u001b[37m0.59s                 \u001b[0m\u001b[37m \u001b[0m│\n",
       "│\u001b[1;36m \u001b[0m\u001b[1;36mProcessing Speed        \u001b[0m\u001b[1;36m \u001b[0m│\u001b[37m \u001b[0m\u001b[37m101,193 items/sec     \u001b[0m\u001b[37m \u001b[0m│\n",
       "└──────────────────────────┴────────────────────────┘\n"
      ]
     },
     "metadata": {},
     "output_type": "display_data"
    },
    {
     "data": {
      "text/html": [
       "<pre style=\"white-space:pre;overflow-x:auto;line-height:normal;font-family:Menlo,'DejaVu Sans Mono',consolas,'Courier New',monospace\">\n",
       "</pre>\n"
      ],
      "text/plain": [
       "\n"
      ]
     },
     "metadata": {},
     "output_type": "display_data"
    },
    {
     "data": {
      "text/html": [
       "<pre style=\"white-space:pre;overflow-x:auto;line-height:normal;font-family:Menlo,'DejaVu Sans Mono',consolas,'Courier New',monospace\"><span style=\"font-style: italic\">         File Extensions          </span>\n",
       "┏━━━━━━━━━━━┳━━━━━━━┳━━━━━━━━━━━━┓\n",
       "┃<span style=\"font-weight: bold\"> Extension </span>┃<span style=\"font-weight: bold\"> Count </span>┃<span style=\"font-weight: bold\"> Percentage </span>┃\n",
       "┡━━━━━━━━━━━╇━━━━━━━╇━━━━━━━━━━━━┩\n",
       "│<span style=\"color: #800080; text-decoration-color: #800080; font-weight: bold\"> .tpl      </span>│<span style=\"color: #c0c0c0; text-decoration-color: #c0c0c0\"> 14    </span>│<span style=\"color: #008000; text-decoration-color: #008000\"> 0.0%       </span>│\n",
       "│<span style=\"color: #800080; text-decoration-color: #800080; font-weight: bold\"> .hpp      </span>│<span style=\"color: #c0c0c0; text-decoration-color: #c0c0c0\"> 26    </span>│<span style=\"color: #008000; text-decoration-color: #008000\"> 0.0%       </span>│\n",
       "│<span style=\"color: #800080; text-decoration-color: #800080; font-weight: bold\"> .po       </span>│<span style=\"color: #c0c0c0; text-decoration-color: #c0c0c0\"> 2     </span>│<span style=\"color: #008000; text-decoration-color: #008000\"> 0.0%       </span>│\n",
       "│<span style=\"color: #800080; text-decoration-color: #800080; font-weight: bold\"> .pth      </span>│<span style=\"color: #c0c0c0; text-decoration-color: #c0c0c0\"> 4     </span>│<span style=\"color: #008000; text-decoration-color: #008000\"> 0.0%       </span>│\n",
       "│<span style=\"color: #800080; text-decoration-color: #800080; font-weight: bold\"> .map      </span>│<span style=\"color: #c0c0c0; text-decoration-color: #c0c0c0\"> 16    </span>│<span style=\"color: #008000; text-decoration-color: #008000\"> 0.0%       </span>│\n",
       "│<span style=\"color: #800080; text-decoration-color: #800080; font-weight: bold\"> .1        </span>│<span style=\"color: #c0c0c0; text-decoration-color: #c0c0c0\"> 15    </span>│<span style=\"color: #008000; text-decoration-color: #008000\"> 0.0%       </span>│\n",
       "│<span style=\"color: #800080; text-decoration-color: #800080; font-weight: bold\"> .0        </span>│<span style=\"color: #c0c0c0; text-decoration-color: #c0c0c0\"> 38    </span>│<span style=\"color: #008000; text-decoration-color: #008000\"> 0.1%       </span>│\n",
       "│<span style=\"color: #800080; text-decoration-color: #800080; font-weight: bold\"> .ps1      </span>│<span style=\"color: #c0c0c0; text-decoration-color: #c0c0c0\"> 1     </span>│<span style=\"color: #008000; text-decoration-color: #008000\"> 0.0%       </span>│\n",
       "│<span style=\"color: #800080; text-decoration-color: #800080; font-weight: bold\"> .2100     </span>│<span style=\"color: #c0c0c0; text-decoration-color: #c0c0c0\"> 20    </span>│<span style=\"color: #008000; text-decoration-color: #008000\"> 0.0%       </span>│\n",
       "│<span style=\"color: #800080; text-decoration-color: #800080; font-weight: bold\"> .unicode  </span>│<span style=\"color: #c0c0c0; text-decoration-color: #c0c0c0\"> 2     </span>│<span style=\"color: #008000; text-decoration-color: #008000\"> 0.0%       </span>│\n",
       "└───────────┴───────┴────────────┘\n",
       "</pre>\n"
      ],
      "text/plain": [
       "\u001b[3m         File Extensions          \u001b[0m\n",
       "┏━━━━━━━━━━━┳━━━━━━━┳━━━━━━━━━━━━┓\n",
       "┃\u001b[1m \u001b[0m\u001b[1mExtension\u001b[0m\u001b[1m \u001b[0m┃\u001b[1m \u001b[0m\u001b[1mCount\u001b[0m\u001b[1m \u001b[0m┃\u001b[1m \u001b[0m\u001b[1mPercentage\u001b[0m\u001b[1m \u001b[0m┃\n",
       "┡━━━━━━━━━━━╇━━━━━━━╇━━━━━━━━━━━━┩\n",
       "│\u001b[1;35m \u001b[0m\u001b[1;35m.tpl     \u001b[0m\u001b[1;35m \u001b[0m│\u001b[37m \u001b[0m\u001b[37m14   \u001b[0m\u001b[37m \u001b[0m│\u001b[32m \u001b[0m\u001b[32m0.0%      \u001b[0m\u001b[32m \u001b[0m│\n",
       "│\u001b[1;35m \u001b[0m\u001b[1;35m.hpp     \u001b[0m\u001b[1;35m \u001b[0m│\u001b[37m \u001b[0m\u001b[37m26   \u001b[0m\u001b[37m \u001b[0m│\u001b[32m \u001b[0m\u001b[32m0.0%      \u001b[0m\u001b[32m \u001b[0m│\n",
       "│\u001b[1;35m \u001b[0m\u001b[1;35m.po      \u001b[0m\u001b[1;35m \u001b[0m│\u001b[37m \u001b[0m\u001b[37m2    \u001b[0m\u001b[37m \u001b[0m│\u001b[32m \u001b[0m\u001b[32m0.0%      \u001b[0m\u001b[32m \u001b[0m│\n",
       "│\u001b[1;35m \u001b[0m\u001b[1;35m.pth     \u001b[0m\u001b[1;35m \u001b[0m│\u001b[37m \u001b[0m\u001b[37m4    \u001b[0m\u001b[37m \u001b[0m│\u001b[32m \u001b[0m\u001b[32m0.0%      \u001b[0m\u001b[32m \u001b[0m│\n",
       "│\u001b[1;35m \u001b[0m\u001b[1;35m.map     \u001b[0m\u001b[1;35m \u001b[0m│\u001b[37m \u001b[0m\u001b[37m16   \u001b[0m\u001b[37m \u001b[0m│\u001b[32m \u001b[0m\u001b[32m0.0%      \u001b[0m\u001b[32m \u001b[0m│\n",
       "│\u001b[1;35m \u001b[0m\u001b[1;35m.1       \u001b[0m\u001b[1;35m \u001b[0m│\u001b[37m \u001b[0m\u001b[37m15   \u001b[0m\u001b[37m \u001b[0m│\u001b[32m \u001b[0m\u001b[32m0.0%      \u001b[0m\u001b[32m \u001b[0m│\n",
       "│\u001b[1;35m \u001b[0m\u001b[1;35m.0       \u001b[0m\u001b[1;35m \u001b[0m│\u001b[37m \u001b[0m\u001b[37m38   \u001b[0m\u001b[37m \u001b[0m│\u001b[32m \u001b[0m\u001b[32m0.1%      \u001b[0m\u001b[32m \u001b[0m│\n",
       "│\u001b[1;35m \u001b[0m\u001b[1;35m.ps1     \u001b[0m\u001b[1;35m \u001b[0m│\u001b[37m \u001b[0m\u001b[37m1    \u001b[0m\u001b[37m \u001b[0m│\u001b[32m \u001b[0m\u001b[32m0.0%      \u001b[0m\u001b[32m \u001b[0m│\n",
       "│\u001b[1;35m \u001b[0m\u001b[1;35m.2100    \u001b[0m\u001b[1;35m \u001b[0m│\u001b[37m \u001b[0m\u001b[37m20   \u001b[0m\u001b[37m \u001b[0m│\u001b[32m \u001b[0m\u001b[32m0.0%      \u001b[0m\u001b[32m \u001b[0m│\n",
       "│\u001b[1;35m \u001b[0m\u001b[1;35m.unicode \u001b[0m\u001b[1;35m \u001b[0m│\u001b[37m \u001b[0m\u001b[37m2    \u001b[0m\u001b[37m \u001b[0m│\u001b[32m \u001b[0m\u001b[32m0.0%      \u001b[0m\u001b[32m \u001b[0m│\n",
       "└───────────┴───────┴────────────┘\n"
      ]
     },
     "metadata": {},
     "output_type": "display_data"
    },
    {
     "data": {
      "text/html": [
       "<pre style=\"white-space:pre;overflow-x:auto;line-height:normal;font-family:Menlo,'DejaVu Sans Mono',consolas,'Courier New',monospace\">\n",
       "</pre>\n"
      ],
      "text/plain": [
       "\n"
      ]
     },
     "metadata": {},
     "output_type": "display_data"
    },
    {
     "data": {
      "text/html": [
       "<pre style=\"white-space:pre;overflow-x:auto;line-height:normal;font-family:Menlo,'DejaVu Sans Mono',consolas,'Courier New',monospace\"><span style=\"font-style: italic\">                Common Folder Names                </span>\n",
       "┏━━━━━━━━━━━━━━━━━━━━━━━━━━━━━━━━━━━┳━━━━━━━━━━━━━┓\n",
       "┃<span style=\"font-weight: bold\"> Folder Name                       </span>┃<span style=\"font-weight: bold\"> Occurrences </span>┃\n",
       "┡━━━━━━━━━━━━━━━━━━━━━━━━━━━━━━━━━━━╇━━━━━━━━━━━━━┩\n",
       "│<span style=\"color: #000080; text-decoration-color: #000080; font-weight: bold\"> tzdata                            </span>│<span style=\"color: #c0c0c0; text-decoration-color: #c0c0c0\"> 2           </span>│\n",
       "│<span style=\"color: #000080; text-decoration-color: #000080; font-weight: bold\"> geospatial                        </span>│<span style=\"color: #c0c0c0; text-decoration-color: #c0c0c0\"> 2           </span>│\n",
       "│<span style=\"color: #000080; text-decoration-color: #000080; font-weight: bold\"> sitemaps                          </span>│<span style=\"color: #c0c0c0; text-decoration-color: #c0c0c0\"> 2           </span>│\n",
       "│<span style=\"color: #000080; text-decoration-color: #000080; font-weight: bold\"> unindent-cbb0a075445530fb         </span>│<span style=\"color: #c0c0c0; text-decoration-color: #c0c0c0\"> 1           </span>│\n",
       "│<span style=\"color: #000080; text-decoration-color: #000080; font-weight: bold\"> mergedeep                         </span>│<span style=\"color: #c0c0c0; text-decoration-color: #c0c0c0\"> 2           </span>│\n",
       "│<span style=\"color: #000080; text-decoration-color: #000080; font-weight: bold\"> 46                                </span>│<span style=\"color: #c0c0c0; text-decoration-color: #c0c0c0\"> 1           </span>│\n",
       "│<span style=\"color: #000080; text-decoration-color: #000080; font-weight: bold\"> polynomial                        </span>│<span style=\"color: #c0c0c0; text-decoration-color: #c0c0c0\"> 2           </span>│\n",
       "│<span style=\"color: #000080; text-decoration-color: #000080; font-weight: bold\"> fields                            </span>│<span style=\"color: #c0c0c0; text-decoration-color: #c0c0c0\"> 4           </span>│\n",
       "│<span style=\"color: #000080; text-decoration-color: #000080; font-weight: bold\"> futures-executor-9f3e4cc949531d19 </span>│<span style=\"color: #c0c0c0; text-decoration-color: #c0c0c0\"> 1           </span>│\n",
       "│<span style=\"color: #000080; text-decoration-color: #000080; font-weight: bold\"> same-file-fa82aa2255c459b9        </span>│<span style=\"color: #c0c0c0; text-decoration-color: #c0c0c0\"> 1           </span>│\n",
       "└───────────────────────────────────┴─────────────┘\n",
       "</pre>\n"
      ],
      "text/plain": [
       "\u001b[3m                Common Folder Names                \u001b[0m\n",
       "┏━━━━━━━━━━━━━━━━━━━━━━━━━━━━━━━━━━━┳━━━━━━━━━━━━━┓\n",
       "┃\u001b[1m \u001b[0m\u001b[1mFolder Name                      \u001b[0m\u001b[1m \u001b[0m┃\u001b[1m \u001b[0m\u001b[1mOccurrences\u001b[0m\u001b[1m \u001b[0m┃\n",
       "┡━━━━━━━━━━━━━━━━━━━━━━━━━━━━━━━━━━━╇━━━━━━━━━━━━━┩\n",
       "│\u001b[1;34m \u001b[0m\u001b[1;34mtzdata                           \u001b[0m\u001b[1;34m \u001b[0m│\u001b[37m \u001b[0m\u001b[37m2          \u001b[0m\u001b[37m \u001b[0m│\n",
       "│\u001b[1;34m \u001b[0m\u001b[1;34mgeospatial                       \u001b[0m\u001b[1;34m \u001b[0m│\u001b[37m \u001b[0m\u001b[37m2          \u001b[0m\u001b[37m \u001b[0m│\n",
       "│\u001b[1;34m \u001b[0m\u001b[1;34msitemaps                         \u001b[0m\u001b[1;34m \u001b[0m│\u001b[37m \u001b[0m\u001b[37m2          \u001b[0m\u001b[37m \u001b[0m│\n",
       "│\u001b[1;34m \u001b[0m\u001b[1;34munindent-cbb0a075445530fb        \u001b[0m\u001b[1;34m \u001b[0m│\u001b[37m \u001b[0m\u001b[37m1          \u001b[0m\u001b[37m \u001b[0m│\n",
       "│\u001b[1;34m \u001b[0m\u001b[1;34mmergedeep                        \u001b[0m\u001b[1;34m \u001b[0m│\u001b[37m \u001b[0m\u001b[37m2          \u001b[0m\u001b[37m \u001b[0m│\n",
       "│\u001b[1;34m \u001b[0m\u001b[1;34m46                               \u001b[0m\u001b[1;34m \u001b[0m│\u001b[37m \u001b[0m\u001b[37m1          \u001b[0m\u001b[37m \u001b[0m│\n",
       "│\u001b[1;34m \u001b[0m\u001b[1;34mpolynomial                       \u001b[0m\u001b[1;34m \u001b[0m│\u001b[37m \u001b[0m\u001b[37m2          \u001b[0m\u001b[37m \u001b[0m│\n",
       "│\u001b[1;34m \u001b[0m\u001b[1;34mfields                           \u001b[0m\u001b[1;34m \u001b[0m│\u001b[37m \u001b[0m\u001b[37m4          \u001b[0m\u001b[37m \u001b[0m│\n",
       "│\u001b[1;34m \u001b[0m\u001b[1;34mfutures-executor-9f3e4cc949531d19\u001b[0m\u001b[1;34m \u001b[0m│\u001b[37m \u001b[0m\u001b[37m1          \u001b[0m\u001b[37m \u001b[0m│\n",
       "│\u001b[1;34m \u001b[0m\u001b[1;34msame-file-fa82aa2255c459b9       \u001b[0m\u001b[1;34m \u001b[0m│\u001b[37m \u001b[0m\u001b[37m1          \u001b[0m\u001b[37m \u001b[0m│\n",
       "└───────────────────────────────────┴─────────────┘\n"
      ]
     },
     "metadata": {},
     "output_type": "display_data"
    },
    {
     "data": {
      "text/html": [
       "<pre style=\"white-space:pre;overflow-x:auto;line-height:normal;font-family:Menlo,'DejaVu Sans Mono',consolas,'Courier New',monospace\">\n",
       "</pre>\n"
      ],
      "text/plain": [
       "\n"
      ]
     },
     "metadata": {},
     "output_type": "display_data"
    },
    {
     "data": {
      "text/html": [
       "<pre style=\"white-space:pre;overflow-x:auto;line-height:normal;font-family:Menlo,'DejaVu Sans Mono',consolas,'Courier New',monospace\"><span style=\"font-style: italic\">                             Empty Folders (showing 20 of 53)                             </span>\n",
       "┏━━━━━━━━━━━━━━━━━━━━━━━━━━━━━━━━━━━━━━━━━━━━━━━━━━━━━━━━━━━━━━━━━━━━━━━━━━━━━━━━━━━━━━━━┓\n",
       "┃<span style=\"font-weight: bold\"> Path                                                                                   </span>┃\n",
       "┡━━━━━━━━━━━━━━━━━━━━━━━━━━━━━━━━━━━━━━━━━━━━━━━━━━━━━━━━━━━━━━━━━━━━━━━━━━━━━━━━━━━━━━━━┩\n",
       "│<span style=\"color: #808000; text-decoration-color: #808000\"> /home/kalfasy/repos/filoma/notebooks/tests                                             </span>│\n",
       "│<span style=\"color: #808000; text-decoration-color: #808000\"> /home/kalfasy/repos/filoma/target/debug/build/proc-macro2-fdcb222da4373f07/out         </span>│\n",
       "│<span style=\"color: #808000; text-decoration-color: #808000\"> /home/kalfasy/repos/filoma/target/debug/build/pyo3-17c1b0b456a0c7e4/out                </span>│\n",
       "│<span style=\"color: #808000; text-decoration-color: #808000\"> /home/kalfasy/repos/filoma/target/debug/build/crossbeam-utils-7b9bd07d9fad49b5/out     </span>│\n",
       "│<span style=\"color: #808000; text-decoration-color: #808000\"> /home/kalfasy/repos/filoma/target/debug/build/serde_json-85cdf3d882972d5c/out          </span>│\n",
       "│<span style=\"color: #808000; text-decoration-color: #808000\"> /home/kalfasy/repos/filoma/target/debug/build/pyo3-8813d706ead48d90/out                </span>│\n",
       "│<span style=\"color: #808000; text-decoration-color: #808000\"> /home/kalfasy/repos/filoma/target/debug/build/pyo3-macros-backend-6807c5cda8b1462a/out </span>│\n",
       "│<span style=\"color: #808000; text-decoration-color: #808000\"> /home/kalfasy/repos/filoma/target/debug/build/memoffset-f4a6c90d4e3f18eb/out           </span>│\n",
       "│<span style=\"color: #808000; text-decoration-color: #808000\"> /home/kalfasy/repos/filoma/target/debug/build/rayon-core-03a79c366c595edc/out          </span>│\n",
       "│<span style=\"color: #808000; text-decoration-color: #808000\"> /home/kalfasy/repos/filoma/target/debug/build/pyo3-macros-backend-3864f2b2dbf9644d/out </span>│\n",
       "│<span style=\"color: #808000; text-decoration-color: #808000\"> /home/kalfasy/repos/filoma/target/debug/build/pyo3-264b9b4aa4d6a2b5/out                </span>│\n",
       "│<span style=\"color: #808000; text-decoration-color: #808000\"> /home/kalfasy/repos/filoma/target/debug/build/portable-atomic-f4353affba5b92e8/out     </span>│\n",
       "│<span style=\"color: #808000; text-decoration-color: #808000\"> /home/kalfasy/repos/filoma/target/debug/build/pyo3-ffi-747a9d93a69eb79b/out            </span>│\n",
       "│<span style=\"color: #808000; text-decoration-color: #808000\"> /home/kalfasy/repos/filoma/target/debug/build/proc-macro2-4d577003447afa24/out         </span>│\n",
       "│<span style=\"color: #808000; text-decoration-color: #808000\"> /home/kalfasy/repos/filoma/target/debug/build/pyo3-ffi-8e536f56d2d22bd8/out            </span>│\n",
       "│<span style=\"color: #808000; text-decoration-color: #808000\"> /home/kalfasy/repos/filoma/target/debug/build/libc-9d68f4abca27c9af/out                </span>│\n",
       "│<span style=\"color: #808000; text-decoration-color: #808000\"> /home/kalfasy/repos/filoma/target/debug/build/lock_api-96adb08174198570/out            </span>│\n",
       "│<span style=\"color: #808000; text-decoration-color: #808000\"> /home/kalfasy/repos/filoma/target/debug/build/serde-6690732fba37d144/out               </span>│\n",
       "│<span style=\"color: #808000; text-decoration-color: #808000\"> /home/kalfasy/repos/filoma/target/debug/build/parking_lot_core-d5ba795b49a036a8/out    </span>│\n",
       "│<span style=\"color: #808000; text-decoration-color: #808000\"> /home/kalfasy/repos/filoma/target/debug/build/pyo3-ffi-0b1b893f015622ee/out            </span>│\n",
       "│<span style=\"color: #808000; text-decoration-color: #808000\"> ... and 33 more                                                                        </span>│\n",
       "└────────────────────────────────────────────────────────────────────────────────────────┘\n",
       "</pre>\n"
      ],
      "text/plain": [
       "\u001b[3m                             Empty Folders (showing 20 of 53)                             \u001b[0m\n",
       "┏━━━━━━━━━━━━━━━━━━━━━━━━━━━━━━━━━━━━━━━━━━━━━━━━━━━━━━━━━━━━━━━━━━━━━━━━━━━━━━━━━━━━━━━━┓\n",
       "┃\u001b[1m \u001b[0m\u001b[1mPath                                                                                  \u001b[0m\u001b[1m \u001b[0m┃\n",
       "┡━━━━━━━━━━━━━━━━━━━━━━━━━━━━━━━━━━━━━━━━━━━━━━━━━━━━━━━━━━━━━━━━━━━━━━━━━━━━━━━━━━━━━━━━┩\n",
       "│\u001b[33m \u001b[0m\u001b[33m/home/kalfasy/repos/filoma/notebooks/tests                                            \u001b[0m\u001b[33m \u001b[0m│\n",
       "│\u001b[33m \u001b[0m\u001b[33m/home/kalfasy/repos/filoma/target/debug/build/proc-macro2-fdcb222da4373f07/out        \u001b[0m\u001b[33m \u001b[0m│\n",
       "│\u001b[33m \u001b[0m\u001b[33m/home/kalfasy/repos/filoma/target/debug/build/pyo3-17c1b0b456a0c7e4/out               \u001b[0m\u001b[33m \u001b[0m│\n",
       "│\u001b[33m \u001b[0m\u001b[33m/home/kalfasy/repos/filoma/target/debug/build/crossbeam-utils-7b9bd07d9fad49b5/out    \u001b[0m\u001b[33m \u001b[0m│\n",
       "│\u001b[33m \u001b[0m\u001b[33m/home/kalfasy/repos/filoma/target/debug/build/serde_json-85cdf3d882972d5c/out         \u001b[0m\u001b[33m \u001b[0m│\n",
       "│\u001b[33m \u001b[0m\u001b[33m/home/kalfasy/repos/filoma/target/debug/build/pyo3-8813d706ead48d90/out               \u001b[0m\u001b[33m \u001b[0m│\n",
       "│\u001b[33m \u001b[0m\u001b[33m/home/kalfasy/repos/filoma/target/debug/build/pyo3-macros-backend-6807c5cda8b1462a/out\u001b[0m\u001b[33m \u001b[0m│\n",
       "│\u001b[33m \u001b[0m\u001b[33m/home/kalfasy/repos/filoma/target/debug/build/memoffset-f4a6c90d4e3f18eb/out          \u001b[0m\u001b[33m \u001b[0m│\n",
       "│\u001b[33m \u001b[0m\u001b[33m/home/kalfasy/repos/filoma/target/debug/build/rayon-core-03a79c366c595edc/out         \u001b[0m\u001b[33m \u001b[0m│\n",
       "│\u001b[33m \u001b[0m\u001b[33m/home/kalfasy/repos/filoma/target/debug/build/pyo3-macros-backend-3864f2b2dbf9644d/out\u001b[0m\u001b[33m \u001b[0m│\n",
       "│\u001b[33m \u001b[0m\u001b[33m/home/kalfasy/repos/filoma/target/debug/build/pyo3-264b9b4aa4d6a2b5/out               \u001b[0m\u001b[33m \u001b[0m│\n",
       "│\u001b[33m \u001b[0m\u001b[33m/home/kalfasy/repos/filoma/target/debug/build/portable-atomic-f4353affba5b92e8/out    \u001b[0m\u001b[33m \u001b[0m│\n",
       "│\u001b[33m \u001b[0m\u001b[33m/home/kalfasy/repos/filoma/target/debug/build/pyo3-ffi-747a9d93a69eb79b/out           \u001b[0m\u001b[33m \u001b[0m│\n",
       "│\u001b[33m \u001b[0m\u001b[33m/home/kalfasy/repos/filoma/target/debug/build/proc-macro2-4d577003447afa24/out        \u001b[0m\u001b[33m \u001b[0m│\n",
       "│\u001b[33m \u001b[0m\u001b[33m/home/kalfasy/repos/filoma/target/debug/build/pyo3-ffi-8e536f56d2d22bd8/out           \u001b[0m\u001b[33m \u001b[0m│\n",
       "│\u001b[33m \u001b[0m\u001b[33m/home/kalfasy/repos/filoma/target/debug/build/libc-9d68f4abca27c9af/out               \u001b[0m\u001b[33m \u001b[0m│\n",
       "│\u001b[33m \u001b[0m\u001b[33m/home/kalfasy/repos/filoma/target/debug/build/lock_api-96adb08174198570/out           \u001b[0m\u001b[33m \u001b[0m│\n",
       "│\u001b[33m \u001b[0m\u001b[33m/home/kalfasy/repos/filoma/target/debug/build/serde-6690732fba37d144/out              \u001b[0m\u001b[33m \u001b[0m│\n",
       "│\u001b[33m \u001b[0m\u001b[33m/home/kalfasy/repos/filoma/target/debug/build/parking_lot_core-d5ba795b49a036a8/out   \u001b[0m\u001b[33m \u001b[0m│\n",
       "│\u001b[33m \u001b[0m\u001b[33m/home/kalfasy/repos/filoma/target/debug/build/pyo3-ffi-0b1b893f015622ee/out           \u001b[0m\u001b[33m \u001b[0m│\n",
       "│\u001b[33m \u001b[0m\u001b[33m... and 33 more                                                                       \u001b[0m\u001b[33m \u001b[0m│\n",
       "└────────────────────────────────────────────────────────────────────────────────────────┘\n"
      ]
     },
     "metadata": {},
     "output_type": "display_data"
    },
    {
     "data": {
      "text/html": [
       "<pre style=\"white-space:pre;overflow-x:auto;line-height:normal;font-family:Menlo,'DejaVu Sans Mono',consolas,'Courier New',monospace\">\n",
       "</pre>\n"
      ],
      "text/plain": [
       "\n"
      ]
     },
     "metadata": {},
     "output_type": "display_data"
    }
   ],
   "source": [
    "dp1.print_report(analysis)"
   ]
  },
  {
   "cell_type": "markdown",
   "id": "448bc8d6",
   "metadata": {},
   "source": [
    "## 📁 Directory to DataFrame"
   ]
  },
  {
   "cell_type": "markdown",
   "id": "570832a2",
   "metadata": {},
   "source": [
    "Now that you saw what's up with your files, you might want to explore the data in a familiar format.   \n",
    "`filoma` can convert the analysis results into a Polars (or Pandas) DataFrame real quick.  \n",
    "**NOTE**: Pandas support requires the `pd` extra which you can install by running `uv sync --extra pd` in your terminal."
   ]
  },
  {
   "cell_type": "code",
   "execution_count": 4,
   "id": "9006315c",
   "metadata": {},
   "outputs": [
    {
     "name": "stderr",
     "output_type": "stream",
     "text": [
      "\u001b[32m2025-09-11 19:03:33.122\u001b[0m | \u001b[34m\u001b[1mDEBUG   \u001b[0m | \u001b[36mfiloma.directories.directory_profiler\u001b[0m:\u001b[36m__init__\u001b[0m:\u001b[36m343\u001b[0m - \u001b[34m\u001b[1mInteractive environment detected, disabling progress bars to avoid conflicts\u001b[0m\n",
      "\u001b[32m2025-09-11 19:03:33.123\u001b[0m | \u001b[1mINFO    \u001b[0m | \u001b[36mfiloma.directories.directory_profiler\u001b[0m:\u001b[36mprobe\u001b[0m:\u001b[36m430\u001b[0m - \u001b[1mStarting directory analysis of '../' using 🐍 Python implementation\u001b[0m\n",
      "\u001b[32m2025-09-11 19:03:33.460\u001b[0m | \u001b[32m\u001b[1mSUCCESS \u001b[0m | \u001b[36mfiloma.directories.directory_profiler\u001b[0m:\u001b[36mprobe\u001b[0m:\u001b[36m446\u001b[0m - \u001b[32m\u001b[1mDirectory analysis completed in 0.34s - Found 339 items (278 files, 61 folders) using 🐍 Python\u001b[0m\n"
     ]
    },
    {
     "name": "stdout",
     "output_type": "stream",
     "text": [
      "Found 338 files\n"
     ]
    },
    {
     "data": {
      "text/html": [
       "<div><style>\n",
       ".dataframe > thead > tr,\n",
       ".dataframe > tbody > tr {\n",
       "  text-align: right;\n",
       "  white-space: pre-wrap;\n",
       "}\n",
       "</style>\n",
       "<small>shape: (5, 18)</small><table border=\"1\" class=\"dataframe\"><thead><tr><th>path</th><th>depth</th><th>parent</th><th>name</th><th>stem</th><th>suffix</th><th>size_bytes</th><th>modified_time</th><th>created_time</th><th>is_file</th><th>is_dir</th><th>owner</th><th>group</th><th>mode_str</th><th>inode</th><th>nlink</th><th>sha256</th><th>xattrs</th></tr><tr><td>str</td><td>i64</td><td>str</td><td>str</td><td>str</td><td>str</td><td>i64</td><td>str</td><td>str</td><td>bool</td><td>bool</td><td>str</td><td>str</td><td>str</td><td>i64</td><td>i64</td><td>str</td><td>str</td></tr></thead><tbody><tr><td>&quot;../pyproject.toml&quot;</td><td>1</td><td>&quot;..&quot;</td><td>&quot;pyproject.toml&quot;</td><td>&quot;pyproject&quot;</td><td>&quot;.toml&quot;</td><td>1838</td><td>&quot;2025-09-11 18:00:08&quot;</td><td>&quot;2025-09-11 18:00:08&quot;</td><td>true</td><td>false</td><td>&quot;kalfasy&quot;</td><td>&quot;kalfasy&quot;</td><td>&quot;-rw-rw-r--&quot;</td><td>7579961</td><td>1</td><td>null</td><td>&quot;{}&quot;</td></tr><tr><td>&quot;../scripts&quot;</td><td>1</td><td>&quot;..&quot;</td><td>&quot;scripts&quot;</td><td>&quot;scripts&quot;</td><td>&quot;&quot;</td><td>4096</td><td>&quot;2025-09-05 20:26:25&quot;</td><td>&quot;2025-09-05 20:26:25&quot;</td><td>false</td><td>true</td><td>&quot;kalfasy&quot;</td><td>&quot;kalfasy&quot;</td><td>&quot;drwxrwxr-x&quot;</td><td>7603122</td><td>2</td><td>null</td><td>&quot;{}&quot;</td></tr><tr><td>&quot;../.pytest_cache&quot;</td><td>1</td><td>&quot;..&quot;</td><td>&quot;.pytest_cache&quot;</td><td>&quot;.pytest_cache&quot;</td><td>&quot;&quot;</td><td>4096</td><td>&quot;2025-07-05 22:28:03&quot;</td><td>&quot;2025-07-05 22:28:03&quot;</td><td>false</td><td>true</td><td>&quot;kalfasy&quot;</td><td>&quot;kalfasy&quot;</td><td>&quot;drwxrwxr-x&quot;</td><td>7604845</td><td>3</td><td>null</td><td>&quot;{}&quot;</td></tr><tr><td>&quot;../.vscode&quot;</td><td>1</td><td>&quot;..&quot;</td><td>&quot;.vscode&quot;</td><td>&quot;.vscode&quot;</td><td>&quot;&quot;</td><td>4096</td><td>&quot;2025-07-06 11:11:18&quot;</td><td>&quot;2025-07-06 11:11:18&quot;</td><td>false</td><td>true</td><td>&quot;kalfasy&quot;</td><td>&quot;kalfasy&quot;</td><td>&quot;drwxrwxr-x&quot;</td><td>7591635</td><td>2</td><td>null</td><td>&quot;{}&quot;</td></tr><tr><td>&quot;../Makefile&quot;</td><td>1</td><td>&quot;..&quot;</td><td>&quot;Makefile&quot;</td><td>&quot;Makefile&quot;</td><td>&quot;&quot;</td><td>2827</td><td>&quot;2025-09-07 22:29:37&quot;</td><td>&quot;2025-09-07 22:29:37&quot;</td><td>true</td><td>false</td><td>&quot;kalfasy&quot;</td><td>&quot;kalfasy&quot;</td><td>&quot;-rw-rw-r--&quot;</td><td>7603119</td><td>1</td><td>null</td><td>&quot;{}&quot;</td></tr></tbody></table></div>"
      ],
      "text/plain": [
       "shape: (5, 18)\n",
       "┌───────────────────┬───────┬────────┬────────────────┬───┬─────────┬───────┬────────┬────────┐\n",
       "│ path              ┆ depth ┆ parent ┆ name           ┆ … ┆ inode   ┆ nlink ┆ sha256 ┆ xattrs │\n",
       "│ ---               ┆ ---   ┆ ---    ┆ ---            ┆   ┆ ---     ┆ ---   ┆ ---    ┆ ---    │\n",
       "│ str               ┆ i64   ┆ str    ┆ str            ┆   ┆ i64     ┆ i64   ┆ str    ┆ str    │\n",
       "╞═══════════════════╪═══════╪════════╪════════════════╪═══╪═════════╪═══════╪════════╪════════╡\n",
       "│ ../pyproject.toml ┆ 1     ┆ ..     ┆ pyproject.toml ┆ … ┆ 7579961 ┆ 1     ┆ null   ┆ {}     │\n",
       "│ ../scripts        ┆ 1     ┆ ..     ┆ scripts        ┆ … ┆ 7603122 ┆ 2     ┆ null   ┆ {}     │\n",
       "│ ../.pytest_cache  ┆ 1     ┆ ..     ┆ .pytest_cache  ┆ … ┆ 7604845 ┆ 3     ┆ null   ┆ {}     │\n",
       "│ ../.vscode        ┆ 1     ┆ ..     ┆ .vscode        ┆ … ┆ 7591635 ┆ 2     ┆ null   ┆ {}     │\n",
       "│ ../Makefile       ┆ 1     ┆ ..     ┆ Makefile       ┆ … ┆ 7603119 ┆ 1     ┆ null   ┆ {}     │\n",
       "└───────────────────┴───────┴────────┴────────────────┴───┴─────────┴───────┴────────┴────────┘"
      ]
     },
     "execution_count": 4,
     "metadata": {},
     "output_type": "execute_result"
    }
   ],
   "source": [
    "from filoma import probe_to_df\n",
    "\n",
    "df = probe_to_df(\"../\", max_depth=2, enrich=True)\n",
    "print(f\"Found {len(df)} files\")\n",
    "df.head()"
   ]
  },
  {
   "cell_type": "code",
   "execution_count": 5,
   "id": "34b6a71e",
   "metadata": {},
   "outputs": [
    {
     "name": "stdout",
     "output_type": "stream",
     "text": [
      "Type of df: type(df.to_pandas()), shape: (338, 18)\n"
     ]
    }
   ],
   "source": [
    "print(f\"Type of df: type(df.to_pandas()), shape: {df.to_pandas().shape}\")"
   ]
  },
  {
   "cell_type": "markdown",
   "id": "6e28af33",
   "metadata": {},
   "source": [
    "#### ⚡ DataFrame enrichment"
   ]
  },
  {
   "cell_type": "markdown",
   "id": "e12bb3a5",
   "metadata": {},
   "source": [
    "You're probably wondering \"what is `enrich=True`?\"  \n",
    "Well, since `filoma` gathers the paths of your files in a DataFrame, why not enrich this DataFrame with additional metadata. Its own `DataFrame` class has convenience functions like: `add_path_components()`, `add_file_stats_cols()`, `add_depth_col()`  \n",
    "  \n",
    "Let's see it in action:"
   ]
  },
  {
   "cell_type": "code",
   "execution_count": 6,
   "id": "a611ca15",
   "metadata": {},
   "outputs": [
    {
     "name": "stderr",
     "output_type": "stream",
     "text": [
      "\u001b[32m2025-09-11 19:03:33.528\u001b[0m | \u001b[34m\u001b[1mDEBUG   \u001b[0m | \u001b[36mfiloma.directories.directory_profiler\u001b[0m:\u001b[36m__init__\u001b[0m:\u001b[36m343\u001b[0m - \u001b[34m\u001b[1mInteractive environment detected, disabling progress bars to avoid conflicts\u001b[0m\n",
      "\u001b[32m2025-09-11 19:03:33.529\u001b[0m | \u001b[1mINFO    \u001b[0m | \u001b[36mfiloma.directories.directory_profiler\u001b[0m:\u001b[36mprobe\u001b[0m:\u001b[36m430\u001b[0m - \u001b[1mStarting directory analysis of '../' using 🦀 Rust (Parallel) implementation\u001b[0m\n",
      "\u001b[32m2025-09-11 19:03:34.316\u001b[0m | \u001b[32m\u001b[1mSUCCESS \u001b[0m | \u001b[36mfiloma.directories.directory_profiler\u001b[0m:\u001b[36mprobe\u001b[0m:\u001b[36m446\u001b[0m - \u001b[32m\u001b[1mDirectory analysis completed in 0.79s - Found 60,064 items (56,626 files, 3,438 folders) using 🦀 Rust (Parallel)\u001b[0m\n"
     ]
    },
    {
     "name": "stdout",
     "output_type": "stream",
     "text": [
      "Columns before enrich: ['path']\n",
      "shape: (3, 1)\n",
      "┌───────────────────┐\n",
      "│ path              │\n",
      "│ ---               │\n",
      "│ str               │\n",
      "╞═══════════════════╡\n",
      "│ ../pyproject.toml │\n",
      "│ ../scripts        │\n",
      "│ ../.pytest_cache  │\n",
      "└───────────────────┘\n",
      "\n",
      "New columns after enrich: ['created_time', 'depth', 'group', 'inode', 'is_dir', 'is_file', 'mode_str', 'modified_time', 'name', 'nlink', 'owner', 'parent', 'sha256', 'size_bytes', 'stem', 'suffix', 'xattrs']\n",
      "shape: (3, 18)\n",
      "┌──────────────────┬────────┬────────────────┬───────────────┬───┬───────┬────────┬────────┬───────┐\n",
      "│ path             ┆ parent ┆ name           ┆ stem          ┆ … ┆ nlink ┆ sha256 ┆ xattrs ┆ depth │\n",
      "│ ---              ┆ ---    ┆ ---            ┆ ---           ┆   ┆ ---   ┆ ---    ┆ ---    ┆ ---   │\n",
      "│ str              ┆ str    ┆ str            ┆ str           ┆   ┆ i64   ┆ str    ┆ str    ┆ i64   │\n",
      "╞══════════════════╪════════╪════════════════╪═══════════════╪═══╪═══════╪════════╪════════╪═══════╡\n",
      "│ ../pyproject.tom ┆ ..     ┆ pyproject.toml ┆ pyproject     ┆ … ┆ 1     ┆ null   ┆ {}     ┆ 1     │\n",
      "│ l                ┆        ┆                ┆               ┆   ┆       ┆        ┆        ┆       │\n",
      "│ ../scripts       ┆ ..     ┆ scripts        ┆ scripts       ┆ … ┆ 2     ┆ null   ┆ {}     ┆ 1     │\n",
      "│ ../.pytest_cache ┆ ..     ┆ .pytest_cache  ┆ .pytest_cache ┆ … ┆ 3     ┆ null   ┆ {}     ┆ 1     │\n",
      "└──────────────────┴────────┴────────────────┴───────────────┴───┴───────┴────────┴────────┴───────┘\n"
     ]
    }
   ],
   "source": [
    "from filoma.directories import DirectoryProfiler, DirectoryProfilerConfig\n",
    "\n",
    "cfg = DirectoryProfilerConfig(build_dataframe=True, use_rust=True, return_absolute_paths=True)\n",
    "dprof = DirectoryProfiler(cfg)\n",
    "res = dprof.probe(\"../\")\n",
    "\n",
    "default_columns = res.dataframe.columns\n",
    "print(f\"Columns before enrich: {default_columns}\")\n",
    "print(f\"{res.dataframe.head(3)}\\n\")\n",
    "\n",
    "df = res.dataframe.enrich()\n",
    "new_columns = list(set(df.columns) - set(default_columns))\n",
    "new_columns.sort()\n",
    "print(f\"New columns after enrich: {new_columns}\")\n",
    "print(df.head(3))"
   ]
  },
  {
   "cell_type": "markdown",
   "id": "85423605",
   "metadata": {},
   "source": [
    "## 🤖 ML-ready splits"
   ]
  },
  {
   "cell_type": "markdown",
   "id": "daabef4e",
   "metadata": {},
   "source": [
    "The next logical thing for `filoma` to serve in data science workflows is to provide easy ways to create ML-ready splits.  \n",
    "\n",
    "In a very simple case, you have a dataframe with a `split`/`label`/... column that you want to use to create the splits like so:  \n",
    "> train, val, test = df[df[\"split\"] == \"train\"], df[df[\"split\"] == \"val\"], df[df[\"split\"] == \"test\"]  \n",
    "\n",
    "But things are rarely that simple in practice.  \n",
    "\n",
    "When you're given data in the \"real world\", either in folders & files or in a dataframe, you often need to create the splits yourself.  \n",
    "  \n",
    ">*Many practicioners unfortunately often disregard the importance of the data splits and split their data randomly, which can lead to data leakage, overfitting issues and unrealistic performance metrics*  \n",
    "\n",
    "A minimum best practice is to split your data into 3 sets:  \n",
    "- *Training set*: used to train your model\n",
    "- *Validation set*: used to tune your model's hyperparameters\n",
    "- *Testing set*: used to evaluate the final performance of your model  \n",
    "\n",
    "Ideally, you'd want to use a validation set that is representative of your test set, and both should be representative of your real-world data. So, special care should be taken to ensure that the splits are done correctly.  "
   ]
  },
  {
   "cell_type": "markdown",
   "id": "43ec30d9",
   "metadata": {},
   "source": [
    "##### 📚 traditional `sklearn` way"
   ]
  },
  {
   "cell_type": "markdown",
   "id": "d1b50845",
   "metadata": {},
   "source": [
    "A very popular (if not the most popular) way of splitting data, is to use `scikit-learn`'s function called `train_test_split` that can split your data into training and testing sets. It can do that for you rather easily, although you'll need to call it twice if you want a 3-way split.:  \n",
    "> from sklearn.model_selection import train_test_split  \n",
    "> train, temp = train_test_split(df, test_size=0.4)  \n",
    "> val, test = train_test_split(temp, test_size=0.5)  \n",
    "\n",
    "Isn't it confusing that you just wanted a 60/20/20 split but had to specify 40% and then 50%? Imagine doing this for a 70/20/10 split...\n",
    "> from sklearn.model_selection import train_test_split  \n",
    "> train, temp = train_test_split(df, test_size=0.3)  \n",
    "> val, test = train_test_split(temp, test_size=0.3333)  "
   ]
  },
  {
   "cell_type": "markdown",
   "id": "d84a82bf",
   "metadata": {},
   "source": [
    "##### 🧙‍♂️ filoma's `split` method"
   ]
  },
  {
   "cell_type": "markdown",
   "id": "1745d8d7",
   "metadata": {},
   "source": [
    "\n",
    "`filoma` takes this a step further by providing a function that can not only split your data into training, validation, and testing sets in one-go, but also do that based on features found in your file-names or directories.  \n"
   ]
  },
  {
   "cell_type": "markdown",
   "id": "ce41b3d7",
   "metadata": {},
   "source": []
  },
  {
   "cell_type": "code",
   "execution_count": null,
   "id": "d9056ab4",
   "metadata": {},
   "outputs": [],
   "source": []
  },
  {
   "cell_type": "code",
   "execution_count": 7,
   "id": "d27f6239",
   "metadata": {},
   "outputs": [
    {
     "name": "stdout",
     "output_type": "stream",
     "text": [
      "Split sizes: 22719, 4620, 4701\n"
     ]
    },
    {
     "data": {
      "text/html": [
       "<div><style>\n",
       ".dataframe > thead > tr,\n",
       ".dataframe > tbody > tr {\n",
       "  text-align: right;\n",
       "  white-space: pre-wrap;\n",
       "}\n",
       "</style>\n",
       "<small>shape: (3, 19)</small><table border=\"1\" class=\"dataframe\"><thead><tr><th>path</th><th>parent</th><th>name</th><th>stem</th><th>suffix</th><th>size_bytes</th><th>modified_time</th><th>created_time</th><th>is_file</th><th>is_dir</th><th>owner</th><th>group</th><th>mode_str</th><th>inode</th><th>nlink</th><th>sha256</th><th>xattrs</th><th>depth</th><th>_feat_parts</th></tr><tr><td>str</td><td>str</td><td>str</td><td>str</td><td>str</td><td>i64</td><td>str</td><td>str</td><td>bool</td><td>bool</td><td>str</td><td>str</td><td>str</td><td>i64</td><td>i64</td><td>str</td><td>str</td><td>i64</td><td>str</td></tr></thead><tbody><tr><td>&quot;../pyproject.toml&quot;</td><td>&quot;..&quot;</td><td>&quot;pyproject.toml&quot;</td><td>&quot;pyproject&quot;</td><td>&quot;.toml&quot;</td><td>1838</td><td>&quot;2025-09-11 18:00:08&quot;</td><td>&quot;2025-09-11 18:00:08&quot;</td><td>true</td><td>false</td><td>&quot;kalfasy&quot;</td><td>&quot;kalfasy&quot;</td><td>&quot;-rw-rw-r--&quot;</td><td>7579961</td><td>1</td><td>null</td><td>&quot;{}&quot;</td><td>1</td><td>&quot;pyproject.toml&quot;</td></tr><tr><td>&quot;../scripts&quot;</td><td>&quot;..&quot;</td><td>&quot;scripts&quot;</td><td>&quot;scripts&quot;</td><td>&quot;&quot;</td><td>4096</td><td>&quot;2025-09-05 20:26:25&quot;</td><td>&quot;2025-09-05 20:26:25&quot;</td><td>false</td><td>true</td><td>&quot;kalfasy&quot;</td><td>&quot;kalfasy&quot;</td><td>&quot;drwxrwxr-x&quot;</td><td>7603122</td><td>2</td><td>null</td><td>&quot;{}&quot;</td><td>1</td><td>&quot;scripts&quot;</td></tr><tr><td>&quot;../.pytest_cache&quot;</td><td>&quot;..&quot;</td><td>&quot;.pytest_cache&quot;</td><td>&quot;.pytest_cache&quot;</td><td>&quot;&quot;</td><td>4096</td><td>&quot;2025-07-05 22:28:03&quot;</td><td>&quot;2025-07-05 22:28:03&quot;</td><td>false</td><td>true</td><td>&quot;kalfasy&quot;</td><td>&quot;kalfasy&quot;</td><td>&quot;drwxrwxr-x&quot;</td><td>7604845</td><td>3</td><td>null</td><td>&quot;{}&quot;</td><td>1</td><td>&quot;.pytest_cache&quot;</td></tr></tbody></table></div>"
      ],
      "text/plain": [
       "shape: (3, 19)\n",
       "┌──────────────┬────────┬──────────────┬──────────────┬───┬────────┬────────┬───────┬──────────────┐\n",
       "│ path         ┆ parent ┆ name         ┆ stem         ┆ … ┆ sha256 ┆ xattrs ┆ depth ┆ _feat_parts  │\n",
       "│ ---          ┆ ---    ┆ ---          ┆ ---          ┆   ┆ ---    ┆ ---    ┆ ---   ┆ ---          │\n",
       "│ str          ┆ str    ┆ str          ┆ str          ┆   ┆ str    ┆ str    ┆ i64   ┆ str          │\n",
       "╞══════════════╪════════╪══════════════╪══════════════╪═══╪════════╪════════╪═══════╪══════════════╡\n",
       "│ ../pyproject ┆ ..     ┆ pyproject.to ┆ pyproject    ┆ … ┆ null   ┆ {}     ┆ 1     ┆ pyproject.to │\n",
       "│ .toml        ┆        ┆ ml           ┆              ┆   ┆        ┆        ┆       ┆ ml           │\n",
       "│ ../scripts   ┆ ..     ┆ scripts      ┆ scripts      ┆ … ┆ null   ┆ {}     ┆ 1     ┆ scripts      │\n",
       "│ ../.pytest_c ┆ ..     ┆ .pytest_cach ┆ .pytest_cach ┆ … ┆ null   ┆ {}     ┆ 1     ┆ .pytest_cach │\n",
       "│ ache         ┆        ┆ e            ┆ e            ┆   ┆        ┆        ┆       ┆ e            │\n",
       "└──────────────┴────────┴──────────────┴──────────────┴───┴────────┴────────┴───────┴──────────────┘"
      ]
     },
     "execution_count": 7,
     "metadata": {},
     "output_type": "execute_result"
    }
   ],
   "source": [
    "from filoma import ml\n",
    "\n",
    "# Split into train/val/test sets with 70% train, 15% val, 15% test\n",
    "train, val, test = ml.auto_split(df, train_val_test=(70, 15, 15), seed=42, include_all_parts=True)\n",
    "print(f\"Split sizes: {len(train)}, {len(val)}, {len(test)}\")\n",
    "train.head(3)"
   ]
  },
  {
   "cell_type": "markdown",
   "id": "0765315b",
   "metadata": {},
   "source": [
    "## 📄 Single file probe"
   ]
  },
  {
   "cell_type": "code",
   "execution_count": 8,
   "id": "d34c8f36",
   "metadata": {},
   "outputs": [
    {
     "name": "stdout",
     "output_type": "stream",
     "text": [
      "Path: /home/kalfasy/repos/filoma/README.md\n",
      "Size: 10878\n",
      "Modified: 2025-09-10 23:12:25\n"
     ]
    }
   ],
   "source": [
    "from filoma import probe_file\n",
    "\n",
    "file_info = probe_file(\"../README.md\")\n",
    "print(f\"Path: {file_info.path}\")\n",
    "print(f\"Size: {file_info.size}\")\n",
    "print(f\"Modified: {file_info.modified}\")"
   ]
  },
  {
   "cell_type": "markdown",
   "id": "acdb71a7",
   "metadata": {},
   "source": [
    "## 🖼️ Image analysis"
   ]
  },
  {
   "cell_type": "code",
   "execution_count": 9,
   "id": "494c733c",
   "metadata": {},
   "outputs": [
    {
     "name": "stdout",
     "output_type": "stream",
     "text": [
      "Type: png\n",
      "Shape: (762, 628, 4)\n",
      "Data range: 0.0 - 255.0\n"
     ]
    }
   ],
   "source": [
    "from filoma import probe_image\n",
    "\n",
    "img = probe_image(\"../images/logo.png\")\n",
    "print(f\"Type: {img.file_type}\")\n",
    "print(f\"Shape: {img.shape}\")\n",
    "print(f\"Data range: {img.min} - {img.max}\")"
   ]
  }
 ],
 "metadata": {
  "kernelspec": {
   "display_name": "filoma (3.11.11)",
   "language": "python",
   "name": "python3"
  },
  "language_info": {
   "codemirror_mode": {
    "name": "ipython",
    "version": 3
   },
   "file_extension": ".py",
   "mimetype": "text/x-python",
   "name": "python",
   "nbconvert_exporter": "python",
   "pygments_lexer": "ipython3",
   "version": "3.11.11"
  }
 },
 "nbformat": 4,
 "nbformat_minor": 5
}
