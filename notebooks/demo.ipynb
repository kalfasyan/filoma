{
 "cells": [
  {
   "cell_type": "markdown",
   "id": "da1ba4ff",
   "metadata": {},
   "source": [
    "# 🚀 filoma demo\n",
    "\n",
    "Fast, multi-backend file analysis with a tiny API surface"
   ]
  },
  {
   "cell_type": "code",
   "execution_count": 16,
   "id": "3c9cfc6f",
   "metadata": {},
   "outputs": [
    {
     "name": "stdout",
     "output_type": "stream",
     "text": [
      "filoma version: 1.7.3\n"
     ]
    }
   ],
   "source": [
    "import filoma\n",
    "\n",
    "print(f\"filoma version: {filoma.__version__}\")"
   ]
  },
  {
   "cell_type": "markdown",
   "id": "cc9779c9",
   "metadata": {},
   "source": [
    "# 🔍📁 Directory Analysis"
   ]
  },
  {
   "cell_type": "code",
   "execution_count": 17,
   "id": "0b115872",
   "metadata": {},
   "outputs": [
    {
     "name": "stderr",
     "output_type": "stream",
     "text": [
      "\u001b[32m2025-09-10 23:27:12.087\u001b[0m | \u001b[34m\u001b[1mDEBUG   \u001b[0m | \u001b[36mfiloma.directories.directory_profiler\u001b[0m:\u001b[36m__init__\u001b[0m:\u001b[36m343\u001b[0m - \u001b[34m\u001b[1mInteractive environment detected, disabling progress bars to avoid conflicts\u001b[0m\n",
      "\u001b[32m2025-09-10 23:27:12.087\u001b[0m | \u001b[1mINFO    \u001b[0m | \u001b[36mfiloma.directories.directory_profiler\u001b[0m:\u001b[36mprobe\u001b[0m:\u001b[36m430\u001b[0m - \u001b[1mStarting directory analysis of '../' using 🦀 Rust (Parallel) implementation\u001b[0m\n",
      "\u001b[32m2025-09-10 23:27:12.629\u001b[0m | \u001b[32m\u001b[1mSUCCESS \u001b[0m | \u001b[36mfiloma.directories.directory_profiler\u001b[0m:\u001b[36mprobe\u001b[0m:\u001b[36m446\u001b[0m - \u001b[32m\u001b[1mDirectory analysis completed in 0.54s - Found 54,573 items (51,369 files, 3,204 folders) using 🦀 Rust (Parallel)\u001b[0m\n"
     ]
    },
    {
     "data": {
      "text/html": [
       "<pre style=\"white-space:pre;overflow-x:auto;line-height:normal;font-family:Menlo,'DejaVu Sans Mono',consolas,'Courier New',monospace\"><span style=\"font-style: italic\"> Directory Analysis: /home/kalfasy/repos/filoma (🦀  </span>\n",
       "<span style=\"font-style: italic\">              Rust (Parallel)) - 0.54s               </span>\n",
       "┏━━━━━━━━━━━━━━━━━━━━━━━━━━┳━━━━━━━━━━━━━━━━━━━━━━━━┓\n",
       "┃<span style=\"font-weight: bold\"> Metric                   </span>┃<span style=\"font-weight: bold\"> Value                  </span>┃\n",
       "┡━━━━━━━━━━━━━━━━━━━━━━━━━━╇━━━━━━━━━━━━━━━━━━━━━━━━┩\n",
       "│<span style=\"color: #008080; text-decoration-color: #008080; font-weight: bold\"> Total Files              </span>│<span style=\"color: #c0c0c0; text-decoration-color: #c0c0c0\"> 51,369                 </span>│\n",
       "│<span style=\"color: #008080; text-decoration-color: #008080; font-weight: bold\"> Total Folders            </span>│<span style=\"color: #c0c0c0; text-decoration-color: #c0c0c0\"> 3,204                  </span>│\n",
       "│<span style=\"color: #008080; text-decoration-color: #008080; font-weight: bold\"> Total Size               </span>│<span style=\"color: #c0c0c0; text-decoration-color: #c0c0c0\"> 1,553.4079294204712 MB </span>│\n",
       "│<span style=\"color: #008080; text-decoration-color: #008080; font-weight: bold\"> Average Files per Folder </span>│<span style=\"color: #c0c0c0; text-decoration-color: #c0c0c0\"> 16.032771535580526     </span>│\n",
       "│<span style=\"color: #008080; text-decoration-color: #008080; font-weight: bold\"> Maximum Depth            </span>│<span style=\"color: #c0c0c0; text-decoration-color: #c0c0c0\"> 14                     </span>│\n",
       "│<span style=\"color: #008080; text-decoration-color: #008080; font-weight: bold\"> Empty Folders            </span>│<span style=\"color: #c0c0c0; text-decoration-color: #c0c0c0\"> 53                     </span>│\n",
       "│<span style=\"color: #008080; text-decoration-color: #008080; font-weight: bold\"> Analysis Time            </span>│<span style=\"color: #c0c0c0; text-decoration-color: #c0c0c0\"> 0.54s                  </span>│\n",
       "│<span style=\"color: #008080; text-decoration-color: #008080; font-weight: bold\"> Processing Speed         </span>│<span style=\"color: #c0c0c0; text-decoration-color: #c0c0c0\"> 100,758 items/sec      </span>│\n",
       "└──────────────────────────┴────────────────────────┘\n",
       "</pre>\n"
      ],
      "text/plain": [
       "\u001b[3m Directory Analysis: /home/kalfasy/repos/filoma (🦀  \u001b[0m\n",
       "\u001b[3m              Rust (Parallel)) - 0.54s               \u001b[0m\n",
       "┏━━━━━━━━━━━━━━━━━━━━━━━━━━┳━━━━━━━━━━━━━━━━━━━━━━━━┓\n",
       "┃\u001b[1m \u001b[0m\u001b[1mMetric                  \u001b[0m\u001b[1m \u001b[0m┃\u001b[1m \u001b[0m\u001b[1mValue                 \u001b[0m\u001b[1m \u001b[0m┃\n",
       "┡━━━━━━━━━━━━━━━━━━━━━━━━━━╇━━━━━━━━━━━━━━━━━━━━━━━━┩\n",
       "│\u001b[1;36m \u001b[0m\u001b[1;36mTotal Files             \u001b[0m\u001b[1;36m \u001b[0m│\u001b[37m \u001b[0m\u001b[37m51,369                \u001b[0m\u001b[37m \u001b[0m│\n",
       "│\u001b[1;36m \u001b[0m\u001b[1;36mTotal Folders           \u001b[0m\u001b[1;36m \u001b[0m│\u001b[37m \u001b[0m\u001b[37m3,204                 \u001b[0m\u001b[37m \u001b[0m│\n",
       "│\u001b[1;36m \u001b[0m\u001b[1;36mTotal Size              \u001b[0m\u001b[1;36m \u001b[0m│\u001b[37m \u001b[0m\u001b[37m1,553.4079294204712 MB\u001b[0m\u001b[37m \u001b[0m│\n",
       "│\u001b[1;36m \u001b[0m\u001b[1;36mAverage Files per Folder\u001b[0m\u001b[1;36m \u001b[0m│\u001b[37m \u001b[0m\u001b[37m16.032771535580526    \u001b[0m\u001b[37m \u001b[0m│\n",
       "│\u001b[1;36m \u001b[0m\u001b[1;36mMaximum Depth           \u001b[0m\u001b[1;36m \u001b[0m│\u001b[37m \u001b[0m\u001b[37m14                    \u001b[0m\u001b[37m \u001b[0m│\n",
       "│\u001b[1;36m \u001b[0m\u001b[1;36mEmpty Folders           \u001b[0m\u001b[1;36m \u001b[0m│\u001b[37m \u001b[0m\u001b[37m53                    \u001b[0m\u001b[37m \u001b[0m│\n",
       "│\u001b[1;36m \u001b[0m\u001b[1;36mAnalysis Time           \u001b[0m\u001b[1;36m \u001b[0m│\u001b[37m \u001b[0m\u001b[37m0.54s                 \u001b[0m\u001b[37m \u001b[0m│\n",
       "│\u001b[1;36m \u001b[0m\u001b[1;36mProcessing Speed        \u001b[0m\u001b[1;36m \u001b[0m│\u001b[37m \u001b[0m\u001b[37m100,758 items/sec     \u001b[0m\u001b[37m \u001b[0m│\n",
       "└──────────────────────────┴────────────────────────┘\n"
      ]
     },
     "metadata": {},
     "output_type": "display_data"
    },
    {
     "data": {
      "text/html": [
       "<pre style=\"white-space:pre;overflow-x:auto;line-height:normal;font-family:Menlo,'DejaVu Sans Mono',consolas,'Courier New',monospace\">\n",
       "</pre>\n"
      ],
      "text/plain": [
       "\n"
      ]
     },
     "metadata": {},
     "output_type": "display_data"
    }
   ],
   "source": [
    "from filoma.directories import DirectoryProfiler, DirectoryProfilerConfig\n",
    "\n",
    "# Create a profiler using the typed config dataclass\n",
    "config = DirectoryProfilerConfig(use_rust=True)\n",
    "dp1 = DirectoryProfiler(config)\n",
    "\n",
    "analysis = dp1.probe(\"../\")\n",
    "dp1.print_summary(analysis)"
   ]
  },
  {
   "cell_type": "code",
   "execution_count": 18,
   "id": "fb2f3a50",
   "metadata": {},
   "outputs": [
    {
     "data": {
      "text/html": [
       "<pre style=\"white-space:pre;overflow-x:auto;line-height:normal;font-family:Menlo,'DejaVu Sans Mono',consolas,'Courier New',monospace\"><span style=\"font-style: italic\"> Directory Analysis: /home/kalfasy/repos/filoma (🦀  </span>\n",
       "<span style=\"font-style: italic\">              Rust (Parallel)) - 0.54s               </span>\n",
       "┏━━━━━━━━━━━━━━━━━━━━━━━━━━┳━━━━━━━━━━━━━━━━━━━━━━━━┓\n",
       "┃<span style=\"font-weight: bold\"> Metric                   </span>┃<span style=\"font-weight: bold\"> Value                  </span>┃\n",
       "┡━━━━━━━━━━━━━━━━━━━━━━━━━━╇━━━━━━━━━━━━━━━━━━━━━━━━┩\n",
       "│<span style=\"color: #008080; text-decoration-color: #008080; font-weight: bold\"> Total Files              </span>│<span style=\"color: #c0c0c0; text-decoration-color: #c0c0c0\"> 51,369                 </span>│\n",
       "│<span style=\"color: #008080; text-decoration-color: #008080; font-weight: bold\"> Total Folders            </span>│<span style=\"color: #c0c0c0; text-decoration-color: #c0c0c0\"> 3,204                  </span>│\n",
       "│<span style=\"color: #008080; text-decoration-color: #008080; font-weight: bold\"> Total Size               </span>│<span style=\"color: #c0c0c0; text-decoration-color: #c0c0c0\"> 1,553.4079294204712 MB </span>│\n",
       "│<span style=\"color: #008080; text-decoration-color: #008080; font-weight: bold\"> Average Files per Folder </span>│<span style=\"color: #c0c0c0; text-decoration-color: #c0c0c0\"> 16.032771535580526     </span>│\n",
       "│<span style=\"color: #008080; text-decoration-color: #008080; font-weight: bold\"> Maximum Depth            </span>│<span style=\"color: #c0c0c0; text-decoration-color: #c0c0c0\"> 14                     </span>│\n",
       "│<span style=\"color: #008080; text-decoration-color: #008080; font-weight: bold\"> Empty Folders            </span>│<span style=\"color: #c0c0c0; text-decoration-color: #c0c0c0\"> 53                     </span>│\n",
       "│<span style=\"color: #008080; text-decoration-color: #008080; font-weight: bold\"> Analysis Time            </span>│<span style=\"color: #c0c0c0; text-decoration-color: #c0c0c0\"> 0.54s                  </span>│\n",
       "│<span style=\"color: #008080; text-decoration-color: #008080; font-weight: bold\"> Processing Speed         </span>│<span style=\"color: #c0c0c0; text-decoration-color: #c0c0c0\"> 100,758 items/sec      </span>│\n",
       "└──────────────────────────┴────────────────────────┘\n",
       "</pre>\n"
      ],
      "text/plain": [
       "\u001b[3m Directory Analysis: /home/kalfasy/repos/filoma (🦀  \u001b[0m\n",
       "\u001b[3m              Rust (Parallel)) - 0.54s               \u001b[0m\n",
       "┏━━━━━━━━━━━━━━━━━━━━━━━━━━┳━━━━━━━━━━━━━━━━━━━━━━━━┓\n",
       "┃\u001b[1m \u001b[0m\u001b[1mMetric                  \u001b[0m\u001b[1m \u001b[0m┃\u001b[1m \u001b[0m\u001b[1mValue                 \u001b[0m\u001b[1m \u001b[0m┃\n",
       "┡━━━━━━━━━━━━━━━━━━━━━━━━━━╇━━━━━━━━━━━━━━━━━━━━━━━━┩\n",
       "│\u001b[1;36m \u001b[0m\u001b[1;36mTotal Files             \u001b[0m\u001b[1;36m \u001b[0m│\u001b[37m \u001b[0m\u001b[37m51,369                \u001b[0m\u001b[37m \u001b[0m│\n",
       "│\u001b[1;36m \u001b[0m\u001b[1;36mTotal Folders           \u001b[0m\u001b[1;36m \u001b[0m│\u001b[37m \u001b[0m\u001b[37m3,204                 \u001b[0m\u001b[37m \u001b[0m│\n",
       "│\u001b[1;36m \u001b[0m\u001b[1;36mTotal Size              \u001b[0m\u001b[1;36m \u001b[0m│\u001b[37m \u001b[0m\u001b[37m1,553.4079294204712 MB\u001b[0m\u001b[37m \u001b[0m│\n",
       "│\u001b[1;36m \u001b[0m\u001b[1;36mAverage Files per Folder\u001b[0m\u001b[1;36m \u001b[0m│\u001b[37m \u001b[0m\u001b[37m16.032771535580526    \u001b[0m\u001b[37m \u001b[0m│\n",
       "│\u001b[1;36m \u001b[0m\u001b[1;36mMaximum Depth           \u001b[0m\u001b[1;36m \u001b[0m│\u001b[37m \u001b[0m\u001b[37m14                    \u001b[0m\u001b[37m \u001b[0m│\n",
       "│\u001b[1;36m \u001b[0m\u001b[1;36mEmpty Folders           \u001b[0m\u001b[1;36m \u001b[0m│\u001b[37m \u001b[0m\u001b[37m53                    \u001b[0m\u001b[37m \u001b[0m│\n",
       "│\u001b[1;36m \u001b[0m\u001b[1;36mAnalysis Time           \u001b[0m\u001b[1;36m \u001b[0m│\u001b[37m \u001b[0m\u001b[37m0.54s                 \u001b[0m\u001b[37m \u001b[0m│\n",
       "│\u001b[1;36m \u001b[0m\u001b[1;36mProcessing Speed        \u001b[0m\u001b[1;36m \u001b[0m│\u001b[37m \u001b[0m\u001b[37m100,758 items/sec     \u001b[0m\u001b[37m \u001b[0m│\n",
       "└──────────────────────────┴────────────────────────┘\n"
      ]
     },
     "metadata": {},
     "output_type": "display_data"
    },
    {
     "data": {
      "text/html": [
       "<pre style=\"white-space:pre;overflow-x:auto;line-height:normal;font-family:Menlo,'DejaVu Sans Mono',consolas,'Courier New',monospace\">\n",
       "</pre>\n"
      ],
      "text/plain": [
       "\n"
      ]
     },
     "metadata": {},
     "output_type": "display_data"
    },
    {
     "data": {
      "text/html": [
       "<pre style=\"white-space:pre;overflow-x:auto;line-height:normal;font-family:Menlo,'DejaVu Sans Mono',consolas,'Courier New',monospace\"><span style=\"font-style: italic\">         File Extensions          </span>\n",
       "┏━━━━━━━━━━━┳━━━━━━━┳━━━━━━━━━━━━┓\n",
       "┃<span style=\"font-weight: bold\"> Extension </span>┃<span style=\"font-weight: bold\"> Count </span>┃<span style=\"font-weight: bold\"> Percentage </span>┃\n",
       "┡━━━━━━━━━━━╇━━━━━━━╇━━━━━━━━━━━━┩\n",
       "│<span style=\"color: #800080; text-decoration-color: #800080; font-weight: bold\"> .idx      </span>│<span style=\"color: #c0c0c0; text-decoration-color: #c0c0c0\"> 2     </span>│<span style=\"color: #008000; text-decoration-color: #008000\"> 0.0%       </span>│\n",
       "│<span style=\"color: #800080; text-decoration-color: #800080; font-weight: bold\"> .pack     </span>│<span style=\"color: #c0c0c0; text-decoration-color: #c0c0c0\"> 2     </span>│<span style=\"color: #008000; text-decoration-color: #008000\"> 0.0%       </span>│\n",
       "│<span style=\"color: #800080; text-decoration-color: #800080; font-weight: bold\"> .pem      </span>│<span style=\"color: #c0c0c0; text-decoration-color: #c0c0c0\"> 2     </span>│<span style=\"color: #008000; text-decoration-color: #008000\"> 0.0%       </span>│\n",
       "│<span style=\"color: #800080; text-decoration-color: #800080; font-weight: bold\"> .yaml     </span>│<span style=\"color: #c0c0c0; text-decoration-color: #c0c0c0\"> 4     </span>│<span style=\"color: #008000; text-decoration-color: #008000\"> 0.0%       </span>│\n",
       "│<span style=\"color: #800080; text-decoration-color: #800080; font-weight: bold\"> .sty      </span>│<span style=\"color: #c0c0c0; text-decoration-color: #c0c0c0\"> 2     </span>│<span style=\"color: #008000; text-decoration-color: #008000\"> 0.0%       </span>│\n",
       "│<span style=\"color: #800080; text-decoration-color: #800080; font-weight: bold\"> .pth      </span>│<span style=\"color: #c0c0c0; text-decoration-color: #c0c0c0\"> 4     </span>│<span style=\"color: #008000; text-decoration-color: #008000\"> 0.0%       </span>│\n",
       "│<span style=\"color: #800080; text-decoration-color: #800080; font-weight: bold\"> .txt      </span>│<span style=\"color: #c0c0c0; text-decoration-color: #c0c0c0\"> 339   </span>│<span style=\"color: #008000; text-decoration-color: #008000\"> 0.7%       </span>│\n",
       "│<span style=\"color: #800080; text-decoration-color: #800080; font-weight: bold\"> .sample   </span>│<span style=\"color: #c0c0c0; text-decoration-color: #c0c0c0\"> 14    </span>│<span style=\"color: #008000; text-decoration-color: #008000\"> 0.0%       </span>│\n",
       "│<span style=\"color: #800080; text-decoration-color: #800080; font-weight: bold\"> .bat      </span>│<span style=\"color: #c0c0c0; text-decoration-color: #c0c0c0\"> 11    </span>│<span style=\"color: #008000; text-decoration-color: #008000\"> 0.0%       </span>│\n",
       "│<span style=\"color: #800080; text-decoration-color: #800080; font-weight: bold\"> .11       </span>│<span style=\"color: #c0c0c0; text-decoration-color: #c0c0c0\"> 1     </span>│<span style=\"color: #008000; text-decoration-color: #008000\"> 0.0%       </span>│\n",
       "└───────────┴───────┴────────────┘\n",
       "</pre>\n"
      ],
      "text/plain": [
       "\u001b[3m         File Extensions          \u001b[0m\n",
       "┏━━━━━━━━━━━┳━━━━━━━┳━━━━━━━━━━━━┓\n",
       "┃\u001b[1m \u001b[0m\u001b[1mExtension\u001b[0m\u001b[1m \u001b[0m┃\u001b[1m \u001b[0m\u001b[1mCount\u001b[0m\u001b[1m \u001b[0m┃\u001b[1m \u001b[0m\u001b[1mPercentage\u001b[0m\u001b[1m \u001b[0m┃\n",
       "┡━━━━━━━━━━━╇━━━━━━━╇━━━━━━━━━━━━┩\n",
       "│\u001b[1;35m \u001b[0m\u001b[1;35m.idx     \u001b[0m\u001b[1;35m \u001b[0m│\u001b[37m \u001b[0m\u001b[37m2    \u001b[0m\u001b[37m \u001b[0m│\u001b[32m \u001b[0m\u001b[32m0.0%      \u001b[0m\u001b[32m \u001b[0m│\n",
       "│\u001b[1;35m \u001b[0m\u001b[1;35m.pack    \u001b[0m\u001b[1;35m \u001b[0m│\u001b[37m \u001b[0m\u001b[37m2    \u001b[0m\u001b[37m \u001b[0m│\u001b[32m \u001b[0m\u001b[32m0.0%      \u001b[0m\u001b[32m \u001b[0m│\n",
       "│\u001b[1;35m \u001b[0m\u001b[1;35m.pem     \u001b[0m\u001b[1;35m \u001b[0m│\u001b[37m \u001b[0m\u001b[37m2    \u001b[0m\u001b[37m \u001b[0m│\u001b[32m \u001b[0m\u001b[32m0.0%      \u001b[0m\u001b[32m \u001b[0m│\n",
       "│\u001b[1;35m \u001b[0m\u001b[1;35m.yaml    \u001b[0m\u001b[1;35m \u001b[0m│\u001b[37m \u001b[0m\u001b[37m4    \u001b[0m\u001b[37m \u001b[0m│\u001b[32m \u001b[0m\u001b[32m0.0%      \u001b[0m\u001b[32m \u001b[0m│\n",
       "│\u001b[1;35m \u001b[0m\u001b[1;35m.sty     \u001b[0m\u001b[1;35m \u001b[0m│\u001b[37m \u001b[0m\u001b[37m2    \u001b[0m\u001b[37m \u001b[0m│\u001b[32m \u001b[0m\u001b[32m0.0%      \u001b[0m\u001b[32m \u001b[0m│\n",
       "│\u001b[1;35m \u001b[0m\u001b[1;35m.pth     \u001b[0m\u001b[1;35m \u001b[0m│\u001b[37m \u001b[0m\u001b[37m4    \u001b[0m\u001b[37m \u001b[0m│\u001b[32m \u001b[0m\u001b[32m0.0%      \u001b[0m\u001b[32m \u001b[0m│\n",
       "│\u001b[1;35m \u001b[0m\u001b[1;35m.txt     \u001b[0m\u001b[1;35m \u001b[0m│\u001b[37m \u001b[0m\u001b[37m339  \u001b[0m\u001b[37m \u001b[0m│\u001b[32m \u001b[0m\u001b[32m0.7%      \u001b[0m\u001b[32m \u001b[0m│\n",
       "│\u001b[1;35m \u001b[0m\u001b[1;35m.sample  \u001b[0m\u001b[1;35m \u001b[0m│\u001b[37m \u001b[0m\u001b[37m14   \u001b[0m\u001b[37m \u001b[0m│\u001b[32m \u001b[0m\u001b[32m0.0%      \u001b[0m\u001b[32m \u001b[0m│\n",
       "│\u001b[1;35m \u001b[0m\u001b[1;35m.bat     \u001b[0m\u001b[1;35m \u001b[0m│\u001b[37m \u001b[0m\u001b[37m11   \u001b[0m\u001b[37m \u001b[0m│\u001b[32m \u001b[0m\u001b[32m0.0%      \u001b[0m\u001b[32m \u001b[0m│\n",
       "│\u001b[1;35m \u001b[0m\u001b[1;35m.11      \u001b[0m\u001b[1;35m \u001b[0m│\u001b[37m \u001b[0m\u001b[37m1    \u001b[0m\u001b[37m \u001b[0m│\u001b[32m \u001b[0m\u001b[32m0.0%      \u001b[0m\u001b[32m \u001b[0m│\n",
       "└───────────┴───────┴────────────┘\n"
      ]
     },
     "metadata": {},
     "output_type": "display_data"
    },
    {
     "data": {
      "text/html": [
       "<pre style=\"white-space:pre;overflow-x:auto;line-height:normal;font-family:Menlo,'DejaVu Sans Mono',consolas,'Courier New',monospace\">\n",
       "</pre>\n"
      ],
      "text/plain": [
       "\n"
      ]
     },
     "metadata": {},
     "output_type": "display_data"
    },
    {
     "data": {
      "text/html": [
       "<pre style=\"white-space:pre;overflow-x:auto;line-height:normal;font-family:Menlo,'DejaVu Sans Mono',consolas,'Courier New',monospace\"><span style=\"font-style: italic\">             Common Folder Names             </span>\n",
       "┏━━━━━━━━━━━━━━━━━━━━━━━━━━━━━┳━━━━━━━━━━━━━┓\n",
       "┃<span style=\"font-weight: bold\"> Folder Name                 </span>┃<span style=\"font-weight: bold\"> Occurrences </span>┃\n",
       "┡━━━━━━━━━━━━━━━━━━━━━━━━━━━━━╇━━━━━━━━━━━━━┩\n",
       "│<span style=\"color: #000080; text-decoration-color: #000080; font-weight: bold\"> backends                    </span>│<span style=\"color: #c0c0c0; text-decoration-color: #c0c0c0\"> 17          </span>│\n",
       "│<span style=\"color: #000080; text-decoration-color: #000080; font-weight: bold\"> 3.9                         </span>│<span style=\"color: #c0c0c0; text-decoration-color: #c0c0c0\"> 2           </span>│\n",
       "│<span style=\"color: #000080; text-decoration-color: #000080; font-weight: bold\"> medium-white                </span>│<span style=\"color: #c0c0c0; text-decoration-color: #c0c0c0\"> 2           </span>│\n",
       "│<span style=\"color: #000080; text-decoration-color: #000080; font-weight: bold\"> nh3                         </span>│<span style=\"color: #c0c0c0; text-decoration-color: #c0c0c0\"> 2           </span>│\n",
       "│<span style=\"color: #000080; text-decoration-color: #000080; font-weight: bold\"> memoffset-89cd13903b063a45  </span>│<span style=\"color: #c0c0c0; text-decoration-color: #c0c0c0\"> 2           </span>│\n",
       "│<span style=\"color: #000080; text-decoration-color: #000080; font-weight: bold\"> 97                          </span>│<span style=\"color: #c0c0c0; text-decoration-color: #c0c0c0\"> 1           </span>│\n",
       "│<span style=\"color: #000080; text-decoration-color: #000080; font-weight: bold\"> serde_json-cb00db29a14b4945 </span>│<span style=\"color: #c0c0c0; text-decoration-color: #c0c0c0\"> 1           </span>│\n",
       "│<span style=\"color: #000080; text-decoration-color: #000080; font-weight: bold\"> gettext_translations        </span>│<span style=\"color: #c0c0c0; text-decoration-color: #c0c0c0\"> 2           </span>│\n",
       "│<span style=\"color: #000080; text-decoration-color: #000080; font-weight: bold\"> autocfg-9280f9c2f723f569    </span>│<span style=\"color: #c0c0c0; text-decoration-color: #c0c0c0\"> 1           </span>│\n",
       "│<span style=\"color: #000080; text-decoration-color: #000080; font-weight: bold\"> 26                          </span>│<span style=\"color: #c0c0c0; text-decoration-color: #c0c0c0\"> 1           </span>│\n",
       "└─────────────────────────────┴─────────────┘\n",
       "</pre>\n"
      ],
      "text/plain": [
       "\u001b[3m             Common Folder Names             \u001b[0m\n",
       "┏━━━━━━━━━━━━━━━━━━━━━━━━━━━━━┳━━━━━━━━━━━━━┓\n",
       "┃\u001b[1m \u001b[0m\u001b[1mFolder Name                \u001b[0m\u001b[1m \u001b[0m┃\u001b[1m \u001b[0m\u001b[1mOccurrences\u001b[0m\u001b[1m \u001b[0m┃\n",
       "┡━━━━━━━━━━━━━━━━━━━━━━━━━━━━━╇━━━━━━━━━━━━━┩\n",
       "│\u001b[1;34m \u001b[0m\u001b[1;34mbackends                   \u001b[0m\u001b[1;34m \u001b[0m│\u001b[37m \u001b[0m\u001b[37m17         \u001b[0m\u001b[37m \u001b[0m│\n",
       "│\u001b[1;34m \u001b[0m\u001b[1;34m3.9                        \u001b[0m\u001b[1;34m \u001b[0m│\u001b[37m \u001b[0m\u001b[37m2          \u001b[0m\u001b[37m \u001b[0m│\n",
       "│\u001b[1;34m \u001b[0m\u001b[1;34mmedium-white               \u001b[0m\u001b[1;34m \u001b[0m│\u001b[37m \u001b[0m\u001b[37m2          \u001b[0m\u001b[37m \u001b[0m│\n",
       "│\u001b[1;34m \u001b[0m\u001b[1;34mnh3                        \u001b[0m\u001b[1;34m \u001b[0m│\u001b[37m \u001b[0m\u001b[37m2          \u001b[0m\u001b[37m \u001b[0m│\n",
       "│\u001b[1;34m \u001b[0m\u001b[1;34mmemoffset-89cd13903b063a45 \u001b[0m\u001b[1;34m \u001b[0m│\u001b[37m \u001b[0m\u001b[37m2          \u001b[0m\u001b[37m \u001b[0m│\n",
       "│\u001b[1;34m \u001b[0m\u001b[1;34m97                         \u001b[0m\u001b[1;34m \u001b[0m│\u001b[37m \u001b[0m\u001b[37m1          \u001b[0m\u001b[37m \u001b[0m│\n",
       "│\u001b[1;34m \u001b[0m\u001b[1;34mserde_json-cb00db29a14b4945\u001b[0m\u001b[1;34m \u001b[0m│\u001b[37m \u001b[0m\u001b[37m1          \u001b[0m\u001b[37m \u001b[0m│\n",
       "│\u001b[1;34m \u001b[0m\u001b[1;34mgettext_translations       \u001b[0m\u001b[1;34m \u001b[0m│\u001b[37m \u001b[0m\u001b[37m2          \u001b[0m\u001b[37m \u001b[0m│\n",
       "│\u001b[1;34m \u001b[0m\u001b[1;34mautocfg-9280f9c2f723f569   \u001b[0m\u001b[1;34m \u001b[0m│\u001b[37m \u001b[0m\u001b[37m1          \u001b[0m\u001b[37m \u001b[0m│\n",
       "│\u001b[1;34m \u001b[0m\u001b[1;34m26                         \u001b[0m\u001b[1;34m \u001b[0m│\u001b[37m \u001b[0m\u001b[37m1          \u001b[0m\u001b[37m \u001b[0m│\n",
       "└─────────────────────────────┴─────────────┘\n"
      ]
     },
     "metadata": {},
     "output_type": "display_data"
    },
    {
     "data": {
      "text/html": [
       "<pre style=\"white-space:pre;overflow-x:auto;line-height:normal;font-family:Menlo,'DejaVu Sans Mono',consolas,'Courier New',monospace\">\n",
       "</pre>\n"
      ],
      "text/plain": [
       "\n"
      ]
     },
     "metadata": {},
     "output_type": "display_data"
    },
    {
     "data": {
      "text/html": [
       "<pre style=\"white-space:pre;overflow-x:auto;line-height:normal;font-family:Menlo,'DejaVu Sans Mono',consolas,'Courier New',monospace\"><span style=\"font-style: italic\">                             Empty Folders (showing 20 of 53)                             </span>\n",
       "┏━━━━━━━━━━━━━━━━━━━━━━━━━━━━━━━━━━━━━━━━━━━━━━━━━━━━━━━━━━━━━━━━━━━━━━━━━━━━━━━━━━━━━━━━┓\n",
       "┃<span style=\"font-weight: bold\"> Path                                                                                   </span>┃\n",
       "┡━━━━━━━━━━━━━━━━━━━━━━━━━━━━━━━━━━━━━━━━━━━━━━━━━━━━━━━━━━━━━━━━━━━━━━━━━━━━━━━━━━━━━━━━┩\n",
       "│<span style=\"color: #808000; text-decoration-color: #808000\"> /home/kalfasy/repos/filoma/notebooks/tests                                             </span>│\n",
       "│<span style=\"color: #808000; text-decoration-color: #808000\"> /home/kalfasy/repos/filoma/target/debug/build/proc-macro2-fdcb222da4373f07/out         </span>│\n",
       "│<span style=\"color: #808000; text-decoration-color: #808000\"> /home/kalfasy/repos/filoma/target/debug/build/pyo3-17c1b0b456a0c7e4/out                </span>│\n",
       "│<span style=\"color: #808000; text-decoration-color: #808000\"> /home/kalfasy/repos/filoma/target/debug/build/crossbeam-utils-7b9bd07d9fad49b5/out     </span>│\n",
       "│<span style=\"color: #808000; text-decoration-color: #808000\"> /home/kalfasy/repos/filoma/target/debug/build/serde_json-85cdf3d882972d5c/out          </span>│\n",
       "│<span style=\"color: #808000; text-decoration-color: #808000\"> /home/kalfasy/repos/filoma/target/debug/build/pyo3-8813d706ead48d90/out                </span>│\n",
       "│<span style=\"color: #808000; text-decoration-color: #808000\"> /home/kalfasy/repos/filoma/target/debug/build/pyo3-macros-backend-6807c5cda8b1462a/out </span>│\n",
       "│<span style=\"color: #808000; text-decoration-color: #808000\"> /home/kalfasy/repos/filoma/target/debug/build/memoffset-f4a6c90d4e3f18eb/out           </span>│\n",
       "│<span style=\"color: #808000; text-decoration-color: #808000\"> /home/kalfasy/repos/filoma/target/debug/build/rayon-core-03a79c366c595edc/out          </span>│\n",
       "│<span style=\"color: #808000; text-decoration-color: #808000\"> /home/kalfasy/repos/filoma/target/debug/build/pyo3-macros-backend-3864f2b2dbf9644d/out </span>│\n",
       "│<span style=\"color: #808000; text-decoration-color: #808000\"> /home/kalfasy/repos/filoma/target/debug/build/pyo3-264b9b4aa4d6a2b5/out                </span>│\n",
       "│<span style=\"color: #808000; text-decoration-color: #808000\"> /home/kalfasy/repos/filoma/target/debug/build/portable-atomic-f4353affba5b92e8/out     </span>│\n",
       "│<span style=\"color: #808000; text-decoration-color: #808000\"> /home/kalfasy/repos/filoma/target/debug/build/pyo3-ffi-747a9d93a69eb79b/out            </span>│\n",
       "│<span style=\"color: #808000; text-decoration-color: #808000\"> /home/kalfasy/repos/filoma/target/debug/build/proc-macro2-4d577003447afa24/out         </span>│\n",
       "│<span style=\"color: #808000; text-decoration-color: #808000\"> /home/kalfasy/repos/filoma/target/debug/build/pyo3-ffi-8e536f56d2d22bd8/out            </span>│\n",
       "│<span style=\"color: #808000; text-decoration-color: #808000\"> /home/kalfasy/repos/filoma/target/debug/build/libc-9d68f4abca27c9af/out                </span>│\n",
       "│<span style=\"color: #808000; text-decoration-color: #808000\"> /home/kalfasy/repos/filoma/target/debug/build/lock_api-96adb08174198570/out            </span>│\n",
       "│<span style=\"color: #808000; text-decoration-color: #808000\"> /home/kalfasy/repos/filoma/target/debug/build/serde-6690732fba37d144/out               </span>│\n",
       "│<span style=\"color: #808000; text-decoration-color: #808000\"> /home/kalfasy/repos/filoma/target/debug/build/parking_lot_core-d5ba795b49a036a8/out    </span>│\n",
       "│<span style=\"color: #808000; text-decoration-color: #808000\"> /home/kalfasy/repos/filoma/target/debug/build/pyo3-ffi-0b1b893f015622ee/out            </span>│\n",
       "│<span style=\"color: #808000; text-decoration-color: #808000\"> ... and 33 more                                                                        </span>│\n",
       "└────────────────────────────────────────────────────────────────────────────────────────┘\n",
       "</pre>\n"
      ],
      "text/plain": [
       "\u001b[3m                             Empty Folders (showing 20 of 53)                             \u001b[0m\n",
       "┏━━━━━━━━━━━━━━━━━━━━━━━━━━━━━━━━━━━━━━━━━━━━━━━━━━━━━━━━━━━━━━━━━━━━━━━━━━━━━━━━━━━━━━━━┓\n",
       "┃\u001b[1m \u001b[0m\u001b[1mPath                                                                                  \u001b[0m\u001b[1m \u001b[0m┃\n",
       "┡━━━━━━━━━━━━━━━━━━━━━━━━━━━━━━━━━━━━━━━━━━━━━━━━━━━━━━━━━━━━━━━━━━━━━━━━━━━━━━━━━━━━━━━━┩\n",
       "│\u001b[33m \u001b[0m\u001b[33m/home/kalfasy/repos/filoma/notebooks/tests                                            \u001b[0m\u001b[33m \u001b[0m│\n",
       "│\u001b[33m \u001b[0m\u001b[33m/home/kalfasy/repos/filoma/target/debug/build/proc-macro2-fdcb222da4373f07/out        \u001b[0m\u001b[33m \u001b[0m│\n",
       "│\u001b[33m \u001b[0m\u001b[33m/home/kalfasy/repos/filoma/target/debug/build/pyo3-17c1b0b456a0c7e4/out               \u001b[0m\u001b[33m \u001b[0m│\n",
       "│\u001b[33m \u001b[0m\u001b[33m/home/kalfasy/repos/filoma/target/debug/build/crossbeam-utils-7b9bd07d9fad49b5/out    \u001b[0m\u001b[33m \u001b[0m│\n",
       "│\u001b[33m \u001b[0m\u001b[33m/home/kalfasy/repos/filoma/target/debug/build/serde_json-85cdf3d882972d5c/out         \u001b[0m\u001b[33m \u001b[0m│\n",
       "│\u001b[33m \u001b[0m\u001b[33m/home/kalfasy/repos/filoma/target/debug/build/pyo3-8813d706ead48d90/out               \u001b[0m\u001b[33m \u001b[0m│\n",
       "│\u001b[33m \u001b[0m\u001b[33m/home/kalfasy/repos/filoma/target/debug/build/pyo3-macros-backend-6807c5cda8b1462a/out\u001b[0m\u001b[33m \u001b[0m│\n",
       "│\u001b[33m \u001b[0m\u001b[33m/home/kalfasy/repos/filoma/target/debug/build/memoffset-f4a6c90d4e3f18eb/out          \u001b[0m\u001b[33m \u001b[0m│\n",
       "│\u001b[33m \u001b[0m\u001b[33m/home/kalfasy/repos/filoma/target/debug/build/rayon-core-03a79c366c595edc/out         \u001b[0m\u001b[33m \u001b[0m│\n",
       "│\u001b[33m \u001b[0m\u001b[33m/home/kalfasy/repos/filoma/target/debug/build/pyo3-macros-backend-3864f2b2dbf9644d/out\u001b[0m\u001b[33m \u001b[0m│\n",
       "│\u001b[33m \u001b[0m\u001b[33m/home/kalfasy/repos/filoma/target/debug/build/pyo3-264b9b4aa4d6a2b5/out               \u001b[0m\u001b[33m \u001b[0m│\n",
       "│\u001b[33m \u001b[0m\u001b[33m/home/kalfasy/repos/filoma/target/debug/build/portable-atomic-f4353affba5b92e8/out    \u001b[0m\u001b[33m \u001b[0m│\n",
       "│\u001b[33m \u001b[0m\u001b[33m/home/kalfasy/repos/filoma/target/debug/build/pyo3-ffi-747a9d93a69eb79b/out           \u001b[0m\u001b[33m \u001b[0m│\n",
       "│\u001b[33m \u001b[0m\u001b[33m/home/kalfasy/repos/filoma/target/debug/build/proc-macro2-4d577003447afa24/out        \u001b[0m\u001b[33m \u001b[0m│\n",
       "│\u001b[33m \u001b[0m\u001b[33m/home/kalfasy/repos/filoma/target/debug/build/pyo3-ffi-8e536f56d2d22bd8/out           \u001b[0m\u001b[33m \u001b[0m│\n",
       "│\u001b[33m \u001b[0m\u001b[33m/home/kalfasy/repos/filoma/target/debug/build/libc-9d68f4abca27c9af/out               \u001b[0m\u001b[33m \u001b[0m│\n",
       "│\u001b[33m \u001b[0m\u001b[33m/home/kalfasy/repos/filoma/target/debug/build/lock_api-96adb08174198570/out           \u001b[0m\u001b[33m \u001b[0m│\n",
       "│\u001b[33m \u001b[0m\u001b[33m/home/kalfasy/repos/filoma/target/debug/build/serde-6690732fba37d144/out              \u001b[0m\u001b[33m \u001b[0m│\n",
       "│\u001b[33m \u001b[0m\u001b[33m/home/kalfasy/repos/filoma/target/debug/build/parking_lot_core-d5ba795b49a036a8/out   \u001b[0m\u001b[33m \u001b[0m│\n",
       "│\u001b[33m \u001b[0m\u001b[33m/home/kalfasy/repos/filoma/target/debug/build/pyo3-ffi-0b1b893f015622ee/out           \u001b[0m\u001b[33m \u001b[0m│\n",
       "│\u001b[33m \u001b[0m\u001b[33m... and 33 more                                                                       \u001b[0m\u001b[33m \u001b[0m│\n",
       "└────────────────────────────────────────────────────────────────────────────────────────┘\n"
      ]
     },
     "metadata": {},
     "output_type": "display_data"
    },
    {
     "data": {
      "text/html": [
       "<pre style=\"white-space:pre;overflow-x:auto;line-height:normal;font-family:Menlo,'DejaVu Sans Mono',consolas,'Courier New',monospace\">\n",
       "</pre>\n"
      ],
      "text/plain": [
       "\n"
      ]
     },
     "metadata": {},
     "output_type": "display_data"
    }
   ],
   "source": [
    "dp1.print_report(analysis)"
   ]
  },
  {
   "cell_type": "markdown",
   "id": "448bc8d6",
   "metadata": {},
   "source": [
    "## 📁 Directory to DataFrame"
   ]
  },
  {
   "cell_type": "code",
   "execution_count": 19,
   "id": "9006315c",
   "metadata": {},
   "outputs": [
    {
     "name": "stderr",
     "output_type": "stream",
     "text": [
      "\u001b[32m2025-09-10 23:27:12.645\u001b[0m | \u001b[34m\u001b[1mDEBUG   \u001b[0m | \u001b[36mfiloma.directories.directory_profiler\u001b[0m:\u001b[36m__init__\u001b[0m:\u001b[36m343\u001b[0m - \u001b[34m\u001b[1mInteractive environment detected, disabling progress bars to avoid conflicts\u001b[0m\n",
      "\u001b[32m2025-09-10 23:27:12.646\u001b[0m | \u001b[1mINFO    \u001b[0m | \u001b[36mfiloma.directories.directory_profiler\u001b[0m:\u001b[36mprobe\u001b[0m:\u001b[36m430\u001b[0m - \u001b[1mStarting directory analysis of '../' using 🐍 Python implementation\u001b[0m\n",
      "\u001b[32m2025-09-10 23:27:12.945\u001b[0m | \u001b[32m\u001b[1mSUCCESS \u001b[0m | \u001b[36mfiloma.directories.directory_profiler\u001b[0m:\u001b[36mprobe\u001b[0m:\u001b[36m446\u001b[0m - \u001b[32m\u001b[1mDirectory analysis completed in 0.30s - Found 360 items (299 files, 61 folders) using 🐍 Python\u001b[0m\n"
     ]
    },
    {
     "name": "stdout",
     "output_type": "stream",
     "text": [
      "Found 359 files\n"
     ]
    },
    {
     "data": {
      "text/html": [
       "<div><style>\n",
       ".dataframe > thead > tr,\n",
       ".dataframe > tbody > tr {\n",
       "  text-align: right;\n",
       "  white-space: pre-wrap;\n",
       "}\n",
       "</style>\n",
       "<small>shape: (5, 18)</small><table border=\"1\" class=\"dataframe\"><thead><tr><th>path</th><th>depth</th><th>parent</th><th>name</th><th>stem</th><th>suffix</th><th>size_bytes</th><th>modified_time</th><th>created_time</th><th>is_file</th><th>is_dir</th><th>owner</th><th>group</th><th>mode_str</th><th>inode</th><th>nlink</th><th>sha256</th><th>xattrs</th></tr><tr><td>str</td><td>i64</td><td>str</td><td>str</td><td>str</td><td>str</td><td>i64</td><td>str</td><td>str</td><td>bool</td><td>bool</td><td>str</td><td>str</td><td>str</td><td>i64</td><td>i64</td><td>str</td><td>str</td></tr></thead><tbody><tr><td>&quot;../pyproject.toml&quot;</td><td>1</td><td>&quot;..&quot;</td><td>&quot;pyproject.toml&quot;</td><td>&quot;pyproject&quot;</td><td>&quot;.toml&quot;</td><td>1791</td><td>&quot;2025-09-10 23:22:43&quot;</td><td>&quot;2025-09-10 23:22:43&quot;</td><td>true</td><td>false</td><td>&quot;kalfasy&quot;</td><td>&quot;kalfasy&quot;</td><td>&quot;-rw-rw-r--&quot;</td><td>7579961</td><td>1</td><td>null</td><td>&quot;{}&quot;</td></tr><tr><td>&quot;../scripts&quot;</td><td>1</td><td>&quot;..&quot;</td><td>&quot;scripts&quot;</td><td>&quot;scripts&quot;</td><td>&quot;&quot;</td><td>4096</td><td>&quot;2025-09-05 20:26:25&quot;</td><td>&quot;2025-09-05 20:26:25&quot;</td><td>false</td><td>true</td><td>&quot;kalfasy&quot;</td><td>&quot;kalfasy&quot;</td><td>&quot;drwxrwxr-x&quot;</td><td>7603122</td><td>2</td><td>null</td><td>&quot;{}&quot;</td></tr><tr><td>&quot;../.pytest_cache&quot;</td><td>1</td><td>&quot;..&quot;</td><td>&quot;.pytest_cache&quot;</td><td>&quot;.pytest_cache&quot;</td><td>&quot;&quot;</td><td>4096</td><td>&quot;2025-07-05 22:28:03&quot;</td><td>&quot;2025-07-05 22:28:03&quot;</td><td>false</td><td>true</td><td>&quot;kalfasy&quot;</td><td>&quot;kalfasy&quot;</td><td>&quot;drwxrwxr-x&quot;</td><td>7604845</td><td>3</td><td>null</td><td>&quot;{}&quot;</td></tr><tr><td>&quot;../.vscode&quot;</td><td>1</td><td>&quot;..&quot;</td><td>&quot;.vscode&quot;</td><td>&quot;.vscode&quot;</td><td>&quot;&quot;</td><td>4096</td><td>&quot;2025-07-06 11:11:18&quot;</td><td>&quot;2025-07-06 11:11:18&quot;</td><td>false</td><td>true</td><td>&quot;kalfasy&quot;</td><td>&quot;kalfasy&quot;</td><td>&quot;drwxrwxr-x&quot;</td><td>7591635</td><td>2</td><td>null</td><td>&quot;{}&quot;</td></tr><tr><td>&quot;../Makefile&quot;</td><td>1</td><td>&quot;..&quot;</td><td>&quot;Makefile&quot;</td><td>&quot;Makefile&quot;</td><td>&quot;&quot;</td><td>2827</td><td>&quot;2025-09-07 22:29:37&quot;</td><td>&quot;2025-09-07 22:29:37&quot;</td><td>true</td><td>false</td><td>&quot;kalfasy&quot;</td><td>&quot;kalfasy&quot;</td><td>&quot;-rw-rw-r--&quot;</td><td>7603119</td><td>1</td><td>null</td><td>&quot;{}&quot;</td></tr></tbody></table></div>"
      ],
      "text/plain": [
       "shape: (5, 18)\n",
       "┌───────────────────┬───────┬────────┬────────────────┬───┬─────────┬───────┬────────┬────────┐\n",
       "│ path              ┆ depth ┆ parent ┆ name           ┆ … ┆ inode   ┆ nlink ┆ sha256 ┆ xattrs │\n",
       "│ ---               ┆ ---   ┆ ---    ┆ ---            ┆   ┆ ---     ┆ ---   ┆ ---    ┆ ---    │\n",
       "│ str               ┆ i64   ┆ str    ┆ str            ┆   ┆ i64     ┆ i64   ┆ str    ┆ str    │\n",
       "╞═══════════════════╪═══════╪════════╪════════════════╪═══╪═════════╪═══════╪════════╪════════╡\n",
       "│ ../pyproject.toml ┆ 1     ┆ ..     ┆ pyproject.toml ┆ … ┆ 7579961 ┆ 1     ┆ null   ┆ {}     │\n",
       "│ ../scripts        ┆ 1     ┆ ..     ┆ scripts        ┆ … ┆ 7603122 ┆ 2     ┆ null   ┆ {}     │\n",
       "│ ../.pytest_cache  ┆ 1     ┆ ..     ┆ .pytest_cache  ┆ … ┆ 7604845 ┆ 3     ┆ null   ┆ {}     │\n",
       "│ ../.vscode        ┆ 1     ┆ ..     ┆ .vscode        ┆ … ┆ 7591635 ┆ 2     ┆ null   ┆ {}     │\n",
       "│ ../Makefile       ┆ 1     ┆ ..     ┆ Makefile       ┆ … ┆ 7603119 ┆ 1     ┆ null   ┆ {}     │\n",
       "└───────────────────┴───────┴────────┴────────────────┴───┴─────────┴───────┴────────┴────────┘"
      ]
     },
     "execution_count": 19,
     "metadata": {},
     "output_type": "execute_result"
    }
   ],
   "source": [
    "from filoma import probe_to_df\n",
    "\n",
    "df = probe_to_df(\"../\", max_depth=2, enrich=True)\n",
    "print(f\"Found {len(df)} files\")\n",
    "df.head()"
   ]
  },
  {
   "cell_type": "markdown",
   "id": "6e28af33",
   "metadata": {},
   "source": [
    "## ⚡ DataFrame enrichment"
   ]
  },
  {
   "cell_type": "code",
   "execution_count": 20,
   "id": "a611ca15",
   "metadata": {},
   "outputs": [
    {
     "name": "stderr",
     "output_type": "stream",
     "text": [
      "\u001b[32m2025-09-10 23:27:13.004\u001b[0m | \u001b[34m\u001b[1mDEBUG   \u001b[0m | \u001b[36mfiloma.directories.directory_profiler\u001b[0m:\u001b[36m__init__\u001b[0m:\u001b[36m343\u001b[0m - \u001b[34m\u001b[1mInteractive environment detected, disabling progress bars to avoid conflicts\u001b[0m\n",
      "\u001b[32m2025-09-10 23:27:13.004\u001b[0m | \u001b[1mINFO    \u001b[0m | \u001b[36mfiloma.directories.directory_profiler\u001b[0m:\u001b[36mprobe\u001b[0m:\u001b[36m430\u001b[0m - \u001b[1mStarting directory analysis of '../' using 🔍 fd implementation\u001b[0m\n",
      "\u001b[32m2025-09-10 23:27:13.032\u001b[0m | \u001b[34m\u001b[1mDEBUG   \u001b[0m | \u001b[36mfiloma.core.fd_integration\u001b[0m:\u001b[36mfind\u001b[0m:\u001b[36m171\u001b[0m - \u001b[34m\u001b[1mfd found 51369 results\u001b[0m\n",
      "\u001b[32m2025-09-10 23:27:13.047\u001b[0m | \u001b[34m\u001b[1mDEBUG   \u001b[0m | \u001b[36mfiloma.core.fd_integration\u001b[0m:\u001b[36mfind\u001b[0m:\u001b[36m171\u001b[0m - \u001b[34m\u001b[1mfd found 3203 results\u001b[0m\n",
      "\u001b[32m2025-09-10 23:27:13.927\u001b[0m | \u001b[32m\u001b[1mSUCCESS \u001b[0m | \u001b[36mfiloma.directories.directory_profiler\u001b[0m:\u001b[36mprobe\u001b[0m:\u001b[36m446\u001b[0m - \u001b[32m\u001b[1mDirectory analysis completed in 0.92s - Found 54,573 items (51,369 files, 3,204 folders) using 🔍 fd\u001b[0m\n"
     ]
    }
   ],
   "source": [
    "from filoma.directories import DirectoryProfiler, DirectoryProfilerConfig\n",
    "\n",
    "cfg = DirectoryProfilerConfig(build_dataframe=True, use_fd=True, return_absolute_paths=True, threads=8)\n",
    "dprof = DirectoryProfiler(cfg)\n",
    "res = dprof.probe(\"../\")\n",
    "df = res.dataframe.enrich()"
   ]
  },
  {
   "cell_type": "code",
   "execution_count": 21,
   "id": "f50189a4",
   "metadata": {},
   "outputs": [
    {
     "data": {
      "text/html": [
       "<div><style>\n",
       ".dataframe > thead > tr,\n",
       ".dataframe > tbody > tr {\n",
       "  text-align: right;\n",
       "  white-space: pre-wrap;\n",
       "}\n",
       "</style>\n",
       "<small>shape: (54_572, 18)</small><table border=\"1\" class=\"dataframe\"><thead><tr><th>path</th><th>parent</th><th>name</th><th>stem</th><th>suffix</th><th>size_bytes</th><th>modified_time</th><th>created_time</th><th>is_file</th><th>is_dir</th><th>owner</th><th>group</th><th>mode_str</th><th>inode</th><th>nlink</th><th>sha256</th><th>xattrs</th><th>depth</th></tr><tr><td>str</td><td>str</td><td>str</td><td>str</td><td>str</td><td>i64</td><td>str</td><td>str</td><td>bool</td><td>bool</td><td>str</td><td>str</td><td>str</td><td>i64</td><td>i64</td><td>str</td><td>str</td><td>i64</td></tr></thead><tbody><tr><td>&quot;/home/kalfasy/repos/filoma/__p…</td><td>&quot;/home/kalfasy/repos/filoma/__p…</td><td>&quot;test_analyzer.cpython-311-pyte…</td><td>&quot;test_analyzer.cpython-311-pyte…</td><td>&quot;.pyc&quot;</td><td>4940</td><td>&quot;2025-07-06 10:56:45&quot;</td><td>&quot;2025-07-06 10:56:45&quot;</td><td>true</td><td>false</td><td>&quot;kalfasy&quot;</td><td>&quot;kalfasy&quot;</td><td>&quot;-rw-rw-r--&quot;</td><td>7608138</td><td>1</td><td>null</td><td>&quot;{}&quot;</td><td>2</td></tr><tr><td>&quot;/home/kalfasy/repos/filoma/__p…</td><td>&quot;/home/kalfasy/repos/filoma/__p…</td><td>&quot;debug_test.cpython-311-pytest-…</td><td>&quot;debug_test.cpython-311-pytest-…</td><td>&quot;.pyc&quot;</td><td>3689</td><td>&quot;2025-07-05 23:01:37&quot;</td><td>&quot;2025-07-05 23:01:37&quot;</td><td>true</td><td>false</td><td>&quot;kalfasy&quot;</td><td>&quot;kalfasy&quot;</td><td>&quot;-rw-rw-r--&quot;</td><td>7602074</td><td>1</td><td>null</td><td>&quot;{}&quot;</td><td>2</td></tr><tr><td>&quot;/home/kalfasy/repos/filoma/.ru…</td><td>&quot;/home/kalfasy/repos/filoma/.ru…</td><td>&quot;CACHEDIR.TAG&quot;</td><td>&quot;CACHEDIR&quot;</td><td>&quot;.TAG&quot;</td><td>43</td><td>&quot;2025-07-05 22:28:05&quot;</td><td>&quot;2025-07-05 22:28:05&quot;</td><td>true</td><td>false</td><td>&quot;kalfasy&quot;</td><td>&quot;kalfasy&quot;</td><td>&quot;-rw-rw-r--&quot;</td><td>7604854</td><td>1</td><td>null</td><td>&quot;{}&quot;</td><td>2</td></tr><tr><td>&quot;/home/kalfasy/repos/filoma/.ru…</td><td>&quot;/home/kalfasy/repos/filoma/.ru…</td><td>&quot;18404585368784669101&quot;</td><td>&quot;18404585368784669101&quot;</td><td>&quot;&quot;</td><td>1233</td><td>&quot;2025-09-07 22:13:49&quot;</td><td>&quot;2025-09-07 22:13:49&quot;</td><td>true</td><td>false</td><td>&quot;kalfasy&quot;</td><td>&quot;kalfasy&quot;</td><td>&quot;-rw-------&quot;</td><td>7601093</td><td>1</td><td>null</td><td>&quot;{}&quot;</td><td>3</td></tr><tr><td>&quot;/home/kalfasy/repos/filoma/.ru…</td><td>&quot;/home/kalfasy/repos/filoma/.ru…</td><td>&quot;17256147029910247496&quot;</td><td>&quot;17256147029910247496&quot;</td><td>&quot;&quot;</td><td>183</td><td>&quot;2025-09-07 22:09:03&quot;</td><td>&quot;2025-09-07 22:09:03&quot;</td><td>true</td><td>false</td><td>&quot;kalfasy&quot;</td><td>&quot;kalfasy&quot;</td><td>&quot;-rw-------&quot;</td><td>7600948</td><td>1</td><td>null</td><td>&quot;{}&quot;</td><td>3</td></tr><tr><td>&hellip;</td><td>&hellip;</td><td>&hellip;</td><td>&hellip;</td><td>&hellip;</td><td>&hellip;</td><td>&hellip;</td><td>&hellip;</td><td>&hellip;</td><td>&hellip;</td><td>&hellip;</td><td>&hellip;</td><td>&hellip;</td><td>&hellip;</td><td>&hellip;</td><td>&hellip;</td><td>&hellip;</td><td>&hellip;</td></tr><tr><td>&quot;/home/kalfasy/repos/filoma/.ve…</td><td>&quot;/home/kalfasy/repos/filoma/.ve…</td><td>&quot;common&quot;</td><td>&quot;common&quot;</td><td>&quot;&quot;</td><td>4096</td><td>&quot;2025-09-10 23:22:14&quot;</td><td>&quot;2025-09-10 23:22:14&quot;</td><td>false</td><td>true</td><td>&quot;kalfasy&quot;</td><td>&quot;kalfasy&quot;</td><td>&quot;drwxrwxr-x&quot;</td><td>8096958</td><td>2</td><td>null</td><td>&quot;{}&quot;</td><td>9</td></tr><tr><td>&quot;/home/kalfasy/repos/filoma/.ve…</td><td>&quot;/home/kalfasy/repos/filoma/.ve…</td><td>&quot;return_logical&quot;</td><td>&quot;return_logical&quot;</td><td>&quot;&quot;</td><td>4096</td><td>&quot;2025-09-10 23:22:14&quot;</td><td>&quot;2025-09-10 23:22:14&quot;</td><td>false</td><td>true</td><td>&quot;kalfasy&quot;</td><td>&quot;kalfasy&quot;</td><td>&quot;drwxrwxr-x&quot;</td><td>8096833</td><td>2</td><td>null</td><td>&quot;{}&quot;</td><td>9</td></tr><tr><td>&quot;/home/kalfasy/repos/filoma/.ve…</td><td>&quot;/home/kalfasy/repos/filoma/.ve…</td><td>&quot;return_character&quot;</td><td>&quot;return_character&quot;</td><td>&quot;&quot;</td><td>4096</td><td>&quot;2025-09-10 23:22:14&quot;</td><td>&quot;2025-09-10 23:22:14&quot;</td><td>false</td><td>true</td><td>&quot;kalfasy&quot;</td><td>&quot;kalfasy&quot;</td><td>&quot;drwxrwxr-x&quot;</td><td>8096957</td><td>2</td><td>null</td><td>&quot;{}&quot;</td><td>9</td></tr><tr><td>&quot;/home/kalfasy/repos/filoma/.ve…</td><td>&quot;/home/kalfasy/repos/filoma/.ve…</td><td>&quot;size&quot;</td><td>&quot;size&quot;</td><td>&quot;&quot;</td><td>4096</td><td>&quot;2025-09-10 23:22:14&quot;</td><td>&quot;2025-09-10 23:22:14&quot;</td><td>false</td><td>true</td><td>&quot;kalfasy&quot;</td><td>&quot;kalfasy&quot;</td><td>&quot;drwxrwxr-x&quot;</td><td>8096959</td><td>2</td><td>null</td><td>&quot;{}&quot;</td><td>9</td></tr><tr><td>&quot;/home/kalfasy/repos/filoma/.ve…</td><td>&quot;/home/kalfasy/repos/filoma/.ve…</td><td>&quot;string&quot;</td><td>&quot;string&quot;</td><td>&quot;&quot;</td><td>4096</td><td>&quot;2025-09-10 23:22:14&quot;</td><td>&quot;2025-09-10 23:22:14&quot;</td><td>false</td><td>true</td><td>&quot;kalfasy&quot;</td><td>&quot;kalfasy&quot;</td><td>&quot;drwxrwxr-x&quot;</td><td>8096960</td><td>2</td><td>null</td><td>&quot;{}&quot;</td><td>9</td></tr></tbody></table></div>"
      ],
      "text/plain": [
       "filoma.DataFrame with 54572 rows\n",
       "shape: (54_572, 18)\n",
       "┌───────────────┬──────────────┬──────────────┬──────────────┬───┬───────┬────────┬────────┬───────┐\n",
       "│ path          ┆ parent       ┆ name         ┆ stem         ┆ … ┆ nlink ┆ sha256 ┆ xattrs ┆ depth │\n",
       "│ ---           ┆ ---          ┆ ---          ┆ ---          ┆   ┆ ---   ┆ ---    ┆ ---    ┆ ---   │\n",
       "│ str           ┆ str          ┆ str          ┆ str          ┆   ┆ i64   ┆ str    ┆ str    ┆ i64   │\n",
       "╞═══════════════╪══════════════╪══════════════╪══════════════╪═══╪═══════╪════════╪════════╪═══════╡\n",
       "│ /home/kalfasy ┆ /home/kalfas ┆ test_analyze ┆ test_analyze ┆ … ┆ 1     ┆ null   ┆ {}     ┆ 2     │\n",
       "│ /repos/filoma ┆ y/repos/filo ┆ r.cpython-31 ┆ r.cpython-31 ┆   ┆       ┆        ┆        ┆       │\n",
       "│ /__p…         ┆ ma/__p…      ┆ 1-pyte…      ┆ 1-pyte…      ┆   ┆       ┆        ┆        ┆       │\n",
       "│ /home/kalfasy ┆ /home/kalfas ┆ debug_test.c ┆ debug_test.c ┆ … ┆ 1     ┆ null   ┆ {}     ┆ 2     │\n",
       "│ /repos/filoma ┆ y/repos/filo ┆ python-311-p ┆ python-311-p ┆   ┆       ┆        ┆        ┆       │\n",
       "│ /__p…         ┆ ma/__p…      ┆ ytest-…      ┆ ytest-…      ┆   ┆       ┆        ┆        ┆       │\n",
       "│ /home/kalfasy ┆ /home/kalfas ┆ CACHEDIR.TAG ┆ CACHEDIR     ┆ … ┆ 1     ┆ null   ┆ {}     ┆ 2     │\n",
       "│ /repos/filoma ┆ y/repos/filo ┆              ┆              ┆   ┆       ┆        ┆        ┆       │\n",
       "│ /.ru…         ┆ ma/.ru…      ┆              ┆              ┆   ┆       ┆        ┆        ┆       │\n",
       "│ /home/kalfasy ┆ /home/kalfas ┆ 184045853687 ┆ 184045853687 ┆ … ┆ 1     ┆ null   ┆ {}     ┆ 3     │\n",
       "│ /repos/filoma ┆ y/repos/filo ┆ 84669101     ┆ 84669101     ┆   ┆       ┆        ┆        ┆       │\n",
       "│ /.ru…         ┆ ma/.ru…      ┆              ┆              ┆   ┆       ┆        ┆        ┆       │\n",
       "│ /home/kalfasy ┆ /home/kalfas ┆ 172561470299 ┆ 172561470299 ┆ … ┆ 1     ┆ null   ┆ {}     ┆ 3     │\n",
       "│ /repos/filoma ┆ y/repos/filo ┆ 10247496     ┆ 10247496     ┆   ┆       ┆        ┆        ┆       │\n",
       "│ /.ru…         ┆ ma/.ru…      ┆              ┆              ┆   ┆       ┆        ┆        ┆       │\n",
       "│ …             ┆ …            ┆ …            ┆ …            ┆ … ┆ …     ┆ …      ┆ …      ┆ …     │\n",
       "│ /home/kalfasy ┆ /home/kalfas ┆ common       ┆ common       ┆ … ┆ 2     ┆ null   ┆ {}     ┆ 9     │\n",
       "│ /repos/filoma ┆ y/repos/filo ┆              ┆              ┆   ┆       ┆        ┆        ┆       │\n",
       "│ /.ve…         ┆ ma/.ve…      ┆              ┆              ┆   ┆       ┆        ┆        ┆       │\n",
       "│ /home/kalfasy ┆ /home/kalfas ┆ return_logic ┆ return_logic ┆ … ┆ 2     ┆ null   ┆ {}     ┆ 9     │\n",
       "│ /repos/filoma ┆ y/repos/filo ┆ al           ┆ al           ┆   ┆       ┆        ┆        ┆       │\n",
       "│ /.ve…         ┆ ma/.ve…      ┆              ┆              ┆   ┆       ┆        ┆        ┆       │\n",
       "│ /home/kalfasy ┆ /home/kalfas ┆ return_chara ┆ return_chara ┆ … ┆ 2     ┆ null   ┆ {}     ┆ 9     │\n",
       "│ /repos/filoma ┆ y/repos/filo ┆ cter         ┆ cter         ┆   ┆       ┆        ┆        ┆       │\n",
       "│ /.ve…         ┆ ma/.ve…      ┆              ┆              ┆   ┆       ┆        ┆        ┆       │\n",
       "│ /home/kalfasy ┆ /home/kalfas ┆ size         ┆ size         ┆ … ┆ 2     ┆ null   ┆ {}     ┆ 9     │\n",
       "│ /repos/filoma ┆ y/repos/filo ┆              ┆              ┆   ┆       ┆        ┆        ┆       │\n",
       "│ /.ve…         ┆ ma/.ve…      ┆              ┆              ┆   ┆       ┆        ┆        ┆       │\n",
       "│ /home/kalfasy ┆ /home/kalfas ┆ string       ┆ string       ┆ … ┆ 2     ┆ null   ┆ {}     ┆ 9     │\n",
       "│ /repos/filoma ┆ y/repos/filo ┆              ┆              ┆   ┆       ┆        ┆        ┆       │\n",
       "│ /.ve…         ┆ ma/.ve…      ┆              ┆              ┆   ┆       ┆        ┆        ┆       │\n",
       "└───────────────┴──────────────┴──────────────┴──────────────┴───┴───────┴────────┴────────┴───────┘"
      ]
     },
     "execution_count": 21,
     "metadata": {},
     "output_type": "execute_result"
    }
   ],
   "source": [
    "df"
   ]
  },
  {
   "cell_type": "code",
   "execution_count": 22,
   "id": "336e7ef4",
   "metadata": {},
   "outputs": [
    {
     "data": {
      "text/plain": [
       "'/home/kalfasy/repos/filoma/__pycache__'"
      ]
     },
     "execution_count": 22,
     "metadata": {},
     "output_type": "execute_result"
    }
   ],
   "source": [
    "df.to_polars()[\"parent\"][0]"
   ]
  },
  {
   "cell_type": "markdown",
   "id": "85423605",
   "metadata": {},
   "source": [
    "## 🤖 ML-ready splits"
   ]
  },
  {
   "cell_type": "code",
   "execution_count": 23,
   "id": "d27f6239",
   "metadata": {},
   "outputs": [
    {
     "name": "stdout",
     "output_type": "stream",
     "text": [
      "Split sizes: 38422, 7841, 8309\n"
     ]
    },
    {
     "data": {
      "text/html": [
       "<div><style>\n",
       ".dataframe > thead > tr,\n",
       ".dataframe > tbody > tr {\n",
       "  text-align: right;\n",
       "  white-space: pre-wrap;\n",
       "}\n",
       "</style>\n",
       "<small>shape: (3, 19)</small><table border=\"1\" class=\"dataframe\"><thead><tr><th>path</th><th>parent</th><th>name</th><th>stem</th><th>suffix</th><th>size_bytes</th><th>modified_time</th><th>created_time</th><th>is_file</th><th>is_dir</th><th>owner</th><th>group</th><th>mode_str</th><th>inode</th><th>nlink</th><th>sha256</th><th>xattrs</th><th>depth</th><th>_feat_parts</th></tr><tr><td>str</td><td>str</td><td>str</td><td>str</td><td>str</td><td>i64</td><td>str</td><td>str</td><td>bool</td><td>bool</td><td>str</td><td>str</td><td>str</td><td>i64</td><td>i64</td><td>str</td><td>str</td><td>i64</td><td>str</td></tr></thead><tbody><tr><td>&quot;/home/kalfasy/repos/filoma/__p…</td><td>&quot;/home/kalfasy/repos/filoma/__p…</td><td>&quot;debug_test.cpython-311-pytest-…</td><td>&quot;debug_test.cpython-311-pytest-…</td><td>&quot;.pyc&quot;</td><td>3689</td><td>&quot;2025-07-05 23:01:37&quot;</td><td>&quot;2025-07-05 23:01:37&quot;</td><td>true</td><td>false</td><td>&quot;kalfasy&quot;</td><td>&quot;kalfasy&quot;</td><td>&quot;-rw-rw-r--&quot;</td><td>7602074</td><td>1</td><td>null</td><td>&quot;{}&quot;</td><td>2</td><td>&quot;debug_test.cpython-311-pytest-…</td></tr><tr><td>&quot;/home/kalfasy/repos/filoma/.ru…</td><td>&quot;/home/kalfasy/repos/filoma/.ru…</td><td>&quot;CACHEDIR.TAG&quot;</td><td>&quot;CACHEDIR&quot;</td><td>&quot;.TAG&quot;</td><td>43</td><td>&quot;2025-07-05 22:28:05&quot;</td><td>&quot;2025-07-05 22:28:05&quot;</td><td>true</td><td>false</td><td>&quot;kalfasy&quot;</td><td>&quot;kalfasy&quot;</td><td>&quot;-rw-rw-r--&quot;</td><td>7604854</td><td>1</td><td>null</td><td>&quot;{}&quot;</td><td>2</td><td>&quot;CACHEDIR.TAG&quot;</td></tr><tr><td>&quot;/home/kalfasy/repos/filoma/.ru…</td><td>&quot;/home/kalfasy/repos/filoma/.ru…</td><td>&quot;7358665038973574044&quot;</td><td>&quot;7358665038973574044&quot;</td><td>&quot;&quot;</td><td>163</td><td>&quot;2025-09-07 22:09:03&quot;</td><td>&quot;2025-09-07 22:09:03&quot;</td><td>true</td><td>false</td><td>&quot;kalfasy&quot;</td><td>&quot;kalfasy&quot;</td><td>&quot;-rw-------&quot;</td><td>7600957</td><td>1</td><td>null</td><td>&quot;{}&quot;</td><td>3</td><td>&quot;7358665038973574044&quot;</td></tr></tbody></table></div>"
      ],
      "text/plain": [
       "shape: (3, 19)\n",
       "┌─────────────┬─────────────┬─────────────┬─────────────┬───┬────────┬────────┬───────┬────────────┐\n",
       "│ path        ┆ parent      ┆ name        ┆ stem        ┆ … ┆ sha256 ┆ xattrs ┆ depth ┆ _feat_part │\n",
       "│ ---         ┆ ---         ┆ ---         ┆ ---         ┆   ┆ ---    ┆ ---    ┆ ---   ┆ s          │\n",
       "│ str         ┆ str         ┆ str         ┆ str         ┆   ┆ str    ┆ str    ┆ i64   ┆ ---        │\n",
       "│             ┆             ┆             ┆             ┆   ┆        ┆        ┆       ┆ str        │\n",
       "╞═════════════╪═════════════╪═════════════╪═════════════╪═══╪════════╪════════╪═══════╪════════════╡\n",
       "│ /home/kalfa ┆ /home/kalfa ┆ debug_test. ┆ debug_test. ┆ … ┆ null   ┆ {}     ┆ 2     ┆ debug_test │\n",
       "│ sy/repos/fi ┆ sy/repos/fi ┆ cpython-311 ┆ cpython-311 ┆   ┆        ┆        ┆       ┆ .cpython-3 │\n",
       "│ loma/__p…   ┆ loma/__p…   ┆ -pytest-…   ┆ -pytest-…   ┆   ┆        ┆        ┆       ┆ 11-pytest- │\n",
       "│             ┆             ┆             ┆             ┆   ┆        ┆        ┆       ┆ …          │\n",
       "│ /home/kalfa ┆ /home/kalfa ┆ CACHEDIR.TA ┆ CACHEDIR    ┆ … ┆ null   ┆ {}     ┆ 2     ┆ CACHEDIR.T │\n",
       "│ sy/repos/fi ┆ sy/repos/fi ┆ G           ┆             ┆   ┆        ┆        ┆       ┆ AG         │\n",
       "│ loma/.ru…   ┆ loma/.ru…   ┆             ┆             ┆   ┆        ┆        ┆       ┆            │\n",
       "│ /home/kalfa ┆ /home/kalfa ┆ 73586650389 ┆ 73586650389 ┆ … ┆ null   ┆ {}     ┆ 3     ┆ 7358665038 │\n",
       "│ sy/repos/fi ┆ sy/repos/fi ┆ 73574044    ┆ 73574044    ┆   ┆        ┆        ┆       ┆ 973574044  │\n",
       "│ loma/.ru…   ┆ loma/.ru…   ┆             ┆             ┆   ┆        ┆        ┆       ┆            │\n",
       "└─────────────┴─────────────┴─────────────┴─────────────┴───┴────────┴────────┴───────┴────────────┘"
      ]
     },
     "execution_count": 23,
     "metadata": {},
     "output_type": "execute_result"
    }
   ],
   "source": [
    "from filoma import ml\n",
    "\n",
    "# Split into train/val/test sets with 70% train, 15% val, 15% test\n",
    "train, val, test = ml.auto_split(df, train_val_test=(70, 15, 15), seed=42, include_all_parts=True)\n",
    "print(f\"Split sizes: {len(train)}, {len(val)}, {len(test)}\")\n",
    "train.head(3)"
   ]
  },
  {
   "cell_type": "markdown",
   "id": "0765315b",
   "metadata": {},
   "source": [
    "## 📄 Single file probe"
   ]
  },
  {
   "cell_type": "code",
   "execution_count": 24,
   "id": "d34c8f36",
   "metadata": {},
   "outputs": [
    {
     "name": "stdout",
     "output_type": "stream",
     "text": [
      "Path: /home/kalfasy/repos/filoma/README.md\n",
      "Size: 10878\n",
      "Modified: 2025-09-10 23:12:25\n"
     ]
    }
   ],
   "source": [
    "from filoma import probe_file\n",
    "\n",
    "file_info = probe_file(\"../README.md\")\n",
    "print(f\"Path: {file_info.path}\")\n",
    "print(f\"Size: {file_info.size}\")\n",
    "print(f\"Modified: {file_info.modified}\")"
   ]
  },
  {
   "cell_type": "markdown",
   "id": "acdb71a7",
   "metadata": {},
   "source": [
    "## 🖼️ Image analysis"
   ]
  },
  {
   "cell_type": "code",
   "execution_count": 25,
   "id": "494c733c",
   "metadata": {},
   "outputs": [
    {
     "name": "stdout",
     "output_type": "stream",
     "text": [
      "Type: png\n",
      "Shape: (762, 628, 4)\n",
      "Data range: 0.0 - 255.0\n"
     ]
    }
   ],
   "source": [
    "from filoma import probe_image\n",
    "\n",
    "img = probe_image(\"../images/logo.png\")\n",
    "print(f\"Type: {img.file_type}\")\n",
    "print(f\"Shape: {img.shape}\")\n",
    "print(f\"Data range: {img.min} - {img.max}\")"
   ]
  }
 ],
 "metadata": {
  "kernelspec": {
   "display_name": "filoma (3.11.11)",
   "language": "python",
   "name": "python3"
  },
  "language_info": {
   "codemirror_mode": {
    "name": "ipython",
    "version": 3
   },
   "file_extension": ".py",
   "mimetype": "text/x-python",
   "name": "python",
   "nbconvert_exporter": "python",
   "pygments_lexer": "ipython3",
   "version": "3.11.11"
  }
 },
 "nbformat": 4,
 "nbformat_minor": 5
}
