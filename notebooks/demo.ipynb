{
 "cells": [
  {
   "cell_type": "markdown",
   "id": "da1ba4ff",
   "metadata": {},
   "source": [
    "# 🚀 filoma demo\n",
    "\n",
    "Fast, multi-backend file analysis with a tiny API surface"
   ]
  },
  {
   "cell_type": "code",
   "execution_count": 1,
   "id": "3c9cfc6f",
   "metadata": {},
   "outputs": [
    {
     "name": "stdout",
     "output_type": "stream",
     "text": [
      "filoma version: 1.7.3\n"
     ]
    }
   ],
   "source": [
    "import filoma\n",
    "\n",
    "print(f\"filoma version: {filoma.__version__}\")"
   ]
  },
  {
   "cell_type": "markdown",
   "id": "cc9779c9",
   "metadata": {},
   "source": [
    "# 🔍📁 Directory Analysis"
   ]
  },
  {
   "cell_type": "markdown",
   "id": "ac938f14",
   "metadata": {},
   "source": [
    "Do you want to analyze a directory of files and extract metadata, text content, and other useful information?   \n",
    "`filoma` makes it super easy to do so with just a few lines of code."
   ]
  },
  {
   "cell_type": "code",
   "execution_count": 2,
   "id": "0b115872",
   "metadata": {},
   "outputs": [
    {
     "name": "stderr",
     "output_type": "stream",
     "text": [
      "\u001b[32m2025-09-13 11:11:17.520\u001b[0m | \u001b[34m\u001b[1mDEBUG   \u001b[0m | \u001b[36mfiloma.directories.directory_profiler\u001b[0m:\u001b[36m__init__\u001b[0m:\u001b[36m343\u001b[0m - \u001b[34m\u001b[1mInteractive environment detected, disabling progress bars to avoid conflicts\u001b[0m\n",
      "\u001b[32m2025-09-13 11:11:17.520\u001b[0m | \u001b[1mINFO    \u001b[0m | \u001b[36mfiloma.directories.directory_profiler\u001b[0m:\u001b[36mprobe\u001b[0m:\u001b[36m430\u001b[0m - \u001b[1mStarting directory analysis of '../' using 🦀 Rust (Parallel) implementation\u001b[0m\n",
      "\u001b[32m2025-09-13 11:11:18.158\u001b[0m | \u001b[32m\u001b[1mSUCCESS \u001b[0m | \u001b[36mfiloma.directories.directory_profiler\u001b[0m:\u001b[36mprobe\u001b[0m:\u001b[36m446\u001b[0m - \u001b[32m\u001b[1mDirectory analysis completed in 0.64s - Found 62,801 items (58,979 files, 3,822 folders) using 🦀 Rust (Parallel)\u001b[0m\n"
     ]
    },
    {
     "data": {
      "text/html": [
       "<pre style=\"white-space:pre;overflow-x:auto;line-height:normal;font-family:Menlo,'DejaVu Sans Mono',consolas,'Courier New',monospace\"><span style=\"font-style: italic\"> Directory Analysis: /home/kalfasy/repos/filoma (🦀  </span>\n",
       "<span style=\"font-style: italic\">              Rust (Parallel)) - 0.64s               </span>\n",
       "┏━━━━━━━━━━━━━━━━━━━━━━━━━━┳━━━━━━━━━━━━━━━━━━━━━━━━┓\n",
       "┃<span style=\"font-weight: bold\"> Metric                   </span>┃<span style=\"font-weight: bold\"> Value                  </span>┃\n",
       "┡━━━━━━━━━━━━━━━━━━━━━━━━━━╇━━━━━━━━━━━━━━━━━━━━━━━━┩\n",
       "│<span style=\"color: #008080; text-decoration-color: #008080; font-weight: bold\"> Total Files              </span>│<span style=\"color: #c0c0c0; text-decoration-color: #c0c0c0\"> 58,979                 </span>│\n",
       "│<span style=\"color: #008080; text-decoration-color: #008080; font-weight: bold\"> Total Folders            </span>│<span style=\"color: #c0c0c0; text-decoration-color: #c0c0c0\"> 3,822                  </span>│\n",
       "│<span style=\"color: #008080; text-decoration-color: #008080; font-weight: bold\"> Total Size               </span>│<span style=\"color: #c0c0c0; text-decoration-color: #c0c0c0\"> 1,923.1992483139038 MB </span>│\n",
       "│<span style=\"color: #008080; text-decoration-color: #008080; font-weight: bold\"> Average Files per Folder </span>│<span style=\"color: #c0c0c0; text-decoration-color: #c0c0c0\"> 15.431449502878074     </span>│\n",
       "│<span style=\"color: #008080; text-decoration-color: #008080; font-weight: bold\"> Maximum Depth            </span>│<span style=\"color: #c0c0c0; text-decoration-color: #c0c0c0\"> 14                     </span>│\n",
       "│<span style=\"color: #008080; text-decoration-color: #008080; font-weight: bold\"> Empty Folders            </span>│<span style=\"color: #c0c0c0; text-decoration-color: #c0c0c0\"> 53                     </span>│\n",
       "│<span style=\"color: #008080; text-decoration-color: #008080; font-weight: bold\"> Analysis Time            </span>│<span style=\"color: #c0c0c0; text-decoration-color: #c0c0c0\"> 0.64s                  </span>│\n",
       "│<span style=\"color: #008080; text-decoration-color: #008080; font-weight: bold\"> Processing Speed         </span>│<span style=\"color: #c0c0c0; text-decoration-color: #c0c0c0\"> 98,538 items/sec       </span>│\n",
       "└──────────────────────────┴────────────────────────┘\n",
       "</pre>\n"
      ],
      "text/plain": [
       "\u001b[3m Directory Analysis: /home/kalfasy/repos/filoma (🦀  \u001b[0m\n",
       "\u001b[3m              Rust (Parallel)) - 0.64s               \u001b[0m\n",
       "┏━━━━━━━━━━━━━━━━━━━━━━━━━━┳━━━━━━━━━━━━━━━━━━━━━━━━┓\n",
       "┃\u001b[1m \u001b[0m\u001b[1mMetric                  \u001b[0m\u001b[1m \u001b[0m┃\u001b[1m \u001b[0m\u001b[1mValue                 \u001b[0m\u001b[1m \u001b[0m┃\n",
       "┡━━━━━━━━━━━━━━━━━━━━━━━━━━╇━━━━━━━━━━━━━━━━━━━━━━━━┩\n",
       "│\u001b[1;36m \u001b[0m\u001b[1;36mTotal Files             \u001b[0m\u001b[1;36m \u001b[0m│\u001b[37m \u001b[0m\u001b[37m58,979                \u001b[0m\u001b[37m \u001b[0m│\n",
       "│\u001b[1;36m \u001b[0m\u001b[1;36mTotal Folders           \u001b[0m\u001b[1;36m \u001b[0m│\u001b[37m \u001b[0m\u001b[37m3,822                 \u001b[0m\u001b[37m \u001b[0m│\n",
       "│\u001b[1;36m \u001b[0m\u001b[1;36mTotal Size              \u001b[0m\u001b[1;36m \u001b[0m│\u001b[37m \u001b[0m\u001b[37m1,923.1992483139038 MB\u001b[0m\u001b[37m \u001b[0m│\n",
       "│\u001b[1;36m \u001b[0m\u001b[1;36mAverage Files per Folder\u001b[0m\u001b[1;36m \u001b[0m│\u001b[37m \u001b[0m\u001b[37m15.431449502878074    \u001b[0m\u001b[37m \u001b[0m│\n",
       "│\u001b[1;36m \u001b[0m\u001b[1;36mMaximum Depth           \u001b[0m\u001b[1;36m \u001b[0m│\u001b[37m \u001b[0m\u001b[37m14                    \u001b[0m\u001b[37m \u001b[0m│\n",
       "│\u001b[1;36m \u001b[0m\u001b[1;36mEmpty Folders           \u001b[0m\u001b[1;36m \u001b[0m│\u001b[37m \u001b[0m\u001b[37m53                    \u001b[0m\u001b[37m \u001b[0m│\n",
       "│\u001b[1;36m \u001b[0m\u001b[1;36mAnalysis Time           \u001b[0m\u001b[1;36m \u001b[0m│\u001b[37m \u001b[0m\u001b[37m0.64s                 \u001b[0m\u001b[37m \u001b[0m│\n",
       "│\u001b[1;36m \u001b[0m\u001b[1;36mProcessing Speed        \u001b[0m\u001b[1;36m \u001b[0m│\u001b[37m \u001b[0m\u001b[37m98,538 items/sec      \u001b[0m\u001b[37m \u001b[0m│\n",
       "└──────────────────────────┴────────────────────────┘\n"
      ]
     },
     "metadata": {},
     "output_type": "display_data"
    },
    {
     "data": {
      "text/html": [
       "<pre style=\"white-space:pre;overflow-x:auto;line-height:normal;font-family:Menlo,'DejaVu Sans Mono',consolas,'Courier New',monospace\">\n",
       "</pre>\n"
      ],
      "text/plain": [
       "\n"
      ]
     },
     "metadata": {},
     "output_type": "display_data"
    }
   ],
   "source": [
    "from filoma.directories import DirectoryProfiler, DirectoryProfilerConfig\n",
    "\n",
    "# Create a profiler using the typed config dataclass\n",
    "config = DirectoryProfilerConfig(use_rust=True)\n",
    "dp1 = DirectoryProfiler(config)\n",
    "\n",
    "analysis = dp1.probe(\"../\")\n",
    "dp1.print_summary(analysis)"
   ]
  },
  {
   "cell_type": "markdown",
   "id": "e86a6d47",
   "metadata": {},
   "source": [
    "Want to quickly see a report of your findings? filoma has you covered."
   ]
  },
  {
   "cell_type": "code",
   "execution_count": 3,
   "id": "fb2f3a50",
   "metadata": {},
   "outputs": [
    {
     "data": {
      "text/html": [
       "<pre style=\"white-space:pre;overflow-x:auto;line-height:normal;font-family:Menlo,'DejaVu Sans Mono',consolas,'Courier New',monospace\"><span style=\"font-style: italic\"> Directory Analysis: /home/kalfasy/repos/filoma (🦀  </span>\n",
       "<span style=\"font-style: italic\">              Rust (Parallel)) - 0.64s               </span>\n",
       "┏━━━━━━━━━━━━━━━━━━━━━━━━━━┳━━━━━━━━━━━━━━━━━━━━━━━━┓\n",
       "┃<span style=\"font-weight: bold\"> Metric                   </span>┃<span style=\"font-weight: bold\"> Value                  </span>┃\n",
       "┡━━━━━━━━━━━━━━━━━━━━━━━━━━╇━━━━━━━━━━━━━━━━━━━━━━━━┩\n",
       "│<span style=\"color: #008080; text-decoration-color: #008080; font-weight: bold\"> Total Files              </span>│<span style=\"color: #c0c0c0; text-decoration-color: #c0c0c0\"> 58,979                 </span>│\n",
       "│<span style=\"color: #008080; text-decoration-color: #008080; font-weight: bold\"> Total Folders            </span>│<span style=\"color: #c0c0c0; text-decoration-color: #c0c0c0\"> 3,822                  </span>│\n",
       "│<span style=\"color: #008080; text-decoration-color: #008080; font-weight: bold\"> Total Size               </span>│<span style=\"color: #c0c0c0; text-decoration-color: #c0c0c0\"> 1,923.1992483139038 MB </span>│\n",
       "│<span style=\"color: #008080; text-decoration-color: #008080; font-weight: bold\"> Average Files per Folder </span>│<span style=\"color: #c0c0c0; text-decoration-color: #c0c0c0\"> 15.431449502878074     </span>│\n",
       "│<span style=\"color: #008080; text-decoration-color: #008080; font-weight: bold\"> Maximum Depth            </span>│<span style=\"color: #c0c0c0; text-decoration-color: #c0c0c0\"> 14                     </span>│\n",
       "│<span style=\"color: #008080; text-decoration-color: #008080; font-weight: bold\"> Empty Folders            </span>│<span style=\"color: #c0c0c0; text-decoration-color: #c0c0c0\"> 53                     </span>│\n",
       "│<span style=\"color: #008080; text-decoration-color: #008080; font-weight: bold\"> Analysis Time            </span>│<span style=\"color: #c0c0c0; text-decoration-color: #c0c0c0\"> 0.64s                  </span>│\n",
       "│<span style=\"color: #008080; text-decoration-color: #008080; font-weight: bold\"> Processing Speed         </span>│<span style=\"color: #c0c0c0; text-decoration-color: #c0c0c0\"> 98,538 items/sec       </span>│\n",
       "└──────────────────────────┴────────────────────────┘\n",
       "</pre>\n"
      ],
      "text/plain": [
       "\u001b[3m Directory Analysis: /home/kalfasy/repos/filoma (🦀  \u001b[0m\n",
       "\u001b[3m              Rust (Parallel)) - 0.64s               \u001b[0m\n",
       "┏━━━━━━━━━━━━━━━━━━━━━━━━━━┳━━━━━━━━━━━━━━━━━━━━━━━━┓\n",
       "┃\u001b[1m \u001b[0m\u001b[1mMetric                  \u001b[0m\u001b[1m \u001b[0m┃\u001b[1m \u001b[0m\u001b[1mValue                 \u001b[0m\u001b[1m \u001b[0m┃\n",
       "┡━━━━━━━━━━━━━━━━━━━━━━━━━━╇━━━━━━━━━━━━━━━━━━━━━━━━┩\n",
       "│\u001b[1;36m \u001b[0m\u001b[1;36mTotal Files             \u001b[0m\u001b[1;36m \u001b[0m│\u001b[37m \u001b[0m\u001b[37m58,979                \u001b[0m\u001b[37m \u001b[0m│\n",
       "│\u001b[1;36m \u001b[0m\u001b[1;36mTotal Folders           \u001b[0m\u001b[1;36m \u001b[0m│\u001b[37m \u001b[0m\u001b[37m3,822                 \u001b[0m\u001b[37m \u001b[0m│\n",
       "│\u001b[1;36m \u001b[0m\u001b[1;36mTotal Size              \u001b[0m\u001b[1;36m \u001b[0m│\u001b[37m \u001b[0m\u001b[37m1,923.1992483139038 MB\u001b[0m\u001b[37m \u001b[0m│\n",
       "│\u001b[1;36m \u001b[0m\u001b[1;36mAverage Files per Folder\u001b[0m\u001b[1;36m \u001b[0m│\u001b[37m \u001b[0m\u001b[37m15.431449502878074    \u001b[0m\u001b[37m \u001b[0m│\n",
       "│\u001b[1;36m \u001b[0m\u001b[1;36mMaximum Depth           \u001b[0m\u001b[1;36m \u001b[0m│\u001b[37m \u001b[0m\u001b[37m14                    \u001b[0m\u001b[37m \u001b[0m│\n",
       "│\u001b[1;36m \u001b[0m\u001b[1;36mEmpty Folders           \u001b[0m\u001b[1;36m \u001b[0m│\u001b[37m \u001b[0m\u001b[37m53                    \u001b[0m\u001b[37m \u001b[0m│\n",
       "│\u001b[1;36m \u001b[0m\u001b[1;36mAnalysis Time           \u001b[0m\u001b[1;36m \u001b[0m│\u001b[37m \u001b[0m\u001b[37m0.64s                 \u001b[0m\u001b[37m \u001b[0m│\n",
       "│\u001b[1;36m \u001b[0m\u001b[1;36mProcessing Speed        \u001b[0m\u001b[1;36m \u001b[0m│\u001b[37m \u001b[0m\u001b[37m98,538 items/sec      \u001b[0m\u001b[37m \u001b[0m│\n",
       "└──────────────────────────┴────────────────────────┘\n"
      ]
     },
     "metadata": {},
     "output_type": "display_data"
    },
    {
     "data": {
      "text/html": [
       "<pre style=\"white-space:pre;overflow-x:auto;line-height:normal;font-family:Menlo,'DejaVu Sans Mono',consolas,'Courier New',monospace\">\n",
       "</pre>\n"
      ],
      "text/plain": [
       "\n"
      ]
     },
     "metadata": {},
     "output_type": "display_data"
    },
    {
     "data": {
      "text/html": [
       "<pre style=\"white-space:pre;overflow-x:auto;line-height:normal;font-family:Menlo,'DejaVu Sans Mono',consolas,'Courier New',monospace\"><span style=\"font-style: italic\">          File Extensions          </span>\n",
       "┏━━━━━━━━━━━┳━━━━━━━━┳━━━━━━━━━━━━┓\n",
       "┃<span style=\"font-weight: bold\"> Extension </span>┃<span style=\"font-weight: bold\"> Count  </span>┃<span style=\"font-weight: bold\"> Percentage </span>┃\n",
       "┡━━━━━━━━━━━╇━━━━━━━━╇━━━━━━━━━━━━┩\n",
       "│<span style=\"color: #800080; text-decoration-color: #800080; font-weight: bold\"> .yml      </span>│<span style=\"color: #c0c0c0; text-decoration-color: #c0c0c0\"> 12     </span>│<span style=\"color: #008000; text-decoration-color: #008000\"> 0.0%       </span>│\n",
       "│<span style=\"color: #800080; text-decoration-color: #800080; font-weight: bold\"> .odt      </span>│<span style=\"color: #c0c0c0; text-decoration-color: #c0c0c0\"> 2      </span>│<span style=\"color: #008000; text-decoration-color: #008000\"> 0.0%       </span>│\n",
       "│<span style=\"color: #800080; text-decoration-color: #800080; font-weight: bold\"> .feather  </span>│<span style=\"color: #c0c0c0; text-decoration-color: #c0c0c0\"> 2      </span>│<span style=\"color: #008000; text-decoration-color: #008000\"> 0.0%       </span>│\n",
       "│<span style=\"color: #800080; text-decoration-color: #800080; font-weight: bold\"> .npy      </span>│<span style=\"color: #c0c0c0; text-decoration-color: #c0c0c0\"> 10     </span>│<span style=\"color: #008000; text-decoration-color: #008000\"> 0.0%       </span>│\n",
       "│<span style=\"color: #800080; text-decoration-color: #800080; font-weight: bold\"> .conf     </span>│<span style=\"color: #c0c0c0; text-decoration-color: #c0c0c0\"> 2      </span>│<span style=\"color: #008000; text-decoration-color: #008000\"> 0.0%       </span>│\n",
       "│<span style=\"color: #800080; text-decoration-color: #800080; font-weight: bold\"> .svg      </span>│<span style=\"color: #c0c0c0; text-decoration-color: #c0c0c0\"> 28,545 </span>│<span style=\"color: #008000; text-decoration-color: #008000\"> 48.4%      </span>│\n",
       "│<span style=\"color: #800080; text-decoration-color: #800080; font-weight: bold\"> .h        </span>│<span style=\"color: #c0c0c0; text-decoration-color: #c0c0c0\"> 1,050  </span>│<span style=\"color: #008000; text-decoration-color: #008000\"> 1.8%       </span>│\n",
       "│<span style=\"color: #800080; text-decoration-color: #800080; font-weight: bold\"> .bat      </span>│<span style=\"color: #c0c0c0; text-decoration-color: #c0c0c0\"> 11     </span>│<span style=\"color: #008000; text-decoration-color: #008000\"> 0.0%       </span>│\n",
       "│<span style=\"color: #800080; text-decoration-color: #800080; font-weight: bold\"> .c        </span>│<span style=\"color: #c0c0c0; text-decoration-color: #c0c0c0\"> 116    </span>│<span style=\"color: #008000; text-decoration-color: #008000\"> 0.2%       </span>│\n",
       "│<span style=\"color: #800080; text-decoration-color: #800080; font-weight: bold\"> .crt      </span>│<span style=\"color: #c0c0c0; text-decoration-color: #c0c0c0\"> 2      </span>│<span style=\"color: #008000; text-decoration-color: #008000\"> 0.0%       </span>│\n",
       "└───────────┴────────┴────────────┘\n",
       "</pre>\n"
      ],
      "text/plain": [
       "\u001b[3m          File Extensions          \u001b[0m\n",
       "┏━━━━━━━━━━━┳━━━━━━━━┳━━━━━━━━━━━━┓\n",
       "┃\u001b[1m \u001b[0m\u001b[1mExtension\u001b[0m\u001b[1m \u001b[0m┃\u001b[1m \u001b[0m\u001b[1mCount \u001b[0m\u001b[1m \u001b[0m┃\u001b[1m \u001b[0m\u001b[1mPercentage\u001b[0m\u001b[1m \u001b[0m┃\n",
       "┡━━━━━━━━━━━╇━━━━━━━━╇━━━━━━━━━━━━┩\n",
       "│\u001b[1;35m \u001b[0m\u001b[1;35m.yml     \u001b[0m\u001b[1;35m \u001b[0m│\u001b[37m \u001b[0m\u001b[37m12    \u001b[0m\u001b[37m \u001b[0m│\u001b[32m \u001b[0m\u001b[32m0.0%      \u001b[0m\u001b[32m \u001b[0m│\n",
       "│\u001b[1;35m \u001b[0m\u001b[1;35m.odt     \u001b[0m\u001b[1;35m \u001b[0m│\u001b[37m \u001b[0m\u001b[37m2     \u001b[0m\u001b[37m \u001b[0m│\u001b[32m \u001b[0m\u001b[32m0.0%      \u001b[0m\u001b[32m \u001b[0m│\n",
       "│\u001b[1;35m \u001b[0m\u001b[1;35m.feather \u001b[0m\u001b[1;35m \u001b[0m│\u001b[37m \u001b[0m\u001b[37m2     \u001b[0m\u001b[37m \u001b[0m│\u001b[32m \u001b[0m\u001b[32m0.0%      \u001b[0m\u001b[32m \u001b[0m│\n",
       "│\u001b[1;35m \u001b[0m\u001b[1;35m.npy     \u001b[0m\u001b[1;35m \u001b[0m│\u001b[37m \u001b[0m\u001b[37m10    \u001b[0m\u001b[37m \u001b[0m│\u001b[32m \u001b[0m\u001b[32m0.0%      \u001b[0m\u001b[32m \u001b[0m│\n",
       "│\u001b[1;35m \u001b[0m\u001b[1;35m.conf    \u001b[0m\u001b[1;35m \u001b[0m│\u001b[37m \u001b[0m\u001b[37m2     \u001b[0m\u001b[37m \u001b[0m│\u001b[32m \u001b[0m\u001b[32m0.0%      \u001b[0m\u001b[32m \u001b[0m│\n",
       "│\u001b[1;35m \u001b[0m\u001b[1;35m.svg     \u001b[0m\u001b[1;35m \u001b[0m│\u001b[37m \u001b[0m\u001b[37m28,545\u001b[0m\u001b[37m \u001b[0m│\u001b[32m \u001b[0m\u001b[32m48.4%     \u001b[0m\u001b[32m \u001b[0m│\n",
       "│\u001b[1;35m \u001b[0m\u001b[1;35m.h       \u001b[0m\u001b[1;35m \u001b[0m│\u001b[37m \u001b[0m\u001b[37m1,050 \u001b[0m\u001b[37m \u001b[0m│\u001b[32m \u001b[0m\u001b[32m1.8%      \u001b[0m\u001b[32m \u001b[0m│\n",
       "│\u001b[1;35m \u001b[0m\u001b[1;35m.bat     \u001b[0m\u001b[1;35m \u001b[0m│\u001b[37m \u001b[0m\u001b[37m11    \u001b[0m\u001b[37m \u001b[0m│\u001b[32m \u001b[0m\u001b[32m0.0%      \u001b[0m\u001b[32m \u001b[0m│\n",
       "│\u001b[1;35m \u001b[0m\u001b[1;35m.c       \u001b[0m\u001b[1;35m \u001b[0m│\u001b[37m \u001b[0m\u001b[37m116   \u001b[0m\u001b[37m \u001b[0m│\u001b[32m \u001b[0m\u001b[32m0.2%      \u001b[0m\u001b[32m \u001b[0m│\n",
       "│\u001b[1;35m \u001b[0m\u001b[1;35m.crt     \u001b[0m\u001b[1;35m \u001b[0m│\u001b[37m \u001b[0m\u001b[37m2     \u001b[0m\u001b[37m \u001b[0m│\u001b[32m \u001b[0m\u001b[32m0.0%      \u001b[0m\u001b[32m \u001b[0m│\n",
       "└───────────┴────────┴────────────┘\n"
      ]
     },
     "metadata": {},
     "output_type": "display_data"
    },
    {
     "data": {
      "text/html": [
       "<pre style=\"white-space:pre;overflow-x:auto;line-height:normal;font-family:Menlo,'DejaVu Sans Mono',consolas,'Courier New',monospace\">\n",
       "</pre>\n"
      ],
      "text/plain": [
       "\n"
      ]
     },
     "metadata": {},
     "output_type": "display_data"
    },
    {
     "data": {
      "text/html": [
       "<pre style=\"white-space:pre;overflow-x:auto;line-height:normal;font-family:Menlo,'DejaVu Sans Mono',consolas,'Courier New',monospace\"><span style=\"font-style: italic\">             Common Folder Names              </span>\n",
       "┏━━━━━━━━━━━━━━━━━━━━━━━━━━━━━━┳━━━━━━━━━━━━━┓\n",
       "┃<span style=\"font-weight: bold\"> Folder Name                  </span>┃<span style=\"font-weight: bold\"> Occurrences </span>┃\n",
       "┡━━━━━━━━━━━━━━━━━━━━━━━━━━━━━━╇━━━━━━━━━━━━━┩\n",
       "│<span style=\"color: #000080; text-decoration-color: #000080; font-weight: bold\"> smallvec-a3b5968bd48d19e5    </span>│<span style=\"color: #c0c0c0; text-decoration-color: #c0c0c0\"> 1           </span>│\n",
       "│<span style=\"color: #000080; text-decoration-color: #000080; font-weight: bold\"> sitemaps                     </span>│<span style=\"color: #c0c0c0; text-decoration-color: #c0c0c0\"> 2           </span>│\n",
       "│<span style=\"color: #000080; text-decoration-color: #000080; font-weight: bold\"> formatted_text               </span>│<span style=\"color: #c0c0c0; text-decoration-color: #c0c0c0\"> 2           </span>│\n",
       "│<span style=\"color: #000080; text-decoration-color: #000080; font-weight: bold\"> pydevd                       </span>│<span style=\"color: #c0c0c0; text-decoration-color: #c0c0c0\"> 2           </span>│\n",
       "│<span style=\"color: #000080; text-decoration-color: #000080; font-weight: bold\"> files                        </span>│<span style=\"color: #c0c0c0; text-decoration-color: #c0c0c0\"> 4           </span>│\n",
       "│<span style=\"color: #000080; text-decoration-color: #000080; font-weight: bold\"> object                       </span>│<span style=\"color: #c0c0c0; text-decoration-color: #c0c0c0\"> 2           </span>│\n",
       "│<span style=\"color: #000080; text-decoration-color: #000080; font-weight: bold\"> 12                           </span>│<span style=\"color: #c0c0c0; text-decoration-color: #c0c0c0\"> 1           </span>│\n",
       "│<span style=\"color: #000080; text-decoration-color: #000080; font-weight: bold\"> proc-macro2-9702d12caf4464c3 </span>│<span style=\"color: #c0c0c0; text-decoration-color: #c0c0c0\"> 1           </span>│\n",
       "│<span style=\"color: #000080; text-decoration-color: #000080; font-weight: bold\"> 62                           </span>│<span style=\"color: #c0c0c0; text-decoration-color: #c0c0c0\"> 1           </span>│\n",
       "│<span style=\"color: #000080; text-decoration-color: #000080; font-weight: bold\"> value                        </span>│<span style=\"color: #c0c0c0; text-decoration-color: #c0c0c0\"> 2           </span>│\n",
       "└──────────────────────────────┴─────────────┘\n",
       "</pre>\n"
      ],
      "text/plain": [
       "\u001b[3m             Common Folder Names              \u001b[0m\n",
       "┏━━━━━━━━━━━━━━━━━━━━━━━━━━━━━━┳━━━━━━━━━━━━━┓\n",
       "┃\u001b[1m \u001b[0m\u001b[1mFolder Name                 \u001b[0m\u001b[1m \u001b[0m┃\u001b[1m \u001b[0m\u001b[1mOccurrences\u001b[0m\u001b[1m \u001b[0m┃\n",
       "┡━━━━━━━━━━━━━━━━━━━━━━━━━━━━━━╇━━━━━━━━━━━━━┩\n",
       "│\u001b[1;34m \u001b[0m\u001b[1;34msmallvec-a3b5968bd48d19e5   \u001b[0m\u001b[1;34m \u001b[0m│\u001b[37m \u001b[0m\u001b[37m1          \u001b[0m\u001b[37m \u001b[0m│\n",
       "│\u001b[1;34m \u001b[0m\u001b[1;34msitemaps                    \u001b[0m\u001b[1;34m \u001b[0m│\u001b[37m \u001b[0m\u001b[37m2          \u001b[0m\u001b[37m \u001b[0m│\n",
       "│\u001b[1;34m \u001b[0m\u001b[1;34mformatted_text              \u001b[0m\u001b[1;34m \u001b[0m│\u001b[37m \u001b[0m\u001b[37m2          \u001b[0m\u001b[37m \u001b[0m│\n",
       "│\u001b[1;34m \u001b[0m\u001b[1;34mpydevd                      \u001b[0m\u001b[1;34m \u001b[0m│\u001b[37m \u001b[0m\u001b[37m2          \u001b[0m\u001b[37m \u001b[0m│\n",
       "│\u001b[1;34m \u001b[0m\u001b[1;34mfiles                       \u001b[0m\u001b[1;34m \u001b[0m│\u001b[37m \u001b[0m\u001b[37m4          \u001b[0m\u001b[37m \u001b[0m│\n",
       "│\u001b[1;34m \u001b[0m\u001b[1;34mobject                      \u001b[0m\u001b[1;34m \u001b[0m│\u001b[37m \u001b[0m\u001b[37m2          \u001b[0m\u001b[37m \u001b[0m│\n",
       "│\u001b[1;34m \u001b[0m\u001b[1;34m12                          \u001b[0m\u001b[1;34m \u001b[0m│\u001b[37m \u001b[0m\u001b[37m1          \u001b[0m\u001b[37m \u001b[0m│\n",
       "│\u001b[1;34m \u001b[0m\u001b[1;34mproc-macro2-9702d12caf4464c3\u001b[0m\u001b[1;34m \u001b[0m│\u001b[37m \u001b[0m\u001b[37m1          \u001b[0m\u001b[37m \u001b[0m│\n",
       "│\u001b[1;34m \u001b[0m\u001b[1;34m62                          \u001b[0m\u001b[1;34m \u001b[0m│\u001b[37m \u001b[0m\u001b[37m1          \u001b[0m\u001b[37m \u001b[0m│\n",
       "│\u001b[1;34m \u001b[0m\u001b[1;34mvalue                       \u001b[0m\u001b[1;34m \u001b[0m│\u001b[37m \u001b[0m\u001b[37m2          \u001b[0m\u001b[37m \u001b[0m│\n",
       "└──────────────────────────────┴─────────────┘\n"
      ]
     },
     "metadata": {},
     "output_type": "display_data"
    },
    {
     "data": {
      "text/html": [
       "<pre style=\"white-space:pre;overflow-x:auto;line-height:normal;font-family:Menlo,'DejaVu Sans Mono',consolas,'Courier New',monospace\">\n",
       "</pre>\n"
      ],
      "text/plain": [
       "\n"
      ]
     },
     "metadata": {},
     "output_type": "display_data"
    },
    {
     "data": {
      "text/html": [
       "<pre style=\"white-space:pre;overflow-x:auto;line-height:normal;font-family:Menlo,'DejaVu Sans Mono',consolas,'Courier New',monospace\"><span style=\"font-style: italic\">                             Empty Folders (showing 20 of 53)                             </span>\n",
       "┏━━━━━━━━━━━━━━━━━━━━━━━━━━━━━━━━━━━━━━━━━━━━━━━━━━━━━━━━━━━━━━━━━━━━━━━━━━━━━━━━━━━━━━━━┓\n",
       "┃<span style=\"font-weight: bold\"> Path                                                                                   </span>┃\n",
       "┡━━━━━━━━━━━━━━━━━━━━━━━━━━━━━━━━━━━━━━━━━━━━━━━━━━━━━━━━━━━━━━━━━━━━━━━━━━━━━━━━━━━━━━━━┩\n",
       "│<span style=\"color: #808000; text-decoration-color: #808000\"> /home/kalfasy/repos/filoma/notebooks/tests                                             </span>│\n",
       "│<span style=\"color: #808000; text-decoration-color: #808000\"> /home/kalfasy/repos/filoma/target/debug/build/proc-macro2-fdcb222da4373f07/out         </span>│\n",
       "│<span style=\"color: #808000; text-decoration-color: #808000\"> /home/kalfasy/repos/filoma/target/debug/build/pyo3-17c1b0b456a0c7e4/out                </span>│\n",
       "│<span style=\"color: #808000; text-decoration-color: #808000\"> /home/kalfasy/repos/filoma/target/debug/build/crossbeam-utils-7b9bd07d9fad49b5/out     </span>│\n",
       "│<span style=\"color: #808000; text-decoration-color: #808000\"> /home/kalfasy/repos/filoma/target/debug/build/serde_json-85cdf3d882972d5c/out          </span>│\n",
       "│<span style=\"color: #808000; text-decoration-color: #808000\"> /home/kalfasy/repos/filoma/target/debug/build/pyo3-8813d706ead48d90/out                </span>│\n",
       "│<span style=\"color: #808000; text-decoration-color: #808000\"> /home/kalfasy/repos/filoma/target/debug/build/pyo3-macros-backend-6807c5cda8b1462a/out </span>│\n",
       "│<span style=\"color: #808000; text-decoration-color: #808000\"> /home/kalfasy/repos/filoma/target/debug/build/memoffset-f4a6c90d4e3f18eb/out           </span>│\n",
       "│<span style=\"color: #808000; text-decoration-color: #808000\"> /home/kalfasy/repos/filoma/target/debug/build/rayon-core-03a79c366c595edc/out          </span>│\n",
       "│<span style=\"color: #808000; text-decoration-color: #808000\"> /home/kalfasy/repos/filoma/target/debug/build/pyo3-macros-backend-3864f2b2dbf9644d/out </span>│\n",
       "│<span style=\"color: #808000; text-decoration-color: #808000\"> /home/kalfasy/repos/filoma/target/debug/build/pyo3-264b9b4aa4d6a2b5/out                </span>│\n",
       "│<span style=\"color: #808000; text-decoration-color: #808000\"> /home/kalfasy/repos/filoma/target/debug/build/portable-atomic-f4353affba5b92e8/out     </span>│\n",
       "│<span style=\"color: #808000; text-decoration-color: #808000\"> /home/kalfasy/repos/filoma/target/debug/build/pyo3-ffi-747a9d93a69eb79b/out            </span>│\n",
       "│<span style=\"color: #808000; text-decoration-color: #808000\"> /home/kalfasy/repos/filoma/target/debug/build/proc-macro2-4d577003447afa24/out         </span>│\n",
       "│<span style=\"color: #808000; text-decoration-color: #808000\"> /home/kalfasy/repos/filoma/target/debug/build/pyo3-ffi-8e536f56d2d22bd8/out            </span>│\n",
       "│<span style=\"color: #808000; text-decoration-color: #808000\"> /home/kalfasy/repos/filoma/target/debug/build/libc-9d68f4abca27c9af/out                </span>│\n",
       "│<span style=\"color: #808000; text-decoration-color: #808000\"> /home/kalfasy/repos/filoma/target/debug/build/lock_api-96adb08174198570/out            </span>│\n",
       "│<span style=\"color: #808000; text-decoration-color: #808000\"> /home/kalfasy/repos/filoma/target/debug/build/serde-6690732fba37d144/out               </span>│\n",
       "│<span style=\"color: #808000; text-decoration-color: #808000\"> /home/kalfasy/repos/filoma/target/debug/build/parking_lot_core-d5ba795b49a036a8/out    </span>│\n",
       "│<span style=\"color: #808000; text-decoration-color: #808000\"> /home/kalfasy/repos/filoma/target/debug/build/pyo3-ffi-0b1b893f015622ee/out            </span>│\n",
       "│<span style=\"color: #808000; text-decoration-color: #808000\"> ... and 33 more                                                                        </span>│\n",
       "└────────────────────────────────────────────────────────────────────────────────────────┘\n",
       "</pre>\n"
      ],
      "text/plain": [
       "\u001b[3m                             Empty Folders (showing 20 of 53)                             \u001b[0m\n",
       "┏━━━━━━━━━━━━━━━━━━━━━━━━━━━━━━━━━━━━━━━━━━━━━━━━━━━━━━━━━━━━━━━━━━━━━━━━━━━━━━━━━━━━━━━━┓\n",
       "┃\u001b[1m \u001b[0m\u001b[1mPath                                                                                  \u001b[0m\u001b[1m \u001b[0m┃\n",
       "┡━━━━━━━━━━━━━━━━━━━━━━━━━━━━━━━━━━━━━━━━━━━━━━━━━━━━━━━━━━━━━━━━━━━━━━━━━━━━━━━━━━━━━━━━┩\n",
       "│\u001b[33m \u001b[0m\u001b[33m/home/kalfasy/repos/filoma/notebooks/tests                                            \u001b[0m\u001b[33m \u001b[0m│\n",
       "│\u001b[33m \u001b[0m\u001b[33m/home/kalfasy/repos/filoma/target/debug/build/proc-macro2-fdcb222da4373f07/out        \u001b[0m\u001b[33m \u001b[0m│\n",
       "│\u001b[33m \u001b[0m\u001b[33m/home/kalfasy/repos/filoma/target/debug/build/pyo3-17c1b0b456a0c7e4/out               \u001b[0m\u001b[33m \u001b[0m│\n",
       "│\u001b[33m \u001b[0m\u001b[33m/home/kalfasy/repos/filoma/target/debug/build/crossbeam-utils-7b9bd07d9fad49b5/out    \u001b[0m\u001b[33m \u001b[0m│\n",
       "│\u001b[33m \u001b[0m\u001b[33m/home/kalfasy/repos/filoma/target/debug/build/serde_json-85cdf3d882972d5c/out         \u001b[0m\u001b[33m \u001b[0m│\n",
       "│\u001b[33m \u001b[0m\u001b[33m/home/kalfasy/repos/filoma/target/debug/build/pyo3-8813d706ead48d90/out               \u001b[0m\u001b[33m \u001b[0m│\n",
       "│\u001b[33m \u001b[0m\u001b[33m/home/kalfasy/repos/filoma/target/debug/build/pyo3-macros-backend-6807c5cda8b1462a/out\u001b[0m\u001b[33m \u001b[0m│\n",
       "│\u001b[33m \u001b[0m\u001b[33m/home/kalfasy/repos/filoma/target/debug/build/memoffset-f4a6c90d4e3f18eb/out          \u001b[0m\u001b[33m \u001b[0m│\n",
       "│\u001b[33m \u001b[0m\u001b[33m/home/kalfasy/repos/filoma/target/debug/build/rayon-core-03a79c366c595edc/out         \u001b[0m\u001b[33m \u001b[0m│\n",
       "│\u001b[33m \u001b[0m\u001b[33m/home/kalfasy/repos/filoma/target/debug/build/pyo3-macros-backend-3864f2b2dbf9644d/out\u001b[0m\u001b[33m \u001b[0m│\n",
       "│\u001b[33m \u001b[0m\u001b[33m/home/kalfasy/repos/filoma/target/debug/build/pyo3-264b9b4aa4d6a2b5/out               \u001b[0m\u001b[33m \u001b[0m│\n",
       "│\u001b[33m \u001b[0m\u001b[33m/home/kalfasy/repos/filoma/target/debug/build/portable-atomic-f4353affba5b92e8/out    \u001b[0m\u001b[33m \u001b[0m│\n",
       "│\u001b[33m \u001b[0m\u001b[33m/home/kalfasy/repos/filoma/target/debug/build/pyo3-ffi-747a9d93a69eb79b/out           \u001b[0m\u001b[33m \u001b[0m│\n",
       "│\u001b[33m \u001b[0m\u001b[33m/home/kalfasy/repos/filoma/target/debug/build/proc-macro2-4d577003447afa24/out        \u001b[0m\u001b[33m \u001b[0m│\n",
       "│\u001b[33m \u001b[0m\u001b[33m/home/kalfasy/repos/filoma/target/debug/build/pyo3-ffi-8e536f56d2d22bd8/out           \u001b[0m\u001b[33m \u001b[0m│\n",
       "│\u001b[33m \u001b[0m\u001b[33m/home/kalfasy/repos/filoma/target/debug/build/libc-9d68f4abca27c9af/out               \u001b[0m\u001b[33m \u001b[0m│\n",
       "│\u001b[33m \u001b[0m\u001b[33m/home/kalfasy/repos/filoma/target/debug/build/lock_api-96adb08174198570/out           \u001b[0m\u001b[33m \u001b[0m│\n",
       "│\u001b[33m \u001b[0m\u001b[33m/home/kalfasy/repos/filoma/target/debug/build/serde-6690732fba37d144/out              \u001b[0m\u001b[33m \u001b[0m│\n",
       "│\u001b[33m \u001b[0m\u001b[33m/home/kalfasy/repos/filoma/target/debug/build/parking_lot_core-d5ba795b49a036a8/out   \u001b[0m\u001b[33m \u001b[0m│\n",
       "│\u001b[33m \u001b[0m\u001b[33m/home/kalfasy/repos/filoma/target/debug/build/pyo3-ffi-0b1b893f015622ee/out           \u001b[0m\u001b[33m \u001b[0m│\n",
       "│\u001b[33m \u001b[0m\u001b[33m... and 33 more                                                                       \u001b[0m\u001b[33m \u001b[0m│\n",
       "└────────────────────────────────────────────────────────────────────────────────────────┘\n"
      ]
     },
     "metadata": {},
     "output_type": "display_data"
    },
    {
     "data": {
      "text/html": [
       "<pre style=\"white-space:pre;overflow-x:auto;line-height:normal;font-family:Menlo,'DejaVu Sans Mono',consolas,'Courier New',monospace\">\n",
       "</pre>\n"
      ],
      "text/plain": [
       "\n"
      ]
     },
     "metadata": {},
     "output_type": "display_data"
    }
   ],
   "source": [
    "dp1.print_report(analysis)"
   ]
  },
  {
   "cell_type": "markdown",
   "id": "448bc8d6",
   "metadata": {},
   "source": [
    "## 📁 Directory to DataFrame"
   ]
  },
  {
   "cell_type": "markdown",
   "id": "570832a2",
   "metadata": {},
   "source": [
    "Now that you saw what's up with your files, you might want to explore the data in a familiar format.   \n",
    "`filoma` can convert the analysis results into a Polars (or Pandas) DataFrame real quick.  \n",
    "**NOTE**: Pandas support requires the `pd` extra which you can install by running `uv sync --extra pd` in your terminal."
   ]
  },
  {
   "cell_type": "code",
   "execution_count": 4,
   "id": "9006315c",
   "metadata": {},
   "outputs": [
    {
     "name": "stderr",
     "output_type": "stream",
     "text": [
      "\u001b[32m2025-09-13 11:11:18.176\u001b[0m | \u001b[34m\u001b[1mDEBUG   \u001b[0m | \u001b[36mfiloma.directories.directory_profiler\u001b[0m:\u001b[36m__init__\u001b[0m:\u001b[36m343\u001b[0m - \u001b[34m\u001b[1mInteractive environment detected, disabling progress bars to avoid conflicts\u001b[0m\n",
      "\u001b[32m2025-09-13 11:11:18.177\u001b[0m | \u001b[1mINFO    \u001b[0m | \u001b[36mfiloma.directories.directory_profiler\u001b[0m:\u001b[36mprobe\u001b[0m:\u001b[36m430\u001b[0m - \u001b[1mStarting directory analysis of '../' using 🐍 Python implementation\u001b[0m\n",
      "\u001b[32m2025-09-13 11:11:18.527\u001b[0m | \u001b[32m\u001b[1mSUCCESS \u001b[0m | \u001b[36mfiloma.directories.directory_profiler\u001b[0m:\u001b[36mprobe\u001b[0m:\u001b[36m446\u001b[0m - \u001b[32m\u001b[1mDirectory analysis completed in 0.35s - Found 361 items (300 files, 61 folders) using 🐍 Python\u001b[0m\n"
     ]
    },
    {
     "name": "stdout",
     "output_type": "stream",
     "text": [
      "Found 360 files\n"
     ]
    },
    {
     "data": {
      "text/html": [
       "<div><style>\n",
       ".dataframe > thead > tr,\n",
       ".dataframe > tbody > tr {\n",
       "  text-align: right;\n",
       "  white-space: pre-wrap;\n",
       "}\n",
       "</style>\n",
       "<small>shape: (5, 18)</small><table border=\"1\" class=\"dataframe\"><thead><tr><th>path</th><th>depth</th><th>parent</th><th>name</th><th>stem</th><th>suffix</th><th>size_bytes</th><th>modified_time</th><th>created_time</th><th>is_file</th><th>is_dir</th><th>owner</th><th>group</th><th>mode_str</th><th>inode</th><th>nlink</th><th>sha256</th><th>xattrs</th></tr><tr><td>str</td><td>i64</td><td>str</td><td>str</td><td>str</td><td>str</td><td>i64</td><td>str</td><td>str</td><td>bool</td><td>bool</td><td>str</td><td>str</td><td>str</td><td>i64</td><td>i64</td><td>str</td><td>str</td></tr></thead><tbody><tr><td>&quot;../pyproject.toml&quot;</td><td>1</td><td>&quot;..&quot;</td><td>&quot;pyproject.toml&quot;</td><td>&quot;pyproject&quot;</td><td>&quot;.toml&quot;</td><td>1838</td><td>&quot;2025-09-11 18:00:08&quot;</td><td>&quot;2025-09-11 18:00:08&quot;</td><td>true</td><td>false</td><td>&quot;kalfasy&quot;</td><td>&quot;kalfasy&quot;</td><td>&quot;-rw-rw-r--&quot;</td><td>7579961</td><td>1</td><td>null</td><td>&quot;{}&quot;</td></tr><tr><td>&quot;../scripts&quot;</td><td>1</td><td>&quot;..&quot;</td><td>&quot;scripts&quot;</td><td>&quot;scripts&quot;</td><td>&quot;&quot;</td><td>4096</td><td>&quot;2025-09-05 20:26:25&quot;</td><td>&quot;2025-09-05 20:26:25&quot;</td><td>false</td><td>true</td><td>&quot;kalfasy&quot;</td><td>&quot;kalfasy&quot;</td><td>&quot;drwxrwxr-x&quot;</td><td>7603122</td><td>2</td><td>null</td><td>&quot;{}&quot;</td></tr><tr><td>&quot;../.pytest_cache&quot;</td><td>1</td><td>&quot;..&quot;</td><td>&quot;.pytest_cache&quot;</td><td>&quot;.pytest_cache&quot;</td><td>&quot;&quot;</td><td>4096</td><td>&quot;2025-07-05 22:28:03&quot;</td><td>&quot;2025-07-05 22:28:03&quot;</td><td>false</td><td>true</td><td>&quot;kalfasy&quot;</td><td>&quot;kalfasy&quot;</td><td>&quot;drwxrwxr-x&quot;</td><td>7604845</td><td>3</td><td>null</td><td>&quot;{}&quot;</td></tr><tr><td>&quot;../.vscode&quot;</td><td>1</td><td>&quot;..&quot;</td><td>&quot;.vscode&quot;</td><td>&quot;.vscode&quot;</td><td>&quot;&quot;</td><td>4096</td><td>&quot;2025-07-06 11:11:18&quot;</td><td>&quot;2025-07-06 11:11:18&quot;</td><td>false</td><td>true</td><td>&quot;kalfasy&quot;</td><td>&quot;kalfasy&quot;</td><td>&quot;drwxrwxr-x&quot;</td><td>7591635</td><td>2</td><td>null</td><td>&quot;{}&quot;</td></tr><tr><td>&quot;../Makefile&quot;</td><td>1</td><td>&quot;..&quot;</td><td>&quot;Makefile&quot;</td><td>&quot;Makefile&quot;</td><td>&quot;&quot;</td><td>2827</td><td>&quot;2025-09-07 22:29:37&quot;</td><td>&quot;2025-09-07 22:29:37&quot;</td><td>true</td><td>false</td><td>&quot;kalfasy&quot;</td><td>&quot;kalfasy&quot;</td><td>&quot;-rw-rw-r--&quot;</td><td>7603119</td><td>1</td><td>null</td><td>&quot;{}&quot;</td></tr></tbody></table></div>"
      ],
      "text/plain": [
       "shape: (5, 18)\n",
       "┌───────────────────┬───────┬────────┬────────────────┬───┬─────────┬───────┬────────┬────────┐\n",
       "│ path              ┆ depth ┆ parent ┆ name           ┆ … ┆ inode   ┆ nlink ┆ sha256 ┆ xattrs │\n",
       "│ ---               ┆ ---   ┆ ---    ┆ ---            ┆   ┆ ---     ┆ ---   ┆ ---    ┆ ---    │\n",
       "│ str               ┆ i64   ┆ str    ┆ str            ┆   ┆ i64     ┆ i64   ┆ str    ┆ str    │\n",
       "╞═══════════════════╪═══════╪════════╪════════════════╪═══╪═════════╪═══════╪════════╪════════╡\n",
       "│ ../pyproject.toml ┆ 1     ┆ ..     ┆ pyproject.toml ┆ … ┆ 7579961 ┆ 1     ┆ null   ┆ {}     │\n",
       "│ ../scripts        ┆ 1     ┆ ..     ┆ scripts        ┆ … ┆ 7603122 ┆ 2     ┆ null   ┆ {}     │\n",
       "│ ../.pytest_cache  ┆ 1     ┆ ..     ┆ .pytest_cache  ┆ … ┆ 7604845 ┆ 3     ┆ null   ┆ {}     │\n",
       "│ ../.vscode        ┆ 1     ┆ ..     ┆ .vscode        ┆ … ┆ 7591635 ┆ 2     ┆ null   ┆ {}     │\n",
       "│ ../Makefile       ┆ 1     ┆ ..     ┆ Makefile       ┆ … ┆ 7603119 ┆ 1     ┆ null   ┆ {}     │\n",
       "└───────────────────┴───────┴────────┴────────────────┴───┴─────────┴───────┴────────┴────────┘"
      ]
     },
     "execution_count": 4,
     "metadata": {},
     "output_type": "execute_result"
    }
   ],
   "source": [
    "from filoma import probe_to_df\n",
    "\n",
    "df = probe_to_df(\"../\", max_depth=2, enrich=True)\n",
    "print(f\"Found {len(df)} files\")\n",
    "df.head()"
   ]
  },
  {
   "cell_type": "code",
   "execution_count": 5,
   "id": "34b6a71e",
   "metadata": {},
   "outputs": [
    {
     "name": "stdout",
     "output_type": "stream",
     "text": [
      "Type of df: type(df.to_pandas()), shape: (360, 18)\n"
     ]
    }
   ],
   "source": [
    "print(f\"Type of df: type(df.to_pandas()), shape: {df.to_pandas().shape}\")"
   ]
  },
  {
   "cell_type": "markdown",
   "id": "6e28af33",
   "metadata": {},
   "source": [
    "#### ⚡ DataFrame enrichment"
   ]
  },
  {
   "cell_type": "markdown",
   "id": "e12bb3a5",
   "metadata": {},
   "source": [
    "You're probably wondering \"what is `enrich=True`?\"  \n",
    "Well, since `filoma` gathers the paths of your files in a DataFrame, why not enrich this DataFrame with additional metadata. Its own `DataFrame` class has convenience functions like: `add_path_components()`, `add_file_stats_cols()`, `add_depth_col()`  \n",
    "  \n",
    "Let's see it in action:"
   ]
  },
  {
   "cell_type": "code",
   "execution_count": 6,
   "id": "a611ca15",
   "metadata": {},
   "outputs": [
    {
     "name": "stderr",
     "output_type": "stream",
     "text": [
      "\u001b[32m2025-09-13 11:11:18.615\u001b[0m | \u001b[34m\u001b[1mDEBUG   \u001b[0m | \u001b[36mfiloma.directories.directory_profiler\u001b[0m:\u001b[36m__init__\u001b[0m:\u001b[36m343\u001b[0m - \u001b[34m\u001b[1mInteractive environment detected, disabling progress bars to avoid conflicts\u001b[0m\n",
      "\u001b[32m2025-09-13 11:11:18.616\u001b[0m | \u001b[1mINFO    \u001b[0m | \u001b[36mfiloma.directories.directory_profiler\u001b[0m:\u001b[36mprobe\u001b[0m:\u001b[36m430\u001b[0m - \u001b[1mStarting directory analysis of '../' using 🦀 Rust (Parallel) implementation\u001b[0m\n",
      "\u001b[32m2025-09-13 11:11:19.448\u001b[0m | \u001b[32m\u001b[1mSUCCESS \u001b[0m | \u001b[36mfiloma.directories.directory_profiler\u001b[0m:\u001b[36mprobe\u001b[0m:\u001b[36m446\u001b[0m - \u001b[32m\u001b[1mDirectory analysis completed in 0.83s - Found 62,801 items (58,979 files, 3,822 folders) using 🦀 Rust (Parallel)\u001b[0m\n"
     ]
    },
    {
     "name": "stdout",
     "output_type": "stream",
     "text": [
      "Columns before enrich: ['path']\n",
      "shape: (3, 1)\n",
      "┌───────────────────┐\n",
      "│ path              │\n",
      "│ ---               │\n",
      "│ str               │\n",
      "╞═══════════════════╡\n",
      "│ ../pyproject.toml │\n",
      "│ ../scripts        │\n",
      "│ ../.pytest_cache  │\n",
      "└───────────────────┘\n",
      "\n",
      "New columns after enrich: ['created_time', 'depth', 'group', 'inode', 'is_dir', 'is_file', 'mode_str', 'modified_time', 'name', 'nlink', 'owner', 'parent', 'sha256', 'size_bytes', 'stem', 'suffix', 'xattrs']\n",
      "shape: (3, 18)\n",
      "┌──────────────────┬────────┬────────────────┬───────────────┬───┬───────┬────────┬────────┬───────┐\n",
      "│ path             ┆ parent ┆ name           ┆ stem          ┆ … ┆ nlink ┆ sha256 ┆ xattrs ┆ depth │\n",
      "│ ---              ┆ ---    ┆ ---            ┆ ---           ┆   ┆ ---   ┆ ---    ┆ ---    ┆ ---   │\n",
      "│ str              ┆ str    ┆ str            ┆ str           ┆   ┆ i64   ┆ str    ┆ str    ┆ i64   │\n",
      "╞══════════════════╪════════╪════════════════╪═══════════════╪═══╪═══════╪════════╪════════╪═══════╡\n",
      "│ ../pyproject.tom ┆ ..     ┆ pyproject.toml ┆ pyproject     ┆ … ┆ 1     ┆ null   ┆ {}     ┆ 1     │\n",
      "│ l                ┆        ┆                ┆               ┆   ┆       ┆        ┆        ┆       │\n",
      "│ ../scripts       ┆ ..     ┆ scripts        ┆ scripts       ┆ … ┆ 2     ┆ null   ┆ {}     ┆ 1     │\n",
      "│ ../.pytest_cache ┆ ..     ┆ .pytest_cache  ┆ .pytest_cache ┆ … ┆ 3     ┆ null   ┆ {}     ┆ 1     │\n",
      "└──────────────────┴────────┴────────────────┴───────────────┴───┴───────┴────────┴────────┴───────┘\n"
     ]
    }
   ],
   "source": [
    "from filoma.directories import DirectoryProfiler, DirectoryProfilerConfig\n",
    "\n",
    "cfg = DirectoryProfilerConfig(build_dataframe=True, use_rust=True, return_absolute_paths=True)\n",
    "dprof = DirectoryProfiler(cfg)\n",
    "res = dprof.probe(\"../\")\n",
    "\n",
    "default_columns = res.dataframe.columns\n",
    "print(f\"Columns before enrich: {default_columns}\")\n",
    "print(f\"{res.dataframe.head(3)}\\n\")\n",
    "\n",
    "df = res.dataframe.enrich()\n",
    "new_columns = list(set(df.columns) - set(default_columns))\n",
    "new_columns.sort()\n",
    "print(f\"New columns after enrich: {new_columns}\")\n",
    "print(df.head(3))"
   ]
  },
  {
   "cell_type": "markdown",
   "id": "85423605",
   "metadata": {},
   "source": [
    "## 🤖 ML-ready splits"
   ]
  },
  {
   "cell_type": "markdown",
   "id": "daabef4e",
   "metadata": {},
   "source": [
    "The next logical thing for `filoma` to serve in data science workflows is to provide easy ways to create ML-ready splits.  \n",
    "\n",
    "In a very simple case, you have a dataframe with a `split`/`label`/... column that you want to use to create the splits like so:  \n",
    "> train, val, test = df[df[\"split\"] == \"train\"], df[df[\"split\"] == \"val\"], df[df[\"split\"] == \"test\"]  \n",
    "\n",
    "But things are rarely that simple in practice.  \n",
    "\n",
    "When you're given data in the \"real world\", either in folders & files or in a dataframe, you often need to create the splits yourself.  \n",
    "  \n",
    ">*Many practicioners unfortunately often disregard the importance of the data splits and split their data randomly, which can lead to data leakage, overfitting issues and unrealistic performance metrics*  \n",
    "\n",
    "A minimum best practice is to split your data into 3 sets:  \n",
    "- *Training set*: used to train your model\n",
    "- *Validation set*: used to tune your model's hyperparameters\n",
    "- *Testing set*: used to evaluate the final performance of your model  \n",
    "\n",
    "Ideally, you'd want to use a validation set that is representative of your test set, and both should be representative of your real-world data. So, special care should be taken to ensure that the splits are done correctly.  "
   ]
  },
  {
   "cell_type": "markdown",
   "id": "43ec30d9",
   "metadata": {},
   "source": [
    "##### 📚 traditional `sklearn` way"
   ]
  },
  {
   "cell_type": "markdown",
   "id": "d1b50845",
   "metadata": {},
   "source": [
    "A very popular (if not the most popular) way of splitting data, is to use `scikit-learn`'s function called `train_test_split` that can split your data into training and testing sets. It can do that for you rather easily, although you'll need to call it twice if you want a 3-way split.:  \n",
    "> from sklearn.model_selection import train_test_split  \n",
    "> train, temp = train_test_split(df, test_size=0.4)  \n",
    "> val, test = train_test_split(temp, test_size=0.5)  \n",
    "\n",
    "Isn't it confusing that you just wanted a 60/20/20 split but had to specify 40% and then 50%? Imagine doing this for a 70/20/10 split...\n",
    "> from sklearn.model_selection import train_test_split  \n",
    "> train, temp = train_test_split(df, test_size=0.3)  \n",
    "> val, test = train_test_split(temp, test_size=0.3333)  "
   ]
  },
  {
   "cell_type": "markdown",
   "id": "d84a82bf",
   "metadata": {},
   "source": [
    "##### 🧙‍♂️ filoma's `split` method"
   ]
  },
  {
   "cell_type": "markdown",
   "id": "1745d8d7",
   "metadata": {},
   "source": [
    "\n",
    "`filoma` takes this a step further by providing a function that can not only split your data into training, validation, and testing sets in one-go, but also do that based on features found in your file-names or directories.  \n"
   ]
  },
  {
   "cell_type": "code",
   "execution_count": 14,
   "id": "d9056ab4",
   "metadata": {},
   "outputs": [
    {
     "data": {
      "text/html": [
       "<div><style>\n",
       ".dataframe > thead > tr,\n",
       ".dataframe > tbody > tr {\n",
       "  text-align: right;\n",
       "  white-space: pre-wrap;\n",
       "}\n",
       "</style>\n",
       "<small>shape: (9, 5)</small><table border=\"1\" class=\"dataframe\"><thead><tr><th>path</th><th>breed</th><th>color</th><th>number</th><th>parent</th></tr><tr><td>str</td><td>str</td><td>str</td><td>str</td><td>str</td></tr></thead><tbody><tr><td>&quot;dog/labrador_black_001.jpg&quot;</td><td>&quot;labrador&quot;</td><td>&quot;black&quot;</td><td>&quot;001&quot;</td><td>&quot;dog&quot;</td></tr><tr><td>&quot;dog/labrador_black_002.jpg&quot;</td><td>&quot;labrador&quot;</td><td>&quot;black&quot;</td><td>&quot;002&quot;</td><td>&quot;dog&quot;</td></tr><tr><td>&quot;dog/beagle_tricolor_003.jpg&quot;</td><td>&quot;beagle&quot;</td><td>&quot;tricolor&quot;</td><td>&quot;003&quot;</td><td>&quot;dog&quot;</td></tr><tr><td>&quot;cat/siamese_sealpoint_001.jpg&quot;</td><td>&quot;siamese&quot;</td><td>&quot;sealpoint&quot;</td><td>&quot;001&quot;</td><td>&quot;cat&quot;</td></tr><tr><td>&quot;cat/siamese_sealpoint_002.jpg&quot;</td><td>&quot;siamese&quot;</td><td>&quot;sealpoint&quot;</td><td>&quot;002&quot;</td><td>&quot;cat&quot;</td></tr><tr><td>&quot;cat/mainecoon_tabby_003.jpg&quot;</td><td>&quot;mainecoon&quot;</td><td>&quot;tabby&quot;</td><td>&quot;003&quot;</td><td>&quot;cat&quot;</td></tr><tr><td>&quot;bird/sparrow_hatchling_001.jpg&quot;</td><td>&quot;sparrow&quot;</td><td>&quot;hatchling&quot;</td><td>&quot;001&quot;</td><td>&quot;bird&quot;</td></tr><tr><td>&quot;bird/robin_adult_002.jpg&quot;</td><td>&quot;robin&quot;</td><td>&quot;adult&quot;</td><td>&quot;002&quot;</td><td>&quot;bird&quot;</td></tr><tr><td>&quot;bird/robin_adult_003.jpg&quot;</td><td>&quot;robin&quot;</td><td>&quot;adult&quot;</td><td>&quot;003&quot;</td><td>&quot;bird&quot;</td></tr></tbody></table></div>"
      ],
      "text/plain": [
       "filoma.DataFrame with 9 rows\n",
       "shape: (9, 5)\n",
       "┌────────────────────────────────┬───────────┬───────────┬────────┬────────┐\n",
       "│ path                           ┆ breed     ┆ color     ┆ number ┆ parent │\n",
       "│ ---                            ┆ ---       ┆ ---       ┆ ---    ┆ ---    │\n",
       "│ str                            ┆ str       ┆ str       ┆ str    ┆ str    │\n",
       "╞════════════════════════════════╪═══════════╪═══════════╪════════╪════════╡\n",
       "│ dog/labrador_black_001.jpg     ┆ labrador  ┆ black     ┆ 001    ┆ dog    │\n",
       "│ dog/labrador_black_002.jpg     ┆ labrador  ┆ black     ┆ 002    ┆ dog    │\n",
       "│ dog/beagle_tricolor_003.jpg    ┆ beagle    ┆ tricolor  ┆ 003    ┆ dog    │\n",
       "│ cat/siamese_sealpoint_001.jpg  ┆ siamese   ┆ sealpoint ┆ 001    ┆ cat    │\n",
       "│ cat/siamese_sealpoint_002.jpg  ┆ siamese   ┆ sealpoint ┆ 002    ┆ cat    │\n",
       "│ cat/mainecoon_tabby_003.jpg    ┆ mainecoon ┆ tabby     ┆ 003    ┆ cat    │\n",
       "│ bird/sparrow_hatchling_001.jpg ┆ sparrow   ┆ hatchling ┆ 001    ┆ bird   │\n",
       "│ bird/robin_adult_002.jpg       ┆ robin     ┆ adult     ┆ 002    ┆ bird   │\n",
       "│ bird/robin_adult_003.jpg       ┆ robin     ┆ adult     ┆ 003    ┆ bird   │\n",
       "└────────────────────────────────┴───────────┴───────────┴────────┴────────┘"
      ]
     },
     "execution_count": 14,
     "metadata": {},
     "output_type": "execute_result"
    }
   ],
   "source": [
    "from filoma import DataFrame\n",
    "\n",
    "# For example, your data might have subcategories encoded in filenames\n",
    "# like dog_bulldog_001.jpg, dog_bulldog_002.jpg, cat_siamese_001.jpg, etc.\n",
    "# You can use discover_filename_features to extract these features into separate columns.\n",
    "data = {\n",
    "    \"path\": [\n",
    "        \"dog/labrador_black_001.jpg\",\n",
    "        \"dog/labrador_black_002.jpg\",\n",
    "        \"dog/beagle_tricolor_003.jpg\",\n",
    "        \"cat/siamese_sealpoint_001.jpg\",\n",
    "        \"cat/siamese_sealpoint_002.jpg\",\n",
    "        \"cat/mainecoon_tabby_003.jpg\",\n",
    "        \"bird/sparrow_hatchling_001.jpg\",\n",
    "        \"bird/robin_adult_002.jpg\",\n",
    "        \"bird/robin_adult_003.jpg\",\n",
    "    ]\n",
    "}\n",
    "\n",
    "df = DataFrame(data)\n",
    "df.discover_filename_features(sep=\"_\", token_names=[\"breed\", \"color\", \"number\"], path_col=\"path\", enrich=False, include_parent=True, inplace=True)"
   ]
  },
  {
   "cell_type": "code",
   "execution_count": 15,
   "id": "fc5b5fc5",
   "metadata": {},
   "outputs": [
    {
     "name": "stdout",
     "output_type": "stream",
     "text": [
      "shape: (6, 2)\n",
      "┌───────────┬───────┐\n",
      "│ breed     ┆ count │\n",
      "│ ---       ┆ ---   │\n",
      "│ str       ┆ u32   │\n",
      "╞═══════════╪═══════╡\n",
      "│ beagle    ┆ 1     │\n",
      "│ robin     ┆ 2     │\n",
      "│ labrador  ┆ 2     │\n",
      "│ mainecoon ┆ 1     │\n",
      "│ siamese   ┆ 2     │\n",
      "│ sparrow   ┆ 1     │\n",
      "└───────────┴───────┘\n"
     ]
    }
   ],
   "source": [
    "# to do value_counts on polars dataframe\n",
    "print(df[\"breed\"].value_counts())"
   ]
  },
  {
   "cell_type": "code",
   "execution_count": 16,
   "id": "29f7ff75",
   "metadata": {},
   "outputs": [
    {
     "ename": "TypeError",
     "evalue": "auto_split() got an unexpected keyword argument 'how'",
     "output_type": "error",
     "traceback": [
      "\u001b[31m---------------------------------------------------------------------------\u001b[39m",
      "\u001b[31mTypeError\u001b[39m                                 Traceback (most recent call last)",
      "\u001b[36mCell\u001b[39m\u001b[36m \u001b[39m\u001b[32mIn[16]\u001b[39m\u001b[32m, line 1\u001b[39m\n\u001b[32m----> \u001b[39m\u001b[32m1\u001b[39m \u001b[43mdf\u001b[49m\u001b[43m.\u001b[49m\u001b[43mauto_split\u001b[49m\u001b[43m(\u001b[49m\u001b[43mseed\u001b[49m\u001b[43m=\u001b[49m\u001b[32;43m42\u001b[39;49m\u001b[43m,\u001b[49m\u001b[43m \u001b[49m\u001b[43mtrain_val_test\u001b[49m\u001b[43m=\u001b[49m\u001b[43m(\u001b[49m\u001b[32;43m60\u001b[39;49m\u001b[43m,\u001b[49m\u001b[43m \u001b[49m\u001b[32;43m20\u001b[39;49m\u001b[43m,\u001b[49m\u001b[43m \u001b[49m\u001b[32;43m20\u001b[39;49m\u001b[43m)\u001b[49m\u001b[43m)\u001b[49m\n",
      "\u001b[36mFile \u001b[39m\u001b[32m~/repos/filoma/src/filoma/dataframe.py:785\u001b[39m, in \u001b[36mDataFrame.auto_split\u001b[39m\u001b[34m(self, train_val_test, how, parts, seed, discover, sep, feat_prefix, max_tokens, include_parent, include_all_parts, token_names, path_col, verbose, return_type)\u001b[39m\n\u001b[32m    782\u001b[39m \u001b[38;5;66;03m# Local import to avoid loading ml utilities unless used\u001b[39;00m\n\u001b[32m    783\u001b[39m \u001b[38;5;28;01mfrom\u001b[39;00m\u001b[38;5;250m \u001b[39m\u001b[34;01m.\u001b[39;00m\u001b[38;5;250m \u001b[39m\u001b[38;5;28;01mimport\u001b[39;00m ml  \u001b[38;5;66;03m# type: ignore\u001b[39;00m\n\u001b[32m--> \u001b[39m\u001b[32m785\u001b[39m \u001b[38;5;28;01mreturn\u001b[39;00m \u001b[43mml\u001b[49m\u001b[43m.\u001b[49m\u001b[43mauto_split\u001b[49m\u001b[43m(\u001b[49m\n\u001b[32m    786\u001b[39m \u001b[43m    \u001b[49m\u001b[38;5;28;43mself\u001b[39;49m\u001b[43m,\u001b[49m\n\u001b[32m    787\u001b[39m \u001b[43m    \u001b[49m\u001b[43mtrain_val_test\u001b[49m\u001b[43m=\u001b[49m\u001b[43mtrain_val_test\u001b[49m\u001b[43m,\u001b[49m\n\u001b[32m    788\u001b[39m \u001b[43m    \u001b[49m\u001b[43mhow\u001b[49m\u001b[43m=\u001b[49m\u001b[43mhow\u001b[49m\u001b[43m,\u001b[49m\n\u001b[32m    789\u001b[39m \u001b[43m    \u001b[49m\u001b[43mparts\u001b[49m\u001b[43m=\u001b[49m\u001b[43mparts\u001b[49m\u001b[43m,\u001b[49m\n\u001b[32m    790\u001b[39m \u001b[43m    \u001b[49m\u001b[43mseed\u001b[49m\u001b[43m=\u001b[49m\u001b[43mseed\u001b[49m\u001b[43m,\u001b[49m\n\u001b[32m    791\u001b[39m \u001b[43m    \u001b[49m\u001b[43mdiscover\u001b[49m\u001b[43m=\u001b[49m\u001b[43mdiscover\u001b[49m\u001b[43m,\u001b[49m\n\u001b[32m    792\u001b[39m \u001b[43m    \u001b[49m\u001b[43msep\u001b[49m\u001b[43m=\u001b[49m\u001b[43msep\u001b[49m\u001b[43m,\u001b[49m\n\u001b[32m    793\u001b[39m \u001b[43m    \u001b[49m\u001b[43mfeat_prefix\u001b[49m\u001b[43m=\u001b[49m\u001b[43mfeat_prefix\u001b[49m\u001b[43m,\u001b[49m\n\u001b[32m    794\u001b[39m \u001b[43m    \u001b[49m\u001b[43mmax_tokens\u001b[49m\u001b[43m=\u001b[49m\u001b[43mmax_tokens\u001b[49m\u001b[43m,\u001b[49m\n\u001b[32m    795\u001b[39m \u001b[43m    \u001b[49m\u001b[43minclude_parent\u001b[49m\u001b[43m=\u001b[49m\u001b[43minclude_parent\u001b[49m\u001b[43m,\u001b[49m\n\u001b[32m    796\u001b[39m \u001b[43m    \u001b[49m\u001b[43minclude_all_parts\u001b[49m\u001b[43m=\u001b[49m\u001b[43minclude_all_parts\u001b[49m\u001b[43m,\u001b[49m\n\u001b[32m    797\u001b[39m \u001b[43m    \u001b[49m\u001b[43mtoken_names\u001b[49m\u001b[43m=\u001b[49m\u001b[43mtoken_names\u001b[49m\u001b[43m,\u001b[49m\n\u001b[32m    798\u001b[39m \u001b[43m    \u001b[49m\u001b[43mpath_col\u001b[49m\u001b[43m=\u001b[49m\u001b[43mpath_col\u001b[49m\u001b[43m,\u001b[49m\n\u001b[32m    799\u001b[39m \u001b[43m    \u001b[49m\u001b[43mverbose\u001b[49m\u001b[43m=\u001b[49m\u001b[43mverbose\u001b[49m\u001b[43m,\u001b[49m\n\u001b[32m    800\u001b[39m \u001b[43m    \u001b[49m\u001b[43mreturn_type\u001b[49m\u001b[43m=\u001b[49m\u001b[43mreturn_type\u001b[49m\u001b[43m,\u001b[49m\n\u001b[32m    801\u001b[39m \u001b[43m\u001b[49m\u001b[43m)\u001b[49m\n",
      "\u001b[31mTypeError\u001b[39m: auto_split() got an unexpected keyword argument 'how'"
     ]
    }
   ],
   "source": [
    "df.auto_split(seed=42, train_val_test=(60, 20, 20))"
   ]
  },
  {
   "cell_type": "code",
   "execution_count": null,
   "id": "1ab65e3d",
   "metadata": {},
   "outputs": [],
   "source": []
  },
  {
   "cell_type": "code",
   "execution_count": null,
   "id": "d27f6239",
   "metadata": {},
   "outputs": [],
   "source": [
    "from filoma import ml\n",
    "\n",
    "# Split into train/val/test sets with 70% train, 15% val, 15% test\n",
    "train, val, test = ml.auto_split(df, train_val_test=(70, 15, 15), seed=42, include_all_parts=True)\n",
    "print(f\"Split sizes: {len(train)}, {len(val)}, {len(test)}\")\n",
    "train.head(3)"
   ]
  },
  {
   "cell_type": "markdown",
   "id": "0765315b",
   "metadata": {},
   "source": [
    "## 📄 Single file probe"
   ]
  },
  {
   "cell_type": "code",
   "execution_count": null,
   "id": "d34c8f36",
   "metadata": {},
   "outputs": [],
   "source": [
    "from filoma import probe_file\n",
    "\n",
    "file_info = probe_file(\"../README.md\")\n",
    "print(f\"Path: {file_info.path}\")\n",
    "print(f\"Size: {file_info.size}\")\n",
    "print(f\"Modified: {file_info.modified}\")"
   ]
  },
  {
   "cell_type": "markdown",
   "id": "acdb71a7",
   "metadata": {},
   "source": [
    "## 🖼️ Image analysis"
   ]
  },
  {
   "cell_type": "code",
   "execution_count": null,
   "id": "494c733c",
   "metadata": {},
   "outputs": [],
   "source": [
    "from filoma import probe_image\n",
    "\n",
    "img = probe_image(\"../images/logo.png\")\n",
    "print(f\"Type: {img.file_type}\")\n",
    "print(f\"Shape: {img.shape}\")\n",
    "print(f\"Data range: {img.min} - {img.max}\")"
   ]
  }
 ],
 "metadata": {
  "kernelspec": {
   "display_name": "filoma (3.11.11)",
   "language": "python",
   "name": "python3"
  },
  "language_info": {
   "codemirror_mode": {
    "name": "ipython",
    "version": 3
   },
   "file_extension": ".py",
   "mimetype": "text/x-python",
   "name": "python",
   "nbconvert_exporter": "python",
   "pygments_lexer": "ipython3",
   "version": "3.11.11"
  }
 },
 "nbformat": 4,
 "nbformat_minor": 5
}
